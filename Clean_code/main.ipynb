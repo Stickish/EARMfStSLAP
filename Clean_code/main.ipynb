{
 "cells": [
  {
   "cell_type": "markdown",
   "metadata": {},
   "source": [
    "# Imports"
   ]
  },
  {
   "cell_type": "code",
   "execution_count": 1,
   "metadata": {},
   "outputs": [],
   "source": [
    "import pandas as pd\n",
    "import seaborn as sns\n",
    "import numpy as np\n",
    "from matplotlib import pyplot as plt\n",
    "from collections import defaultdict\n",
    "import pickle\n",
    "import time\n",
    "from tqdm import tqdm\n",
    "from copy import deepcopy\n",
    "import sys\n",
    "sys.setrecursionlimit(50000)\n",
    "import warnings\n",
    "warnings.filterwarnings(\"ignore\")\n",
    "\n",
    "import pre_processing as pp\n",
    "from arm import generate_itemsets, compute_ar_rules, get_arm_data\n",
    "from ear import compute_ear_rules\n",
    "# from ear_copy import compute_ear_rules\n",
    "from nn_rules import compute_nn_rules, get_rules\n",
    "from layout import Shelf, ShelfRow, Layout\n",
    "from warehouse import Warehouse\n",
    "from articles import create_articles\n",
    "from word_analysis import calculate_word_scores\n",
    "from greedy import Greedy\n",
    "# from genetic_algorithm2 import GeneticModel\n",
    "from ga import GeneticModel\n",
    "import trash_man as tm\n",
    "from evaluation import evaluate_solution_for_greedy, evaluate_solution, evaluate_solution_for_greedy_no_depot\n"
   ]
  },
  {
   "cell_type": "markdown",
   "metadata": {},
   "source": [
    "# Data Loading"
   ]
  },
  {
   "cell_type": "code",
   "execution_count": 2,
   "metadata": {},
   "outputs": [],
   "source": [
    "n_orders = 20000\n",
    "def create_data(cv_index):\n",
    "\n",
    "    data_1_2, data_3, data_4 = pp.train_val_test_split(data_path='../Data/full_data_2-20.csv', \n",
    "                                                       val_prop=0.25, test_prop=0.25, \n",
    "                                                       n_orders=n_orders*4)\n",
    "\n",
    "    data_1, data_2, data_22 = pp.train_val_test_split(data=data_1_2, \n",
    "                                                     val_prop=0.25, test_prop=0.25, \n",
    "                                                     n_orders=n_orders*2)\n",
    "\n",
    "    data_2 = pd.concat([data_2, data_22], ignore_index=True, axis=0)\n",
    "\n",
    "                                    \n",
    "    \n",
    "\n",
    "    if cv_index == 0:\n",
    "        data = data_1.reset_index().drop('index', axis=1)\n",
    "        \n",
    "    elif cv_index == 1:\n",
    "        data = data_2.reset_index().drop('index', axis=1)\n",
    "\n",
    "    elif cv_index == 2:\n",
    "        data = data_3.reset_index().drop('index', axis=1)\n",
    "\n",
    "    elif cv_index == 3:\n",
    "        data = data_4.reset_index().drop('index', axis=1)\n",
    "    train_data, val_data, test_data = pp.train_val_test_split(data=data, \n",
    "                                                              val_prop=0.25, test_prop=0.25, \n",
    "                                                              n_orders=n_orders)\n",
    "\n",
    "    # if cv_index == 2:\n",
    "    #     train_data, val_data, test_data = pp.train_val_test_split(data=train_data, \n",
    "    #                                                           val_prop=0.25, test_prop=0.25, \n",
    "    #                                                           n_orders=n_orders)\n",
    "\n",
    "\n",
    "    train_data = pd.concat([train_data, val_data], ignore_index=True, axis=0)                             \n",
    "    \n",
    "    train_data = pp.preprocess_data(train_data)\n",
    "    # val_data = pp.preprocess_data(val_data)\n",
    "    test_data = pp.preprocess_data(test_data)\n",
    "\n",
    "    # data_df = pd.concat([train_data, val_data], ignore_index=True, axis=0)\n",
    "\n",
    "    train_orders = pp.unique_orders(train_data)\n",
    "    # val_orders = pp.unique_orders(val_data)\n",
    "    test_orders = pp.unique_orders(test_data)\n",
    "\n",
    "    train_unique = list(train_data['ArticleName'].unique())\n",
    "    # val_unique = list(val_data['ArticleName'].unique())\n",
    "    # test_unique = list(test_data['ArticleName'].unique())\n",
    "\n",
    "    all_unique = pd.concat([train_data, test_data], ignore_index=True, axis=0)['ArticleName'].unique() \n",
    "\n",
    "    train_df, train_supports = get_arm_data(train_orders, list(all_unique))\n",
    "    test_df, _ = get_arm_data(test_orders, list(all_unique))\n",
    "\n",
    "\n",
    "\n",
    "    test_df = test_df.reindex(train_df.columns, axis=1)\n",
    "\n",
    "    article_list_ordered = list(train_df.columns)\n",
    "\n",
    "    # article_list_ordered = []\n",
    "    # for a in train_df.columns:\n",
    "    #     if a in data_df['ArticleName'].unique():\n",
    "    #         article_list_ordered.append(a)\n",
    "\n",
    "    vectorizer = pp.Vectorizer(article_list_ordered)\n",
    "\n",
    "    # X_train = vectorizer.vectorize_data(train_orders, num_negative_samples=1)\n",
    "    # X_val = vectorizer.vectorize_data(val_orders, num_negative_samples=1)\n",
    "    # X_test = vectorizer.vectorize_data(test_orders, num_negative_samples=1)\n",
    "\n",
    "    # article_names, article_vecs = vectorizer.get_articles_for_embedding(test_unique)\n",
    "\n",
    "    bow = vectorizer.get_sparse_bow_embeddings(list(all_unique), save_path=f'../Data/sparse_bow_{n_orders}_cv{cv_index}.pkl')\n",
    "\n",
    "\n",
    "    # print(len(article_names))\n",
    "\n",
    "    relevant_data = [train_df, test_df, train_supports, train_unique, all_unique, train_orders, vectorizer]\n",
    "    f = open(f'../Test code/Data/{n_orders}_orders/data_{cv_index}.pkl', \"wb\")\n",
    "    pickle.dump(relevant_data, f)\n",
    "    f.close()\n",
    "    return relevant_data"
   ]
  },
  {
   "cell_type": "code",
   "execution_count": 16,
   "metadata": {},
   "outputs": [],
   "source": [
    "def create_small_data(cv_index):\n",
    "    n_ord = 1000\n",
    "    data_1_2, data_3, data_4 = pp.train_val_test_split(data_path='../Data/full_data_2-20.csv', \n",
    "                                                       val_prop=0.25, test_prop=0.25, \n",
    "                                                       n_orders=n_ord*4)\n",
    "\n",
    "    data_1, data_2, data_22 = pp.train_val_test_split(data=data_1_2, \n",
    "                                                     val_prop=0.25, test_prop=0.25, \n",
    "                                                     n_orders=n_ord*2)\n",
    "\n",
    "    data_2 = pd.concat([data_2, data_22], ignore_index=True, axis=0)\n",
    "\n",
    "                                    \n",
    "    \n",
    "\n",
    "    if cv_index == 0:\n",
    "        data = data_1.reset_index().drop('index', axis=1)\n",
    "        \n",
    "    elif cv_index == 1:\n",
    "        data = data_2.reset_index().drop('index', axis=1)\n",
    "\n",
    "    elif cv_index == 2:\n",
    "        data = data_3.reset_index().drop('index', axis=1)\n",
    "\n",
    "    elif cv_index == 3:\n",
    "        data = data_4.reset_index().drop('index', axis=1)\n",
    "    train_data, val_data, test_data = pp.train_val_test_split(data=data, \n",
    "                                                              val_prop=0.25, test_prop=0.25, \n",
    "                                                              n_orders=n_ord)\n",
    "\n",
    "\n",
    "\n",
    "    train_data = pd.concat([train_data, val_data, test_data], ignore_index=True, axis=0)                             \n",
    "    test_data = train_data.copy()\n",
    "\n",
    "    train_data = pp.preprocess_data(train_data)\n",
    "    test_data = pp.preprocess_data(test_data)\n",
    "\n",
    "\n",
    "    train_orders = pp.unique_orders(train_data)\n",
    "    test_orders = pp.unique_orders(test_data)\n",
    "\n",
    "    train_unique = list(train_data['ArticleName'].unique())\n",
    "\n",
    "    all_unique = pd.concat([train_data, test_data], ignore_index=True, axis=0)['ArticleName'].unique() \n",
    "\n",
    "    train_df, train_supports = get_arm_data(train_orders, list(all_unique))\n",
    "    test_df, _ = get_arm_data(test_orders, list(all_unique))\n",
    "\n",
    "\n",
    "\n",
    "    test_df = test_df.reindex(train_df.columns)\n",
    "\n",
    "    article_list_ordered = list(train_df.columns)\n",
    "\n",
    "    vectorizer = pp.Vectorizer(article_list_ordered)\n",
    "\n",
    "    bow = vectorizer.get_sparse_bow_embeddings(list(all_unique), save_path=f'../Data/sparse_bow_{n_orders}_cv{cv_index}_small.pkl')\n",
    "\n",
    "    relevant_data = [train_df, test_df, train_supports, train_unique, all_unique, train_orders, vectorizer]\n",
    "    f = open(f'../Test code/Data/{n_orders}_orders/data_{cv_index}_small.pkl', \"wb\")\n",
    "    pickle.dump(relevant_data, f)\n",
    "    f.close()\n",
    "    return relevant_data"
   ]
  },
  {
   "cell_type": "code",
   "execution_count": 3,
   "metadata": {},
   "outputs": [],
   "source": [
    "def load_data(filepath):\n",
    "    f = open(filepath, \"rb\")\n",
    "    data = pickle.load(f)\n",
    "    f.close()\n",
    "    return data\n"
   ]
  },
  {
   "cell_type": "code",
   "execution_count": 5,
   "metadata": {},
   "outputs": [],
   "source": [
    "# create_data(0)\n",
    "# f = open(f'../../Test code/Data/{n_orders}_orders/data_0.pkl', \"rb\")\n",
    "# data = pickle.load(f)\n",
    "# f.close()\n",
    "# train_df, test_df, train_supports, train_unique, all_unique, train_orders, vectorizer = data"
   ]
  },
  {
   "cell_type": "code",
   "execution_count": 6,
   "metadata": {},
   "outputs": [],
   "source": [
    "# bow = vectorizer.get_sparse_bow_embeddings(list(all_unique), save_path=f'../Data/sparse_bow_{n_orders}_cv0.pkl')\n",
    "# print(bow['reflexväst reflexsele onesize neongrön'])"
   ]
  },
  {
   "cell_type": "code",
   "execution_count": 28,
   "metadata": {},
   "outputs": [],
   "source": [
    "n_orders = 20000\n",
    "\n",
    "layout_file = open('../Data/HP/layout_big.pkl', \"rb\")\n",
    "layout = pickle.load(layout_file)\n",
    "layout_file.close()\n",
    "\n",
    "\n",
    "# plt.figure(figsize=(20,20))\n",
    "# sns.heatmap(layout.layout_matrix, square=True, linewidths=1)\n",
    "# plt.show() \n",
    "for shelf in layout.shelves:\n",
    "    shelf.height = 14\n",
    "    \n",
    "layout.shelves.sort(key=lambda x: layout.distances[layout.depot_location][x.pick_location])\n",
    "\n",
    "layout.find_shelves_closest_to_depot()\n",
    "\n"
   ]
  },
  {
   "cell_type": "markdown",
   "metadata": {},
   "source": [
    "# Evaluation"
   ]
  },
  {
   "cell_type": "code",
   "execution_count": 5,
   "metadata": {},
   "outputs": [],
   "source": [
    "def run_greedy(articles, \n",
    "               layout=layout, \n",
    "               distance_weight=1, \n",
    "               rule_weight=0.01, \n",
    "               rule_weight_for_article_scores=1e4, \n",
    "               penalty_weight=0, \n",
    "               verbose=False,\n",
    "               hp_tuning=False):\n",
    "\n",
    "    main_model = Greedy(layout=layout, \n",
    "                        articles=articles, \n",
    "                        distance_weight=distance_weight, \n",
    "                        rule_weight=rule_weight, \n",
    "                        rule_weight_for_article_scores=rule_weight_for_article_scores, \n",
    "                        penalty_weight=penalty_weight,\n",
    "                        hp_tuning=hp_tuning)\n",
    "\n",
    "    warehouse = Warehouse(layout, main_model)\n",
    "\n",
    "    solution_matrix, _, product_to_shelves = warehouse.optimize_locations() \n",
    "    \n",
    "    if verbose:\n",
    "        sns.heatmap(solution_matrix, square=True) \n",
    "        plt.show()  \n",
    "\n",
    "    return product_to_shelves"
   ]
  },
  {
   "cell_type": "code",
   "execution_count": 27,
   "metadata": {},
   "outputs": [],
   "source": [
    "def run_genetic(articles,\n",
    "                layout=layout, \n",
    "                distance_weight=1,\n",
    "                rule_weight=1, \n",
    "                population_size=100, \n",
    "                n_iter=100, \n",
    "                crossover_rate=1, \n",
    "                mutation_rate=0.1, \n",
    "                k_selection=3, \n",
    "                crossover='crossover_height', \n",
    "                fitness='fitness_distance_and_rules', \n",
    "                orders=None, \n",
    "                warm_start=False, \n",
    "                parallel=False,\n",
    "                verbose=0,\n",
    "                solution=None):\n",
    "\n",
    "    main_model = GeneticModel(articles=articles,\n",
    "                              layout=layout, \n",
    "                              rule_weight=rule_weight, \n",
    "                              distance_weight=distance_weight,\n",
    "                              population_size=population_size, \n",
    "                              n_iter=n_iter, \n",
    "                              crossover_rate=crossover_rate, \n",
    "                              mutation_rate=mutation_rate,\n",
    "                              k_selection=k_selection, \n",
    "                              crossover=crossover, \n",
    "                              fitness=fitness,\n",
    "                              orders=orders,\n",
    "                              warm_start=warm_start,\n",
    "                              parallel=parallel,\n",
    "                              verbose=verbose,\n",
    "                              solution=solution)\n",
    "\n",
    "    warehouse = Warehouse(layout, main_model)\n",
    "\n",
    "    solution_matrix, best_scores, product_to_shelves = warehouse.optimize_locations() \n",
    "    \n",
    "    if verbose > 0:\n",
    "        plt.figure(1)\n",
    "        sns.heatmap(solution_matrix, square=True) \n",
    "        plt.show() \n",
    "        plt.figure(2)\n",
    "        plt.plot(np.arange(len(best_scores)), best_scores) \n",
    "        plt.show() \n",
    "\n",
    "        \n",
    "    return product_to_shelves"
   ]
  },
  {
   "cell_type": "code",
   "execution_count": 6,
   "metadata": {},
   "outputs": [],
   "source": [
    "def get_ear_rules(ar_rules, \n",
    "                  unique_items,\n",
    "                  k=4,\n",
    "                  r=1, \n",
    "                  embeddings_path=f'../Data/sparse_bow_{n_orders}_cv0.pkl', \n",
    "                  save_path=None, \n",
    "                  word_weights=defaultdict(lambda: 1), \n",
    "                  is_sparse=True,\n",
    "                  beta=1/10,\n",
    "                  parallel_rules=False,\n",
    "                  parallel_weight=1):\n",
    "    if save_path is None:\n",
    "        save_path = f'../Data/Rules/hej.pkl'\n",
    "    try:\n",
    "        f = open(save_path, \"rb\")\n",
    "        ear_rules = pickle.load(f)\n",
    "        f.close()\n",
    "    except:\n",
    "        ear_rules = compute_ear_rules(ar_rules, \n",
    "                                        unique_items=unique_items,\n",
    "                                        k=k,\n",
    "                                        radius=r, \n",
    "                                        embeddings_path=embeddings_path, \n",
    "                                        save_path=save_path, \n",
    "                                        word_weights=word_weights, \n",
    "                                        is_sparse=is_sparse,\n",
    "                                        beta=beta,\n",
    "                                        parallel_rules=parallel_rules,\n",
    "                                        parallel_weight=parallel_weight) \n",
    "    return ear_rules"
   ]
  },
  {
   "cell_type": "markdown",
   "metadata": {},
   "source": [
    "# Genetic tuning"
   ]
  },
  {
   "cell_type": "code",
   "execution_count": 11,
   "metadata": {},
   "outputs": [],
   "source": [
    "def test_genetic_pair_scores(data, cv_index, parallel_rules=True, parallel_weight=10, delta=3.5, gamma=1.6, k=2, r=1,\n",
    "                                                                                                                    layout=layout, \n",
    "                                                                                                                    distance_weight=1,\n",
    "                                                                                                                    rule_weight=1, \n",
    "                                                                                                                    population_size=100, \n",
    "                                                                                                                    n_iter=100, \n",
    "                                                                                                                    crossover_rate=1, \n",
    "                                                                                                                    mutation_rate=0.1, \n",
    "                                                                                                                    k_selection=3, \n",
    "                                                                                                                    crossover='crossover_height', \n",
    "                                                                                                                    fitness='fitness_distance_and_rules', \n",
    "                                                                                                                    orders=None, \n",
    "                                                                                                                    warm_start=False, \n",
    "                                                                                                                    parallel=False,\n",
    "                                                                                                                    verbose=0,\n",
    "                                                                                                                    greedy_start=False):\n",
    "    train_df, test_df, train_supports, train_unique, all_unique, train_orders, vectorizer = data\n",
    "    _, itemsets_size_2 = generate_itemsets(train_df, min_support=0.0001)\n",
    "\n",
    "    ar_rules = compute_ar_rules(itemsets_size_2, metric='lift', min_threshold=1, \n",
    "                                save_path=f'../Data/Rules/ar_rules_{n_orders}_cv{cv_index}.pkl')\n",
    "\n",
    "    # f = open(f'../Data/Rules/ar_rules_{n_orders}_cv{cv_index}.pkl', \"rb\")\n",
    "    # ar_rules = pickle.load(f)\n",
    "    # f.close()\n",
    "\n",
    "\n",
    "\n",
    "    # words = vectorizer.cv.get_feature_names_out()\n",
    "    # word_scores, _, _ = calculate_word_scores(train_unique, \n",
    "    #                                           train_orders, \n",
    "    #                                           words, \n",
    "    #                                           gamma=gamma,\n",
    "    #                                           delta=delta)\n",
    "    \n",
    "    # min_score = np.min([score for score in word_scores if score > 0])\n",
    "    # word_scores = [score if score > 0 else min_score/2 for score in word_scores]\n",
    "\n",
    "    # ear_rules = get_ear_rules(ar_rules, \n",
    "    #                             unique_items=list(all_unique),\n",
    "    #                             k=k,\n",
    "    #                             r=r, \n",
    "    #                             embeddings_path=f'../Data/sparse_bow_{n_orders}_cv{cv_index}.pkl', \n",
    "    #                             save_path=f'../../Test code/Data/Rules/ear_rules_pair_goodgood_scores_k{k}_gamma{gamma}_delta{delta}_cv{cv_index}_pw{parallel_weight}.pkl', \n",
    "    #                             word_weights=word_scores, \n",
    "    #                             is_sparse=True,\n",
    "    #                             beta=r/10,\n",
    "    #                             parallel_rules=parallel_rules,\n",
    "    #                             parallel_weight=parallel_weight) \n",
    "\n",
    "    train_articles = create_articles(train_supports, ar_rules=ar_rules, ar_weight=1, ear_weight=0, nn_weight=0)\n",
    "\n",
    "\n",
    "    if greedy_start: # Gives some weird holes in the layout\n",
    "        greedy_solution = run_greedy(train_articles, \n",
    "                                    layout=layout, \n",
    "                                    distance_weight=5e5, \n",
    "                                    rule_weight=1, \n",
    "                                    rule_weight_for_article_scores=1, \n",
    "                                    penalty_weight=1e-6, \n",
    "                                    verbose=False,\n",
    "                                    hp_tuning=False)\n",
    "\n",
    "        warm_start_solution = deepcopy([article.shelf.index for article in sorted(list(greedy_solution.values()), key=lambda x: x.index)])\n",
    "                                \n",
    "    else:\n",
    "        warm_start_solution = None\n",
    "\n",
    "    train_articles.sort(key=lambda x: x.index)\n",
    "    \n",
    "    solution = run_genetic(train_articles,\n",
    "                layout=layout, \n",
    "                distance_weight=distance_weight,\n",
    "                rule_weight=rule_weight, \n",
    "                population_size=population_size, \n",
    "                n_iter=n_iter, \n",
    "                crossover_rate=crossover_rate, \n",
    "                mutation_rate=mutation_rate, \n",
    "                k_selection=k_selection, \n",
    "                crossover=crossover, \n",
    "                fitness=fitness, \n",
    "                orders=orders, \n",
    "                warm_start=warm_start, \n",
    "                parallel=parallel,\n",
    "                verbose=verbose,\n",
    "                solution=warm_start_solution)\n",
    "                \n",
    "    average_distance_travelled = evaluate_solution_for_greedy(solution, test_df, layout, batch_size=1)\n",
    "\n",
    "    print(f'Distance: {average_distance_travelled}')\n"
   ]
  },
  {
   "cell_type": "code",
   "execution_count": 17,
   "metadata": {},
   "outputs": [
    {
     "name": "stdout",
     "output_type": "stream",
     "text": [
      "cv 1 \n",
      " \n",
      "\n",
      "warm start:  True\n",
      "dw:  5000000.0\n",
      "Warm start by frequency\n"
     ]
    },
    {
     "name": "stderr",
     "output_type": "stream",
     "text": [
      " 46%|████▌     | 923/2000 [20:39<24:53,  1.39s/it]  "
     ]
    }
   ],
   "source": [
    "for cv_index in range(1, 4):\n",
    "    print(f'cv {cv_index} \\n \\n')\n",
    "    try:\n",
    "        data = load_data(f'../../Test code/Data/{n_orders}_orders/data_{cv_index}.pkl')\n",
    "        train_df, test_df, train_supports, train_unique, all_unique, train_orders, vectorizer = data\n",
    "        bow = vectorizer.get_sparse_bow_embeddings(list(all_unique), save_path=f'../Data/sparse_bow_{n_orders}_cv{cv_index}.pkl')\n",
    "    except:\n",
    "        data = create_data(cv_index)\n",
    "        train_df, test_df, train_supports, train_unique, all_unique, train_orders, vectorizer = data\n",
    "\n",
    "\n",
    "    dws = [1e6, 1e5, 1e7, 5e5, 5e6]\n",
    "    dws=[5e6]\n",
    "    rw = 1\n",
    "    # rw=0\n",
    "    for dw in dws:\n",
    "        for (warm_start, n_iter) in [(True, 2000)]:\n",
    "            print('warm start: ', warm_start)\n",
    "            print('dw: ', dw)\n",
    "            test_genetic_pair_scores(data, cv_index,\n",
    "                                                    layout=layout, \n",
    "                                                    distance_weight=dw,\n",
    "                                                    rule_weight=rw, \n",
    "                                                    population_size=100, \n",
    "                                                    n_iter=n_iter, \n",
    "                                                    crossover_rate=50, \n",
    "                                                    mutation_rate=0.001, \n",
    "                                                    k_selection=3, \n",
    "                                                    crossover='crossover_height', \n",
    "                                                    fitness='fitness_distance_and_rules', \n",
    "                                                    orders=None, \n",
    "                                                    warm_start=warm_start, \n",
    "                                                    parallel=False,\n",
    "                                                    verbose=1,\n",
    "                                                    greedy_start=False)"
   ]
  },
  {
   "cell_type": "markdown",
   "metadata": {},
   "source": [
    "77.484\n",
    "79.14\n",
    "73.924\n",
    "78.48"
   ]
  },
  {
   "cell_type": "code",
   "execution_count": 45,
   "metadata": {},
   "outputs": [
    {
     "name": "stdout",
     "output_type": "stream",
     "text": [
      "#348ABD\n"
     ]
    },
    {
     "data": {
      "image/png": "[encoded data removed]",
      "text/plain": [
       "<Figure size 1080x720 with 1 Axes>"
      ]
     },
     "metadata": {},
     "output_type": "display_data"
    }
   ],
   "source": [
    "import matplotlib.pyplot as plt\n",
    "import numpy as np\n",
    "plt.rcParams['figure.figsize'] = (15,10)\n",
    "plt.style.use('ggplot')\n",
    "color = list(plt.rcParams['axes.prop_cycle'])[1]['color']\n",
    "print(colors)\n",
    "\n",
    "counts = [157920, 58074, 23160, 9934, 4783, 2653, 1638, 1131, 822, 572, 466, 415, 272, 279, 194, 157, 169, 131, 111]\n",
    "f = plt.figure()\n",
    "plt.bar(np.arange(2, 21), counts, log=True, color=color)\n",
    "plt.xlabel('Order size')\n",
    "plt.xticks([2, 4, 6, 8, 10, 12, 14, 16, 18, 20])\n",
    "plt.xlim([1.5, 20.5])\n",
    "plt.ylabel('Count')\n",
    "\n",
    "plt.savefig('../Data/order_sizes.png', dpi=400)\n",
    "plt.show()"
   ]
  },
  {
   "cell_type": "code",
   "execution_count": 1,
   "metadata": {},
   "outputs": [
    {
     "name": "stderr",
     "output_type": "stream",
     "text": [
      "2022-05-19 15:02:48,425 - __main__ - DEBUG - debug message\n",
      "2022-05-19 15:02:48,426 - __main__ - INFO - info message\n",
      "2022-05-19 15:02:48,427 - __main__ - WARNING - warn message\n",
      "2022-05-19 15:02:48,428 - __main__ - ERROR - error message\n",
      "2022-05-19 15:02:48,429 - __main__ - CRITICAL - critical message\n"
     ]
    }
   ],
   "source": [
    "import logging\n",
    "\n",
    "# create logger\n",
    "logger = logging.getLogger(__name__)\n",
    "# set log level for all handlers to debug\n",
    "logger.setLevel(logging.DEBUG)\n",
    "\n",
    "# create console handler and set level to debug\n",
    "# best for development or debugging\n",
    "consoleHandler = logging.StreamHandler()\n",
    "consoleHandler.setLevel(logging.DEBUG)\n",
    "\n",
    "# create formatter\n",
    "formatter = logging.Formatter('%(asctime)s - %(name)s - %(levelname)s - %(message)s')\n",
    "\n",
    "# add formatter to ch\n",
    "consoleHandler.setFormatter(formatter)\n",
    "\n",
    "# add ch to logger\n",
    "logger.addHandler(consoleHandler)\n",
    "\n",
    "###################\n",
    "# USE LOGGER\n",
    "###################\n",
    "\n",
    "# example usage\n",
    "logger.debug('debug message')\n",
    "logger.info('info message')\n",
    "logger.warning('warn message')\n",
    "logger.error('error message')\n",
    "logger.critical('critical message')"
   ]
  },
  {
   "cell_type": "markdown",
   "metadata": {},
   "source": [
    "\n",
    "Distance: 75.8232\n",
    "Distance: 69.9664\n",
    "Distance: 68.2416\n",
    "Distance: 68.1496\n",
    "Distance: 64.932\n",
    "Distance: 64.8128\n",
    "Distance: 64.8128 x\n",
    "\n",
    "Distance: 69.2124\n",
    "Distance: 67.9896\n",
    "Distance: 66.6108\n",
    "Distance: 65.4872\n",
    "Distance: 62.7296\n",
    "Distance: 62.7332\n",
    "Distance: 62.7296 x\n",
    "\n",
    "Distance: 78.2536\n",
    "Distance: 76.7752\n",
    "Distance: 75.954\n",
    "Distance: 74.0976\n",
    "Distance: 72.6168\n",
    "Distance: 72.492  x\n",
    "Distance: 72.5028\n",
    "\n",
    "Distance: 79.0908\n",
    "Distance: 75.9856\n",
    "Distance: 74.4748\n",
    "Distance: 73.7268\n",
    "Distance: 70.7604\n",
    "Distance: 70.806\n",
    "Distance: 70.7536 x"
   ]
  },
  {
   "cell_type": "markdown",
   "metadata": {},
   "source": [
    "Freq baseline: 64.8128\n",
    "\n",
    "Freq start:\n",
    "100 gen: 71.554\n",
    "500 gen: 96.444\n",
    "\n",
    "\n",
    "EAR baseline:\n",
    "\n",
    "EAR start:\n"
   ]
  },
  {
   "cell_type": "markdown",
   "metadata": {},
   "source": [
    "# TEST!"
   ]
  },
  {
   "cell_type": "code",
   "execution_count": 37,
   "metadata": {},
   "outputs": [
    {
     "name": "stdout",
     "output_type": "stream",
     "text": [
      "15106\n",
      "[258, 1285, 4014, 4825, 5367]\n"
     ]
    }
   ],
   "source": [
    "d1, d2, d3 = pp.train_val_test_split(data_path='../Data/USE_FIRST_train_data_dec_feb.csv', \n",
    "                                                       val_prop=0.25, test_prop=0.25, \n",
    "                                                       n_orders=10000000)\n",
    "\n",
    "train_data = pd.concat([d1, d2, d3], ignore_index=True, axis=0) \n",
    "\n",
    "\n",
    "d1, d2, d3 = pp.train_val_test_split(data_path='../Data/test_data_dec_to_jan.csv', \n",
    "                                                       val_prop=0.25, test_prop=0.25, \n",
    "                                                       n_orders=10000000)\n",
    "\n",
    "test_data = pd.concat([d1, d2, d3], ignore_index=True, axis=0) \n",
    "\n",
    "\n",
    "                                \n",
    "                         \n",
    "\n",
    "train_data = pp.preprocess_data(train_data)\n",
    "# val_data = pp.preprocess_data(val_data)\n",
    "test_data = pp.preprocess_data(test_data)\n",
    "\n",
    "# data_df = pd.concat([train_data, val_data], ignore_index=True, axis=0)\n",
    "\n",
    "train_orders = pp.unique_orders(train_data)\n",
    "# val_orders = pp.unique_orders(val_data)\n",
    "test_orders = pp.unique_orders(test_data)\n",
    "\n",
    "train_unique = list(train_data['ArticleName'].unique())\n",
    "# val_unique = list(val_data['ArticleName'].unique())\n",
    "# test_unique = list(test_data['ArticleName'].unique())\n",
    "\n",
    "all_unique = pd.concat([train_data, test_data], ignore_index=True, axis=0)['ArticleName'].unique() \n",
    "\n",
    "train_df, train_supports = get_arm_data(train_orders, list(all_unique))\n",
    "test_df, _ = get_arm_data(test_orders, list(all_unique))\n",
    "\n",
    "\n",
    "\n",
    "test_df = test_df.reindex(train_df.columns, axis=1)\n",
    "\n",
    "article_list_ordered = list(train_df.columns)\n",
    "\n",
    "# article_list_ordered = []\n",
    "# for a in train_df.columns:\n",
    "#     if a in data_df['ArticleName'].unique():\n",
    "#         article_list_ordered.append(a)\n",
    "\n",
    "vectorizer = pp.Vectorizer(article_list_ordered)\n",
    "\n",
    "# X_train = vectorizer.vectorize_data(train_orders, num_negative_samples=1)\n",
    "# X_val = vectorizer.vectorize_data(val_orders, num_negative_samples=1)\n",
    "# X_test = vectorizer.vectorize_data(test_orders, num_negative_samples=1)\n",
    "\n",
    "# article_names, article_vecs = vectorizer.get_articles_for_embedding(test_unique)\n",
    "\n",
    "bow = vectorizer.get_sparse_bow_embeddings(list(all_unique), save_path=f'../Data/sparse_bow_FINAL_EARLY.pkl')\n",
    "\n",
    "\n",
    "# print(len(article_names))\n",
    "\n",
    "relevant_data = [train_df, test_df, train_supports, train_unique, all_unique, train_orders, vectorizer]\n",
    "f = open(f'../../Test code/Data/final_early_data.pkl', \"wb\")\n",
    "pickle.dump(relevant_data, f)\n",
    "f.close()"
   ]
  },
  {
   "cell_type": "code",
   "execution_count": 26,
   "metadata": {},
   "outputs": [],
   "source": [
    "f = open(f'../Data/final_data.pkl', \"rb\")\n",
    "data = pickle.load(f)\n",
    "f.close()\n",
    "\n",
    "train_df, test_df, train_supports, train_unique, all_unique, train_orders, vectorizer = data\n",
    "bow = vectorizer.get_sparse_bow_embeddings(list(all_unique), save_path=f'../Data/sparse_bow_FINAL.pkl')"
   ]
  },
  {
   "cell_type": "markdown",
   "metadata": {},
   "source": [
    "# Baselines"
   ]
  },
  {
   "cell_type": "code",
   "execution_count": 38,
   "metadata": {},
   "outputs": [],
   "source": [
    "f = open(f'../Data/final_data.pkl', \"rb\")\n",
    "data = pickle.load(f)\n",
    "f.close()\n",
    "\n",
    "train_df, test_df, train_supports, train_unique, all_unique, train_orders, vectorizer = data\n",
    "bow = vectorizer.get_sparse_bow_embeddings(list(all_unique), save_path=f'../Data/sparse_bow_FINAL.pkl')"
   ]
  },
  {
   "cell_type": "code",
   "execution_count": 11,
   "metadata": {},
   "outputs": [],
   "source": [
    "random_supports = train_supports.copy()\n",
    "for article in random_supports.keys():\n",
    "    random_supports[article] = np.random.rand()\n"
   ]
  },
  {
   "cell_type": "code",
   "execution_count": 12,
   "metadata": {},
   "outputs": [
    {
     "name": "stderr",
     "output_type": "stream",
     "text": [
      "59062it [12:41, 77.54it/s] \n",
      "59062it [09:58, 98.75it/s] \n",
      "59062it [10:22, 94.89it/s] \n",
      "59062it [09:55, 99.10it/s] \n",
      "59062it [09:46, 100.62it/s]"
     ]
    },
    {
     "name": "stdout",
     "output_type": "stream",
     "text": [
      "114.82247807388846 +- 0.6267975745641963\n"
     ]
    },
    {
     "name": "stderr",
     "output_type": "stream",
     "text": [
      "\n"
     ]
    }
   ],
   "source": [
    "# RANDOM BASELINE\n",
    "random_results = []\n",
    "for _ in range(5):\n",
    "    for article in random_supports.keys():\n",
    "        random_supports[article] = np.random.rand()\n",
    "    train_articles = create_articles(random_supports, ar_weight=0, ear_weight=0, nn_weight=0)\n",
    "\n",
    "    solution = run_greedy(articles=train_articles, layout=layout, distance_weight=1, rule_weight=0, rule_weight_for_article_scores=0, penalty_weight=0, verbose=False, hp_tuning=False)\n",
    "\n",
    "    average_distance_travelled = evaluate_solution_for_greedy(solution, test_df, layout, batch_size=1, verbose=True)\n",
    "    random_results.append(average_distance_travelled)\n",
    "print(f'{np.mean(random_results)} +- {np.std(random_results)}')"
   ]
  },
  {
   "cell_type": "code",
   "execution_count": 34,
   "metadata": {},
   "outputs": [
    {
     "name": "stderr",
     "output_type": "stream",
     "text": [
      "59062it [15:25, 63.81it/s] "
     ]
    },
    {
     "name": "stdout",
     "output_type": "stream",
     "text": [
      "Baseline: 48.15058751820121\n"
     ]
    },
    {
     "name": "stderr",
     "output_type": "stream",
     "text": [
      "\n"
     ]
    }
   ],
   "source": [
    "## IN ORDER BASELINE\n",
    "train_articles = create_articles(train_supports, ar_weight=0, ear_weight=0, nn_weight=0)\n",
    "solution = run_greedy(articles=train_articles, layout=layout, distance_weight=1, rule_weight=0, rule_weight_for_article_scores=0, penalty_weight=0, verbose=False, hp_tuning=False)\n",
    "average_distance_travelled = evaluate_solution_for_greedy(solution, test_df, layout, batch_size=1, verbose=True)\n",
    "print('Baseline:', average_distance_travelled)\n",
    "\n"
   ]
  },
  {
   "cell_type": "code",
   "execution_count": 13,
   "metadata": {},
   "outputs": [],
   "source": [
    "f = open(f'../Data/final_early_data.pkl', \"rb\")\n",
    "data = pickle.load(f)\n",
    "f.close()\n",
    "\n",
    "train_df, test_df, train_supports, train_unique, all_unique, train_orders, vectorizer = data\n",
    "bow = vectorizer.get_sparse_bow_embeddings(list(all_unique), save_path=f'../Data/sparse_bow_FINAL_EARLY.pkl')"
   ]
  },
  {
   "cell_type": "code",
   "execution_count": 14,
   "metadata": {},
   "outputs": [],
   "source": [
    "random_supports = train_supports.copy()\n",
    "for article in random_supports.keys():\n",
    "    random_supports[article] = np.random.rand()\n"
   ]
  },
  {
   "cell_type": "code",
   "execution_count": 15,
   "metadata": {},
   "outputs": [
    {
     "name": "stderr",
     "output_type": "stream",
     "text": [
      "59062it [10:11, 96.59it/s] \n",
      "3615it [00:39, 91.48it/s] \n"
     ]
    },
    {
     "ename": "KeyboardInterrupt",
     "evalue": "",
     "output_type": "error",
     "traceback": [
      "\u001b[1;31m---------------------------------------------------------------------------\u001b[0m",
      "\u001b[1;31mKeyboardInterrupt\u001b[0m                         Traceback (most recent call last)",
      "\u001b[1;32mc:\\Users\\TobiasG\\Documents\\warehouse_optimization\\actual_code\\hp_tuning_benny.ipynb Cell 32'\u001b[0m in \u001b[0;36m<cell line: 3>\u001b[1;34m()\u001b[0m\n\u001b[0;32m      <a href='vscode-notebook-cell:/c%3A/Users/TobiasG/Documents/warehouse_optimization/actual_code/hp_tuning_benny.ipynb#ch0000120?line=5'>6</a>\u001b[0m     train_articles \u001b[39m=\u001b[39m create_articles(random_supports, ar_weight\u001b[39m=\u001b[39m\u001b[39m0\u001b[39m, ear_weight\u001b[39m=\u001b[39m\u001b[39m0\u001b[39m, nn_weight\u001b[39m=\u001b[39m\u001b[39m0\u001b[39m)\n\u001b[0;32m      <a href='vscode-notebook-cell:/c%3A/Users/TobiasG/Documents/warehouse_optimization/actual_code/hp_tuning_benny.ipynb#ch0000120?line=7'>8</a>\u001b[0m     solution \u001b[39m=\u001b[39m run_greedy(articles\u001b[39m=\u001b[39mtrain_articles, layout\u001b[39m=\u001b[39mlayout, distance_weight\u001b[39m=\u001b[39m\u001b[39m1\u001b[39m, rule_weight\u001b[39m=\u001b[39m\u001b[39m0\u001b[39m, rule_weight_for_article_scores\u001b[39m=\u001b[39m\u001b[39m0\u001b[39m, penalty_weight\u001b[39m=\u001b[39m\u001b[39m0\u001b[39m, verbose\u001b[39m=\u001b[39m\u001b[39mFalse\u001b[39;00m, hp_tuning\u001b[39m=\u001b[39m\u001b[39mFalse\u001b[39;00m)\n\u001b[1;32m---> <a href='vscode-notebook-cell:/c%3A/Users/TobiasG/Documents/warehouse_optimization/actual_code/hp_tuning_benny.ipynb#ch0000120?line=9'>10</a>\u001b[0m     average_distance_travelled \u001b[39m=\u001b[39m evaluate_solution_for_greedy(solution, test_df, layout, batch_size\u001b[39m=\u001b[39;49m\u001b[39m1\u001b[39;49m, verbose\u001b[39m=\u001b[39;49m\u001b[39mTrue\u001b[39;49;00m)\n\u001b[0;32m     <a href='vscode-notebook-cell:/c%3A/Users/TobiasG/Documents/warehouse_optimization/actual_code/hp_tuning_benny.ipynb#ch0000120?line=10'>11</a>\u001b[0m     random_results\u001b[39m.\u001b[39mappend(average_distance_travelled)\n\u001b[0;32m     <a href='vscode-notebook-cell:/c%3A/Users/TobiasG/Documents/warehouse_optimization/actual_code/hp_tuning_benny.ipynb#ch0000120?line=11'>12</a>\u001b[0m \u001b[39mprint\u001b[39m(\u001b[39mf\u001b[39m\u001b[39m'\u001b[39m\u001b[39m{\u001b[39;00mnp\u001b[39m.\u001b[39mmean(random_results)\u001b[39m}\u001b[39;00m\u001b[39m +- \u001b[39m\u001b[39m{\u001b[39;00mnp\u001b[39m.\u001b[39mstd(random_results)\u001b[39m}\u001b[39;00m\u001b[39m'\u001b[39m)\n",
      "File \u001b[1;32mc:\\Users\\TobiasG\\Documents\\warehouse_optimization\\actual_code\\evaluation.py:208\u001b[0m, in \u001b[0;36mevaluate_solution_for_greedy\u001b[1;34m(solution, test_df, layout, batch_size, verbose)\u001b[0m\n\u001b[0;32m    <a href='file:///c%3A/Users/TobiasG/Documents/warehouse_optimization/actual_code/evaluation.py?line=205'>206</a>\u001b[0m \u001b[39m# Start a new batch with the articles that did not fit in the previous batch \u001b[39;00m\n\u001b[0;32m    <a href='file:///c%3A/Users/TobiasG/Documents/warehouse_optimization/actual_code/evaluation.py?line=206'>207</a>\u001b[0m items \u001b[39m=\u001b[39m \u001b[39mset\u001b[39m()\n\u001b[1;32m--> <a href='file:///c%3A/Users/TobiasG/Documents/warehouse_optimization/actual_code/evaluation.py?line=207'>208</a>\u001b[0m \u001b[39mfor\u001b[39;00m item, item_in_order \u001b[39min\u001b[39;00m row\u001b[39m.\u001b[39miteritems():\n\u001b[0;32m    <a href='file:///c%3A/Users/TobiasG/Documents/warehouse_optimization/actual_code/evaluation.py?line=208'>209</a>\u001b[0m     \u001b[39mif\u001b[39;00m item_in_order:\n\u001b[0;32m    <a href='file:///c%3A/Users/TobiasG/Documents/warehouse_optimization/actual_code/evaluation.py?line=209'>210</a>\u001b[0m         items\u001b[39m.\u001b[39madd(item)\n",
      "\u001b[1;31mKeyboardInterrupt\u001b[0m: "
     ]
    }
   ],
   "source": [
    "# RANDOM BASELINE\n",
    "random_results = []\n",
    "for _ in range(5):\n",
    "    for article in random_supports.keys():\n",
    "        random_supports[article] = np.random.rand()\n",
    "    train_articles = create_articles(random_supports, ar_weight=0, ear_weight=0, nn_weight=0)\n",
    "\n",
    "    solution = run_greedy(articles=train_articles, layout=layout, distance_weight=1, rule_weight=0, rule_weight_for_article_scores=0, penalty_weight=0, verbose=False, hp_tuning=False)\n",
    "\n",
    "    average_distance_travelled = evaluate_solution_for_greedy(solution, test_df, layout, batch_size=1, verbose=True)\n",
    "    random_results.append(average_distance_travelled)\n",
    "print(f'{np.mean(random_results)} +- {np.std(random_results)}')"
   ]
  },
  {
   "cell_type": "code",
   "execution_count": 36,
   "metadata": {},
   "outputs": [
    {
     "name": "stderr",
     "output_type": "stream",
     "text": [
      "59062it [16:21, 60.17it/s] "
     ]
    },
    {
     "name": "stdout",
     "output_type": "stream",
     "text": [
      "Baseline: 71.40577698012258\n"
     ]
    },
    {
     "name": "stderr",
     "output_type": "stream",
     "text": [
      "\n"
     ]
    }
   ],
   "source": [
    "## IN ORDER BASELINE\n",
    "train_articles = create_articles(train_supports, ar_weight=0, ear_weight=0, nn_weight=0)\n",
    "solution = run_greedy(articles=train_articles, layout=layout, distance_weight=1, rule_weight=0, rule_weight_for_article_scores=0, penalty_weight=0, verbose=False, hp_tuning=False)\n",
    "average_distance_travelled = evaluate_solution_for_greedy(solution, test_df, layout, batch_size=1, verbose=True)\n",
    "print('Baseline:', average_distance_travelled)"
   ]
  },
  {
   "cell_type": "code",
   "execution_count": null,
   "metadata": {},
   "outputs": [],
   "source": [
    "f = open(f'../Data/final_full_data.pkl', \"rb\")\n",
    "data = pickle.load(f)\n",
    "f.close()\n",
    "\n",
    "train_df, test_df, train_supports, train_unique, all_unique, train_orders, vectorizer = data\n",
    "bow = vectorizer.get_sparse_bow_embeddings(list(all_unique), save_path=f'../Data/sparse_bow_FINAL_FULL.pkl')"
   ]
  },
  {
   "cell_type": "code",
   "execution_count": null,
   "metadata": {},
   "outputs": [],
   "source": [
    "random_supports = train_supports.copy()\n",
    "for article in random_supports.keys():\n",
    "    random_supports[article] = np.random.rand()\n"
   ]
  },
  {
   "cell_type": "code",
   "execution_count": null,
   "metadata": {},
   "outputs": [],
   "source": [
    "# RANDOM BASELINE\n",
    "random_results = []\n",
    "for _ in range(5):\n",
    "    for article in random_supports.keys():\n",
    "        random_supports[article] = np.random.rand()\n",
    "    train_articles = create_articles(random_supports, ar_weight=0, ear_weight=0, nn_weight=0)\n",
    "\n",
    "    solution = run_greedy(articles=train_articles, layout=layout, distance_weight=1, rule_weight=0, rule_weight_for_article_scores=0, penalty_weight=0, verbose=False, hp_tuning=False)\n",
    "\n",
    "    average_distance_travelled = evaluate_solution_for_greedy(solution, test_df, layout, batch_size=1, verbose=True)\n",
    "    random_results.append(average_distance_travelled)\n",
    "print(f'{np.mean(random_results)} +- {np.std(random_results)}')"
   ]
  },
  {
   "cell_type": "code",
   "execution_count": 38,
   "metadata": {},
   "outputs": [
    {
     "name": "stderr",
     "output_type": "stream",
     "text": [
      "59062it [17:32, 56.11it/s] "
     ]
    },
    {
     "name": "stdout",
     "output_type": "stream",
     "text": [
      "Baseline: 54.232501439165624\n"
     ]
    },
    {
     "name": "stderr",
     "output_type": "stream",
     "text": [
      "\n"
     ]
    }
   ],
   "source": [
    "## IN ORDER BASELINE\n",
    "train_articles = create_articles(train_supports, ar_weight=0, ear_weight=0, nn_weight=0)\n",
    "solution = run_greedy(articles=train_articles, layout=layout, distance_weight=1, rule_weight=0, rule_weight_for_article_scores=0, penalty_weight=0, verbose=False, hp_tuning=False)\n",
    "average_distance_travelled = evaluate_solution_for_greedy(solution, test_df, layout, batch_size=1, verbose=True)\n",
    "print('Baseline:', average_distance_travelled)"
   ]
  },
  {
   "cell_type": "markdown",
   "metadata": {},
   "source": [
    "# Genetic tests"
   ]
  },
  {
   "cell_type": "code",
   "execution_count": 33,
   "metadata": {},
   "outputs": [
    {
     "name": "stdout",
     "output_type": "stream",
     "text": [
      "Warm start by frequency\n"
     ]
    },
    {
     "name": "stderr",
     "output_type": "stream",
     "text": [
      "100%|██████████| 100/100 [18:17<00:00, 10.97s/it]\n"
     ]
    },
    {
     "data": {
      "image/png": "[encoded data removed]",
      "text/plain": [
       "<Figure size 720x720 with 2 Axes>"
      ]
     },
     "metadata": {},
     "output_type": "display_data"
    },
    {
     "data": {
      "image/png": "[encoded data removed]",
      "text/plain": [
       "<Figure size 720x720 with 1 Axes>"
      ]
     },
     "metadata": {},
     "output_type": "display_data"
    },
    {
     "name": "stderr",
     "output_type": "stream",
     "text": [
      "59062it [15:03, 65.38it/s] "
     ]
    },
    {
     "name": "stdout",
     "output_type": "stream",
     "text": [
      "Result: 53.41617283532559\n"
     ]
    },
    {
     "name": "stderr",
     "output_type": "stream",
     "text": [
      "\n"
     ]
    }
   ],
   "source": [
    "# AR results!\n",
    "dw = 1e5\n",
    "rw = 1\n",
    "# dw = 1\n",
    "# rw = 0\n",
    "\n",
    "\n",
    "itemsets, itemsets_size_2 = generate_itemsets(train_df, min_support=0.0001)\n",
    "\n",
    "ar_rules = compute_ar_rules(itemsets_size_2, metric='lift', min_threshold=1, \n",
    "                            save_path=f'../Data/Rules/ar_rules_FINAL.pkl')\n",
    "\n",
    "\n",
    "train_articles = create_articles(train_supports, ar_rules=ar_rules, ar_weight=1, ear_weight=0, nn_weight=0)\n",
    "solution = run_genetic(articles=train_articles,\n",
    "                layout=layout, \n",
    "                distance_weight=dw,\n",
    "                rule_weight=rw, \n",
    "                population_size=100, \n",
    "                n_iter=100, \n",
    "                crossover_rate=100, \n",
    "                mutation_rate=0.001, \n",
    "                k_selection=3, \n",
    "                crossover='crossover_height', \n",
    "                fitness='fitness_distance_and_rules', \n",
    "                orders=None, \n",
    "                warm_start=True, \n",
    "                parallel=False,\n",
    "                verbose=1,\n",
    "                solution=None)\n",
    "\n",
    "\n",
    "\n",
    "                \n",
    "average_distance_travelled = evaluate_solution_for_greedy(solution, test_df, layout, batch_size=1, verbose=True)\n",
    "print('Result:', average_distance_travelled)\n"
   ]
  },
  {
   "cell_type": "code",
   "execution_count": 46,
   "metadata": {},
   "outputs": [
    {
     "name": "stdout",
     "output_type": "stream",
     "text": [
      "Warm start by frequency\n"
     ]
    },
    {
     "name": "stderr",
     "output_type": "stream",
     "text": [
      " 80%|████████  | 4/5 [00:45<00:11, 11.28s/it]"
     ]
    }
   ],
   "source": [
    "# Unweighted EAR results!\n",
    "dw = 1e6\n",
    "rw = 1e-2 # Tror det kan balla ur med för stor dw så sänker denna ist\n",
    "\n",
    "\n",
    "\n",
    "itemsets, itemsets_size_2 = generate_itemsets(train_df, min_support=0.0001)\n",
    "\n",
    "ar_rules = compute_ar_rules(itemsets_size_2, metric='lift', min_threshold=1, \n",
    "                            save_path=f'../Data/Rules/ar_rules_FINAL.pkl')\n",
    "\n",
    "\n",
    "\n",
    "parallel_weight = 1000\n",
    "k = 6\n",
    "r = 6\n",
    "\n",
    "\n",
    "\n",
    "itemsets, itemsets_size_2 = generate_itemsets(train_df, min_support=0.0001)\n",
    "\n",
    "ar_rules = compute_ar_rules(itemsets_size_2, metric='lift', min_threshold=1, \n",
    "                            save_path=f'../Data/Rules/ar_rules_FINAL.pkl')\n",
    "\n",
    "words = vectorizer.cv.get_feature_names_out()\n",
    "\n",
    "ear_rules = get_ear_rules(ar_rules, \n",
    "                            unique_items=list(all_unique),\n",
    "                            k=k,\n",
    "                            r=r, \n",
    "                            embeddings_path=f'../Data/sparse_bow_FINAL.pkl', \n",
    "                            save_path=f'../../Test code/Data/Rules/ear_rules_unweeighted_FINAL.pkl', \n",
    "                            word_weights=np.ones_like(words), \n",
    "                            is_sparse=True,\n",
    "                            beta=r/10,\n",
    "                            parallel_rules=True,\n",
    "                            parallel_weight=parallel_weight) \n",
    "\n",
    "\n",
    "train_articles = create_articles(train_supports, ear_rules=ear_rules, ar_weight=0, ear_weight=1, nn_weight=0)\n",
    "solution = run_genetic(articles=train_articles,\n",
    "                layout=layout, \n",
    "                distance_weight=dw,\n",
    "                rule_weight=rw, \n",
    "                population_size=100, \n",
    "                n_iter=5, \n",
    "                crossover_rate=100, \n",
    "                mutation_rate=0.001, \n",
    "                k_selection=3, \n",
    "                crossover='crossover_height', \n",
    "                fitness='fitness_distance_and_rules', \n",
    "                orders=None, \n",
    "                warm_start=True, \n",
    "                parallel=False,\n",
    "                verbose=1,\n",
    "                solution=None)\n",
    "\n",
    "\n",
    "\n",
    "                \n",
    "average_distance_travelled = evaluate_solution_for_greedy(solution, test_df, layout, batch_size=1, verbose=True)\n",
    "print('Result:', average_distance_travelled)\n"
   ]
  },
  {
   "cell_type": "code",
   "execution_count": null,
   "metadata": {},
   "outputs": [],
   "source": [
    "# EAR results!\n",
    "dw = 1e7\n",
    "rw = 1\n",
    "\n",
    "gamma = 1.6\n",
    "delta = 3.5\n",
    "parallel_weight = 10\n",
    "k = 2\n",
    "r = 1\n",
    "\n",
    "\n",
    "\n",
    "itemsets, itemsets_size_2 = generate_itemsets(train_df, min_support=0.0001)\n",
    "\n",
    "ar_rules = compute_ar_rules(itemsets_size_2, metric='lift', min_threshold=1, \n",
    "                            save_path=f'../Data/Rules/ar_rules_FINAL.pkl')\n",
    "\n",
    "words = vectorizer.cv.get_feature_names_out()\n",
    "word_scores, single_word_scores, word_frequencies = calculate_word_scores(train_unique, \n",
    "                                                                            train_orders, \n",
    "                                                                            words, \n",
    "                                                                            gamma=gamma,\n",
    "                                                                            delta=delta)\n",
    "                                                                            \n",
    "min_score = np.min([score for score in word_scores if score > 0])\n",
    "word_scores = [score if score > 0 else min_score/2 for score in word_scores]\n",
    "ear_rules = get_ear_rules(ar_rules, \n",
    "                            unique_items=list(all_unique),\n",
    "                            k=k,\n",
    "                            r=r, \n",
    "                            embeddings_path=f'../Data/sparse_bow_FINAL.pkl', \n",
    "                            save_path=f'../../Test code/Data/Rules/ear_rules_pair_scores_FINAL.pkl', \n",
    "                            word_weights=word_scores, \n",
    "                            is_sparse=True,\n",
    "                            beta=r/10,\n",
    "                            parallel_rules=True,\n",
    "                            parallel_weight=parallel_weight) \n",
    "\n",
    "\n",
    "train_articles = create_articles(train_supports, ear_rules=ear_rules, ar_weight=0, ear_weight=1, nn_weight=0)\n",
    "solution = run_genetic(articles=train_articles,\n",
    "                layout=layout, \n",
    "                distance_weight=dw,\n",
    "                rule_weight=rw, \n",
    "                population_size=100, \n",
    "                n_iter=5, \n",
    "                crossover_rate=100, \n",
    "                mutation_rate=0.001, \n",
    "                k_selection=3, \n",
    "                crossover='crossover_height', \n",
    "                fitness='fitness_distance_and_rules', \n",
    "                orders=None, \n",
    "                warm_start=True, \n",
    "                parallel=False,\n",
    "                verbose=1,\n",
    "                solution=None)\n",
    "\n",
    "\n",
    "\n",
    "                \n",
    "average_distance_travelled = evaluate_solution_for_greedy(solution, test_df, layout, batch_size=1, verbose=True)\n",
    "print('Result:', average_distance_travelled)\n"
   ]
  },
  {
   "cell_type": "code",
   "execution_count": 16,
   "metadata": {},
   "outputs": [
    {
     "name": "stdout",
     "output_type": "stream",
     "text": [
      "Warm start by frequency\n"
     ]
    },
    {
     "name": "stderr",
     "output_type": "stream",
     "text": [
      "  6%|▌         | 298/5000 [14:21:57<226:40:21, 173.55s/it]\n"
     ]
    },
    {
     "ename": "KeyboardInterrupt",
     "evalue": "",
     "output_type": "error",
     "traceback": [
      "\u001b[1;31m---------------------------------------------------------------------------\u001b[0m",
      "\u001b[1;31mKeyboardInterrupt\u001b[0m                         Traceback (most recent call last)",
      "\u001b[1;32mc:\\Users\\TobiasG\\Documents\\warehouse_optimization\\actual_code\\hp_tuning_benny.ipynb Cell 32'\u001b[0m in \u001b[0;36m<cell line: 12>\u001b[1;34m()\u001b[0m\n\u001b[0;32m      <a href='vscode-notebook-cell:/c%3A/Users/TobiasG/Documents/warehouse_optimization/actual_code/hp_tuning_benny.ipynb#ch0000076?line=6'>7</a>\u001b[0m f\u001b[39m.\u001b[39mclose()\n\u001b[0;32m     <a href='vscode-notebook-cell:/c%3A/Users/TobiasG/Documents/warehouse_optimization/actual_code/hp_tuning_benny.ipynb#ch0000076?line=10'>11</a>\u001b[0m train_articles \u001b[39m=\u001b[39m create_articles(train_supports, nn_rules\u001b[39m=\u001b[39mnn_rules, ar_weight\u001b[39m=\u001b[39m\u001b[39m0\u001b[39m, ear_weight\u001b[39m=\u001b[39m\u001b[39m0\u001b[39m, nn_weight\u001b[39m=\u001b[39m\u001b[39m1\u001b[39m)\n\u001b[1;32m---> <a href='vscode-notebook-cell:/c%3A/Users/TobiasG/Documents/warehouse_optimization/actual_code/hp_tuning_benny.ipynb#ch0000076?line=11'>12</a>\u001b[0m solution \u001b[39m=\u001b[39m run_genetic(articles\u001b[39m=\u001b[39;49mtrain_articles,\n\u001b[0;32m     <a href='vscode-notebook-cell:/c%3A/Users/TobiasG/Documents/warehouse_optimization/actual_code/hp_tuning_benny.ipynb#ch0000076?line=12'>13</a>\u001b[0m                 layout\u001b[39m=\u001b[39;49mlayout, \n\u001b[0;32m     <a href='vscode-notebook-cell:/c%3A/Users/TobiasG/Documents/warehouse_optimization/actual_code/hp_tuning_benny.ipynb#ch0000076?line=13'>14</a>\u001b[0m                 distance_weight\u001b[39m=\u001b[39;49mdw,\n\u001b[0;32m     <a href='vscode-notebook-cell:/c%3A/Users/TobiasG/Documents/warehouse_optimization/actual_code/hp_tuning_benny.ipynb#ch0000076?line=14'>15</a>\u001b[0m                 rule_weight\u001b[39m=\u001b[39;49mrw, \n\u001b[0;32m     <a href='vscode-notebook-cell:/c%3A/Users/TobiasG/Documents/warehouse_optimization/actual_code/hp_tuning_benny.ipynb#ch0000076?line=15'>16</a>\u001b[0m                 population_size\u001b[39m=\u001b[39;49m\u001b[39m100\u001b[39;49m, \n\u001b[0;32m     <a href='vscode-notebook-cell:/c%3A/Users/TobiasG/Documents/warehouse_optimization/actual_code/hp_tuning_benny.ipynb#ch0000076?line=16'>17</a>\u001b[0m                 n_iter\u001b[39m=\u001b[39;49m\u001b[39m5000\u001b[39;49m, \n\u001b[0;32m     <a href='vscode-notebook-cell:/c%3A/Users/TobiasG/Documents/warehouse_optimization/actual_code/hp_tuning_benny.ipynb#ch0000076?line=17'>18</a>\u001b[0m                 crossover_rate\u001b[39m=\u001b[39;49m\u001b[39m100\u001b[39;49m, \n\u001b[0;32m     <a href='vscode-notebook-cell:/c%3A/Users/TobiasG/Documents/warehouse_optimization/actual_code/hp_tuning_benny.ipynb#ch0000076?line=18'>19</a>\u001b[0m                 mutation_rate\u001b[39m=\u001b[39;49m\u001b[39m0.001\u001b[39;49m, \n\u001b[0;32m     <a href='vscode-notebook-cell:/c%3A/Users/TobiasG/Documents/warehouse_optimization/actual_code/hp_tuning_benny.ipynb#ch0000076?line=19'>20</a>\u001b[0m                 k_selection\u001b[39m=\u001b[39;49m\u001b[39m3\u001b[39;49m, \n\u001b[0;32m     <a href='vscode-notebook-cell:/c%3A/Users/TobiasG/Documents/warehouse_optimization/actual_code/hp_tuning_benny.ipynb#ch0000076?line=20'>21</a>\u001b[0m                 crossover\u001b[39m=\u001b[39;49m\u001b[39m'\u001b[39;49m\u001b[39mcrossover_height\u001b[39;49m\u001b[39m'\u001b[39;49m, \n\u001b[0;32m     <a href='vscode-notebook-cell:/c%3A/Users/TobiasG/Documents/warehouse_optimization/actual_code/hp_tuning_benny.ipynb#ch0000076?line=21'>22</a>\u001b[0m                 fitness\u001b[39m=\u001b[39;49m\u001b[39m'\u001b[39;49m\u001b[39mfitness_distance_and_rules\u001b[39;49m\u001b[39m'\u001b[39;49m, \n\u001b[0;32m     <a href='vscode-notebook-cell:/c%3A/Users/TobiasG/Documents/warehouse_optimization/actual_code/hp_tuning_benny.ipynb#ch0000076?line=22'>23</a>\u001b[0m                 orders\u001b[39m=\u001b[39;49m\u001b[39mNone\u001b[39;49;00m, \n\u001b[0;32m     <a href='vscode-notebook-cell:/c%3A/Users/TobiasG/Documents/warehouse_optimization/actual_code/hp_tuning_benny.ipynb#ch0000076?line=23'>24</a>\u001b[0m                 warm_start\u001b[39m=\u001b[39;49m\u001b[39mTrue\u001b[39;49;00m, \n\u001b[0;32m     <a href='vscode-notebook-cell:/c%3A/Users/TobiasG/Documents/warehouse_optimization/actual_code/hp_tuning_benny.ipynb#ch0000076?line=24'>25</a>\u001b[0m                 parallel\u001b[39m=\u001b[39;49m\u001b[39mFalse\u001b[39;49;00m,\n\u001b[0;32m     <a href='vscode-notebook-cell:/c%3A/Users/TobiasG/Documents/warehouse_optimization/actual_code/hp_tuning_benny.ipynb#ch0000076?line=25'>26</a>\u001b[0m                 verbose\u001b[39m=\u001b[39;49m\u001b[39m1\u001b[39;49m,\n\u001b[0;32m     <a href='vscode-notebook-cell:/c%3A/Users/TobiasG/Documents/warehouse_optimization/actual_code/hp_tuning_benny.ipynb#ch0000076?line=26'>27</a>\u001b[0m                 solution\u001b[39m=\u001b[39;49m\u001b[39mNone\u001b[39;49;00m)\n\u001b[0;32m     <a href='vscode-notebook-cell:/c%3A/Users/TobiasG/Documents/warehouse_optimization/actual_code/hp_tuning_benny.ipynb#ch0000076?line=31'>32</a>\u001b[0m average_distance_travelled \u001b[39m=\u001b[39m evaluate_solution_for_greedy(solution, test_df, layout, batch_size\u001b[39m=\u001b[39m\u001b[39m1\u001b[39m, verbose\u001b[39m=\u001b[39m\u001b[39mTrue\u001b[39;00m)\n\u001b[0;32m     <a href='vscode-notebook-cell:/c%3A/Users/TobiasG/Documents/warehouse_optimization/actual_code/hp_tuning_benny.ipynb#ch0000076?line=32'>33</a>\u001b[0m \u001b[39mprint\u001b[39m(\u001b[39m'\u001b[39m\u001b[39mResult:\u001b[39m\u001b[39m'\u001b[39m, average_distance_travelled)\n",
      "\u001b[1;32mc:\\Users\\TobiasG\\Documents\\warehouse_optimization\\actual_code\\hp_tuning_benny.ipynb Cell 12'\u001b[0m in \u001b[0;36mrun_genetic\u001b[1;34m(articles, layout, distance_weight, rule_weight, population_size, n_iter, crossover_rate, mutation_rate, k_selection, crossover, fitness, orders, warm_start, parallel, verbose, solution)\u001b[0m\n\u001b[0;32m     <a href='vscode-notebook-cell:/c%3A/Users/TobiasG/Documents/warehouse_optimization/actual_code/hp_tuning_benny.ipynb#ch0000011?line=17'>18</a>\u001b[0m main_model \u001b[39m=\u001b[39m GeneticModel(articles\u001b[39m=\u001b[39marticles,\n\u001b[0;32m     <a href='vscode-notebook-cell:/c%3A/Users/TobiasG/Documents/warehouse_optimization/actual_code/hp_tuning_benny.ipynb#ch0000011?line=18'>19</a>\u001b[0m                           layout\u001b[39m=\u001b[39mlayout, \n\u001b[0;32m     <a href='vscode-notebook-cell:/c%3A/Users/TobiasG/Documents/warehouse_optimization/actual_code/hp_tuning_benny.ipynb#ch0000011?line=19'>20</a>\u001b[0m                           rule_weight\u001b[39m=\u001b[39mrule_weight, \n\u001b[1;32m   (...)\u001b[0m\n\u001b[0;32m     <a href='vscode-notebook-cell:/c%3A/Users/TobiasG/Documents/warehouse_optimization/actual_code/hp_tuning_benny.ipynb#ch0000011?line=31'>32</a>\u001b[0m                           verbose\u001b[39m=\u001b[39mverbose,\n\u001b[0;32m     <a href='vscode-notebook-cell:/c%3A/Users/TobiasG/Documents/warehouse_optimization/actual_code/hp_tuning_benny.ipynb#ch0000011?line=32'>33</a>\u001b[0m                           solution\u001b[39m=\u001b[39msolution)\n\u001b[0;32m     <a href='vscode-notebook-cell:/c%3A/Users/TobiasG/Documents/warehouse_optimization/actual_code/hp_tuning_benny.ipynb#ch0000011?line=34'>35</a>\u001b[0m warehouse \u001b[39m=\u001b[39m Warehouse(layout, main_model)\n\u001b[1;32m---> <a href='vscode-notebook-cell:/c%3A/Users/TobiasG/Documents/warehouse_optimization/actual_code/hp_tuning_benny.ipynb#ch0000011?line=36'>37</a>\u001b[0m solution_matrix, best_scores, product_to_shelves \u001b[39m=\u001b[39m warehouse\u001b[39m.\u001b[39;49moptimize_locations() \n\u001b[0;32m     <a href='vscode-notebook-cell:/c%3A/Users/TobiasG/Documents/warehouse_optimization/actual_code/hp_tuning_benny.ipynb#ch0000011?line=38'>39</a>\u001b[0m \u001b[39mif\u001b[39;00m verbose \u001b[39m>\u001b[39m \u001b[39m0\u001b[39m:\n\u001b[0;32m     <a href='vscode-notebook-cell:/c%3A/Users/TobiasG/Documents/warehouse_optimization/actual_code/hp_tuning_benny.ipynb#ch0000011?line=39'>40</a>\u001b[0m     plt\u001b[39m.\u001b[39mfigure(\u001b[39m1\u001b[39m)\n",
      "File \u001b[1;32mc:\\Users\\TobiasG\\Documents\\warehouse_optimization\\actual_code\\warehouse.py:16\u001b[0m, in \u001b[0;36mWarehouse.optimize_locations\u001b[1;34m(self)\u001b[0m\n\u001b[0;32m     <a href='file:///c%3A/Users/TobiasG/Documents/warehouse_optimization/actual_code/warehouse.py?line=14'>15</a>\u001b[0m \u001b[39mdef\u001b[39;00m \u001b[39moptimize_locations\u001b[39m(\u001b[39mself\u001b[39m):\n\u001b[1;32m---> <a href='file:///c%3A/Users/TobiasG/Documents/warehouse_optimization/actual_code/warehouse.py?line=15'>16</a>\u001b[0m     \u001b[39mreturn\u001b[39;00m \u001b[39mself\u001b[39;49m\u001b[39m.\u001b[39;49mmodel\u001b[39m.\u001b[39;49moptimize_locations()\n",
      "File \u001b[1;32mc:\\Users\\TobiasG\\Documents\\warehouse_optimization\\actual_code\\ga.py:242\u001b[0m, in \u001b[0;36mGeneticModel.optimize_locations\u001b[1;34m(self)\u001b[0m\n\u001b[0;32m    <a href='file:///c%3A/Users/TobiasG/Documents/warehouse_optimization/actual_code/ga.py?line=239'>240</a>\u001b[0m \u001b[39mdef\u001b[39;00m \u001b[39moptimize_locations\u001b[39m(\u001b[39mself\u001b[39m):\n\u001b[0;32m    <a href='file:///c%3A/Users/TobiasG/Documents/warehouse_optimization/actual_code/ga.py?line=240'>241</a>\u001b[0m     \u001b[39mself\u001b[39m\u001b[39m.\u001b[39msolution_matrix \u001b[39m=\u001b[39m np\u001b[39m.\u001b[39mzeros_like(\u001b[39mself\u001b[39m\u001b[39m.\u001b[39mlayout\u001b[39m.\u001b[39mlayout_matrix)\n\u001b[1;32m--> <a href='file:///c%3A/Users/TobiasG/Documents/warehouse_optimization/actual_code/ga.py?line=241'>242</a>\u001b[0m     best_state, best_scores \u001b[39m=\u001b[39m \u001b[39mself\u001b[39;49m\u001b[39m.\u001b[39;49mgenetic_algorithm()\n\u001b[0;32m    <a href='file:///c%3A/Users/TobiasG/Documents/warehouse_optimization/actual_code/ga.py?line=244'>245</a>\u001b[0m     \u001b[39m# Update the solution matrix\u001b[39;00m\n\u001b[0;32m    <a href='file:///c%3A/Users/TobiasG/Documents/warehouse_optimization/actual_code/ga.py?line=245'>246</a>\u001b[0m     \u001b[39mfor\u001b[39;00m article_index, shelf_index \u001b[39min\u001b[39;00m \u001b[39menumerate\u001b[39m(best_state):\n",
      "File \u001b[1;32mc:\\Users\\TobiasG\\Documents\\warehouse_optimization\\actual_code\\ga.py:231\u001b[0m, in \u001b[0;36mGeneticModel.genetic_algorithm\u001b[1;34m(self)\u001b[0m\n\u001b[0;32m    <a href='file:///c%3A/Users/TobiasG/Documents/warehouse_optimization/actual_code/ga.py?line=228'>229</a>\u001b[0m     \u001b[39m# c1, c2 = p1, p2\u001b[39;00m\n\u001b[0;32m    <a href='file:///c%3A/Users/TobiasG/Documents/warehouse_optimization/actual_code/ga.py?line=229'>230</a>\u001b[0m     children\u001b[39m.\u001b[39mappend(\u001b[39mself\u001b[39m\u001b[39m.\u001b[39mmutation(c1)\u001b[39m.\u001b[39mcopy())\n\u001b[1;32m--> <a href='file:///c%3A/Users/TobiasG/Documents/warehouse_optimization/actual_code/ga.py?line=230'>231</a>\u001b[0m     children\u001b[39m.\u001b[39mappend(\u001b[39mself\u001b[39;49m\u001b[39m.\u001b[39;49mmutation(c2)\u001b[39m.\u001b[39mcopy())\n\u001b[0;32m    <a href='file:///c%3A/Users/TobiasG/Documents/warehouse_optimization/actual_code/ga.py?line=233'>234</a>\u001b[0m \u001b[39m# Update the population\u001b[39;00m\n\u001b[0;32m    <a href='file:///c%3A/Users/TobiasG/Documents/warehouse_optimization/actual_code/ga.py?line=234'>235</a>\u001b[0m population \u001b[39m=\u001b[39m children\n",
      "File \u001b[1;32mc:\\Users\\TobiasG\\Documents\\warehouse_optimization\\actual_code\\ga.py:124\u001b[0m, in \u001b[0;36mGeneticModel.mutation\u001b[1;34m(self, individual)\u001b[0m\n\u001b[0;32m    <a href='file:///c%3A/Users/TobiasG/Documents/warehouse_optimization/actual_code/ga.py?line=121'>122</a>\u001b[0m \u001b[39mdef\u001b[39;00m \u001b[39mmutation\u001b[39m(\u001b[39mself\u001b[39m, individual):\n\u001b[0;32m    <a href='file:///c%3A/Users/TobiasG/Documents/warehouse_optimization/actual_code/ga.py?line=122'>123</a>\u001b[0m     \u001b[39mfor\u001b[39;00m i \u001b[39min\u001b[39;00m \u001b[39mrange\u001b[39m(\u001b[39mlen\u001b[39m(individual\u001b[39m.\u001b[39mplacements)):\n\u001b[1;32m--> <a href='file:///c%3A/Users/TobiasG/Documents/warehouse_optimization/actual_code/ga.py?line=123'>124</a>\u001b[0m         \u001b[39mif\u001b[39;00m np\u001b[39m.\u001b[39mrandom\u001b[39m.\u001b[39mrand() \u001b[39m<\u001b[39m \u001b[39mself\u001b[39;49m\u001b[39m.\u001b[39;49mmutation_rate:\n\u001b[0;32m    <a href='file:///c%3A/Users/TobiasG/Documents/warehouse_optimization/actual_code/ga.py?line=124'>125</a>\u001b[0m             flip_index \u001b[39m=\u001b[39m np\u001b[39m.\u001b[39mrandom\u001b[39m.\u001b[39mrandint(\u001b[39m0\u001b[39m, \u001b[39mlen\u001b[39m(individual\u001b[39m.\u001b[39mplacements))\n\u001b[0;32m    <a href='file:///c%3A/Users/TobiasG/Documents/warehouse_optimization/actual_code/ga.py?line=125'>126</a>\u001b[0m             individual\u001b[39m.\u001b[39mflip_indices(i, flip_index)\n",
      "\u001b[1;31mKeyboardInterrupt\u001b[0m: "
     ]
    }
   ],
   "source": [
    "# NNR results!\n",
    "dw = 1e6\n",
    "rw = 1\n",
    "\n",
    "f = open('../Data/nn_rules_sep_nov.pkl', 'rb')\n",
    "nn_rules = pickle.load(f)\n",
    "f.close()\n",
    "\n",
    "\n",
    "\n",
    "train_articles = create_articles(train_supports, nn_rules=nn_rules, ar_weight=0, ear_weight=0, nn_weight=1)\n",
    "solution = run_genetic(articles=train_articles,\n",
    "                layout=layout, \n",
    "                distance_weight=dw,\n",
    "                rule_weight=rw, \n",
    "                population_size=100, \n",
    "                n_iter=5000, \n",
    "                crossover_rate=100, \n",
    "                mutation_rate=0.001, \n",
    "                k_selection=3, \n",
    "                crossover='crossover_height', \n",
    "                fitness='fitness_distance_and_rules', \n",
    "                orders=None, \n",
    "                warm_start=True, \n",
    "                parallel=False,\n",
    "                verbose=1,\n",
    "                solution=None)\n",
    "\n",
    "\n",
    "\n",
    "                \n",
    "average_distance_travelled = evaluate_solution_for_greedy(solution, test_df, layout, batch_size=1, verbose=True)\n",
    "print('Result:', average_distance_travelled)\n"
   ]
  },
  {
   "cell_type": "code",
   "execution_count": null,
   "metadata": {},
   "outputs": [],
   "source": [
    "# All rules results!\n",
    "dw = 5e7\n",
    "rw = 1\n",
    "\n",
    "gamma = 1.6\n",
    "delta = 3.5\n",
    "parallel_weight = 10\n",
    "k = 2\n",
    "r = 1\n",
    "\n",
    "ear_weight = 1e-4\n",
    "nn_weight = 10\n",
    "\n",
    "\n",
    "\n",
    "itemsets, itemsets_size_2 = generate_itemsets(train_df, min_support=0.0001)\n",
    "\n",
    "ar_rules = compute_ar_rules(itemsets_size_2, metric='lift', min_threshold=1, \n",
    "                            save_path=f'../Data/Rules/ar_rules_FINAL.pkl')\n",
    "\n",
    "words = vectorizer.cv.get_feature_names_out()\n",
    "word_scores, single_word_scores, word_frequencies = calculate_word_scores(train_unique, \n",
    "                                                                            train_orders, \n",
    "                                                                            words, \n",
    "                                                                            gamma=gamma,\n",
    "                                                                            delta=delta)\n",
    "                                                                            \n",
    "min_score = np.min([score for score in word_scores if score > 0])\n",
    "word_scores = [score if score > 0 else min_score/2 for score in word_scores]\n",
    "ear_rules = get_ear_rules(ar_rules, \n",
    "                            unique_items=list(all_unique),\n",
    "                            k=k,\n",
    "                            r=r, \n",
    "                            embeddings_path=f'../Data/sparse_bow_FINAL.pkl', \n",
    "                            save_path=f'../Test code/Data/Rules/ear_rules_pair_scores_FINAL.pkl', \n",
    "                            word_weights=word_scores, \n",
    "                            is_sparse=True,\n",
    "                            beta=r/10,\n",
    "                            parallel_rules=True,\n",
    "                            parallel_weight=parallel_weight) \n",
    "\n",
    "\n",
    "f = open('../Data/nn_rules_sep_nov.pkl', 'rb')\n",
    "nn_rules = pickle.load(f)\n",
    "f.close()\n",
    "\n",
    "\n",
    "\n",
    "train_articles = create_articles(train_supports, ar_rules=ar_rules, ear_rules=ear_rules, nn_rules=nn_rules, ar_weight=1, ear_weight=ear_weight, nn_weight=nn_weight)\n",
    "solution = run_genetic(articles=train_articles,\n",
    "                layout=layout, \n",
    "                distance_weight=dw,\n",
    "                rule_weight=rw, \n",
    "                population_size=100, \n",
    "                n_iter=5000, \n",
    "                crossover_rate=100, \n",
    "                mutation_rate=0.001, \n",
    "                k_selection=3, \n",
    "                crossover='crossover_height', \n",
    "                fitness='fitness_distance_and_rules', \n",
    "                orders=None, \n",
    "                warm_start=True, \n",
    "                parallel=False,\n",
    "                verbose=1,\n",
    "                solution=None)\n",
    "\n",
    "\n",
    "\n",
    "                \n",
    "average_distance_travelled = evaluate_solution_for_greedy(solution, test_df, layout, batch_size=1, verbose=True)\n",
    "print('Result:', average_distance_travelled)\n"
   ]
  },
  {
   "cell_type": "markdown",
   "metadata": {},
   "source": [
    "# Greedy tests"
   ]
  },
  {
   "cell_type": "code",
   "execution_count": 29,
   "metadata": {},
   "outputs": [
    {
     "name": "stderr",
     "output_type": "stream",
     "text": [
      "59062it [12:08, 81.09it/s] "
     ]
    },
    {
     "name": "stdout",
     "output_type": "stream",
     "text": [
      "Result: 46.72523788561173\n"
     ]
    },
    {
     "name": "stderr",
     "output_type": "stream",
     "text": [
      "\n"
     ]
    }
   ],
   "source": [
    "# EAR results!\n",
    "parallel_weight = 10\n",
    "gamma = 1.6\n",
    "delta = 3.5\n",
    "k = 2\n",
    "r = 1\n",
    "\n",
    "dw = 1e6\n",
    "aw = 1e-8\n",
    "p = 0\n",
    "\n",
    "scores = defaultdict(list)\n",
    "# score_path = '../Data/scores_ear_tuning_1e-9_1e6.pkl'\n",
    "\n",
    "\n",
    "\n",
    "itemsets, itemsets_size_2 = generate_itemsets(train_df, min_support=0.0001)\n",
    "\n",
    "ar_rules = compute_ar_rules(itemsets_size_2, metric='lift', min_threshold=1, \n",
    "                            save_path=f'../Data/Rules/ar_rules_FINAL.pkl')\n",
    "\n",
    "words = vectorizer.cv.get_feature_names_out()\n",
    "word_scores, single_word_scores, word_frequencies = calculate_word_scores(train_unique, \n",
    "                                                                            train_orders, \n",
    "                                                                            words, \n",
    "                                                                            gamma=gamma,\n",
    "                                                                            delta=delta)\n",
    "                                                                            \n",
    "min_score = np.min([score for score in word_scores if score > 0])\n",
    "word_scores = [score if score > 0 else min_score/2 for score in word_scores]\n",
    "ear_rules = get_ear_rules(ar_rules, \n",
    "                            unique_items=list(all_unique),\n",
    "                            k=k,\n",
    "                            r=r, \n",
    "                            embeddings_path=f'../Data/sparse_bow_FINAL.pkl', \n",
    "                            save_path=f'../../Test code/Data/Rules/ear_rules_pair_scores_FINAL.pkl', \n",
    "                            word_weights=word_scores, \n",
    "                            is_sparse=True,\n",
    "                            beta=r/10,\n",
    "                            parallel_rules=True,\n",
    "                            parallel_weight=parallel_weight) \n",
    "\n",
    "train_articles = create_articles(train_supports, ear_rules=ear_rules, ar_weight=0, ear_weight=1, nn_weight=0)\n",
    "solution = run_greedy(articles=train_articles, layout=layout, distance_weight=dw, rule_weight=1, rule_weight_for_article_scores=aw, penalty_weight=p, verbose=False, hp_tuning=False)\n",
    "average_distance_travelled = evaluate_solution_for_greedy(solution, test_df, layout, batch_size=1, verbose=True)\n",
    "print('Result:', average_distance_travelled)"
   ]
  },
  {
   "cell_type": "code",
   "execution_count": 43,
   "metadata": {},
   "outputs": [
    {
     "name": "stderr",
     "output_type": "stream",
     "text": [
      "59062it [09:48, 100.43it/s]"
     ]
    },
    {
     "name": "stdout",
     "output_type": "stream",
     "text": [
      "Result: 82.45450543496665\n"
     ]
    },
    {
     "name": "stderr",
     "output_type": "stream",
     "text": [
      "\n"
     ]
    }
   ],
   "source": [
    "# Unweighted EAR results!\n",
    "parallel_weight = 1000\n",
    "\n",
    "k = 6\n",
    "r = 6\n",
    "\n",
    "dw = 1e8\n",
    "aw = 1\n",
    "p = 1e-6\n",
    "\n",
    "scores = defaultdict(list)\n",
    "# score_path = '../Data/scores_ear_tuning_1e-9_1e6.pkl'\n",
    "\n",
    "\n",
    "\n",
    "itemsets, itemsets_size_2 = generate_itemsets(train_df, min_support=0.0001)\n",
    "\n",
    "ar_rules = compute_ar_rules(itemsets_size_2, metric='lift', min_threshold=1, \n",
    "                            save_path=f'../Data/Rules/ar_rules_FINAL.pkl')\n",
    "\n",
    "\n",
    "ear_rules = get_ear_rules(ar_rules, \n",
    "                            unique_items=list(all_unique),\n",
    "                            k=k,\n",
    "                            r=r, \n",
    "                            embeddings_path=f'../Data/sparse_bow_FINAL.pkl', \n",
    "                            save_path=f'../../Test code/Data/Rules/ear_rules_unweighted_FINAL.pkl', \n",
    "                            word_weights=defaultdict(lambda: 1), \n",
    "                            is_sparse=True,\n",
    "                            beta=r/10,\n",
    "                            parallel_rules=True,\n",
    "                            parallel_weight=parallel_weight) \n",
    "\n",
    "train_articles = create_articles(train_supports, ear_rules=ear_rules, ar_weight=0, ear_weight=1, nn_weight=0)\n",
    "solution = run_greedy(articles=train_articles, layout=layout, distance_weight=dw, rule_weight=1, rule_weight_for_article_scores=aw, penalty_weight=p, verbose=False, hp_tuning=False)\n",
    "average_distance_travelled = evaluate_solution_for_greedy(solution, test_df, layout, batch_size=1, verbose=True)\n",
    "print('Result:', average_distance_travelled)"
   ]
  },
  {
   "cell_type": "code",
   "execution_count": 44,
   "metadata": {},
   "outputs": [
    {
     "name": "stderr",
     "output_type": "stream",
     "text": [
      "59062it [09:40, 101.82it/s]"
     ]
    },
    {
     "name": "stdout",
     "output_type": "stream",
     "text": [
      "Result: 86.920727371237\n"
     ]
    },
    {
     "name": "stderr",
     "output_type": "stream",
     "text": [
      "\n"
     ]
    }
   ],
   "source": [
    "# AR results!\n",
    "dw = 5e4\n",
    "aw = 1\n",
    "p = 1e-6\n",
    "\n",
    "scores = defaultdict(list)\n",
    "\n",
    "\n",
    "\n",
    "itemsets, itemsets_size_2 = generate_itemsets(train_df, min_support=0.0001)\n",
    "\n",
    "ar_rules = compute_ar_rules(itemsets_size_2, metric='lift', min_threshold=1, \n",
    "                            save_path=f'../Data/Rules/ar_rules_FINAL.pkl')\n",
    "\n",
    "\n",
    "train_articles = create_articles(train_supports, ar_rules=ar_rules, ar_weight=1, ear_weight=0, nn_weight=0)\n",
    "solution = run_greedy(articles=train_articles, layout=layout, distance_weight=dw, rule_weight=1, rule_weight_for_article_scores=aw, penalty_weight=p, verbose=False, hp_tuning=False)\n",
    "average_distance_travelled = evaluate_solution_for_greedy(solution, test_df, layout, batch_size=1, verbose=True)\n",
    "print('Result:', average_distance_travelled)\n"
   ]
  },
  {
   "cell_type": "code",
   "execution_count": 53,
   "metadata": {},
   "outputs": [
    {
     "ename": "KeyError",
     "evalue": "'apple strömadapter usbc 18w vit'",
     "output_type": "error",
     "traceback": [
      "\u001b[1;31m---------------------------------------------------------------------------\u001b[0m",
      "\u001b[1;31mKeyError\u001b[0m                                  Traceback (most recent call last)",
      "\u001b[1;32mc:\\Users\\TobiasG\\Documents\\warehouse_optimization\\actual_code\\hp_tuning_benny.ipynb Cell 25'\u001b[0m in \u001b[0;36m<cell line: 44>\u001b[1;34m()\u001b[0m\n\u001b[0;32m     <a href='vscode-notebook-cell:/c%3A/Users/TobiasG/Documents/warehouse_optimization/actual_code/hp_tuning_benny.ipynb#ch0000063?line=29'>30</a>\u001b[0m word_scores \u001b[39m=\u001b[39m [score \u001b[39mif\u001b[39;00m score \u001b[39m>\u001b[39m \u001b[39m0\u001b[39m \u001b[39melse\u001b[39;00m min_score\u001b[39m/\u001b[39m\u001b[39m2\u001b[39m \u001b[39mfor\u001b[39;00m score \u001b[39min\u001b[39;00m word_scores]\n\u001b[0;32m     <a href='vscode-notebook-cell:/c%3A/Users/TobiasG/Documents/warehouse_optimization/actual_code/hp_tuning_benny.ipynb#ch0000063?line=30'>31</a>\u001b[0m ear_rules \u001b[39m=\u001b[39m get_ear_rules(ar_rules, \n\u001b[0;32m     <a href='vscode-notebook-cell:/c%3A/Users/TobiasG/Documents/warehouse_optimization/actual_code/hp_tuning_benny.ipynb#ch0000063?line=31'>32</a>\u001b[0m                             unique_items\u001b[39m=\u001b[39m\u001b[39mlist\u001b[39m(all_unique),\n\u001b[0;32m     <a href='vscode-notebook-cell:/c%3A/Users/TobiasG/Documents/warehouse_optimization/actual_code/hp_tuning_benny.ipynb#ch0000063?line=32'>33</a>\u001b[0m                             k\u001b[39m=\u001b[39mk,\n\u001b[1;32m   (...)\u001b[0m\n\u001b[0;32m     <a href='vscode-notebook-cell:/c%3A/Users/TobiasG/Documents/warehouse_optimization/actual_code/hp_tuning_benny.ipynb#ch0000063?line=39'>40</a>\u001b[0m                             parallel_rules\u001b[39m=\u001b[39m\u001b[39mTrue\u001b[39;00m,\n\u001b[0;32m     <a href='vscode-notebook-cell:/c%3A/Users/TobiasG/Documents/warehouse_optimization/actual_code/hp_tuning_benny.ipynb#ch0000063?line=40'>41</a>\u001b[0m                             parallel_weight\u001b[39m=\u001b[39mparallel_weight) \n\u001b[1;32m---> <a href='vscode-notebook-cell:/c%3A/Users/TobiasG/Documents/warehouse_optimization/actual_code/hp_tuning_benny.ipynb#ch0000063?line=43'>44</a>\u001b[0m train_articles \u001b[39m=\u001b[39m create_articles(train_supports, ar_rules\u001b[39m=\u001b[39;49mar_rules, ear_rules\u001b[39m=\u001b[39;49mear_rules, ar_weight\u001b[39m=\u001b[39;49m\u001b[39m1\u001b[39;49m, ear_weight\u001b[39m=\u001b[39;49m\u001b[39m0.01\u001b[39;49m, nn_weight\u001b[39m=\u001b[39;49m\u001b[39m0\u001b[39;49m)\n\u001b[0;32m     <a href='vscode-notebook-cell:/c%3A/Users/TobiasG/Documents/warehouse_optimization/actual_code/hp_tuning_benny.ipynb#ch0000063?line=44'>45</a>\u001b[0m solution \u001b[39m=\u001b[39m run_greedy(articles\u001b[39m=\u001b[39mtrain_articles, layout\u001b[39m=\u001b[39mlayout, distance_weight\u001b[39m=\u001b[39mdw, rule_weight\u001b[39m=\u001b[39m\u001b[39m1\u001b[39m, rule_weight_for_article_scores\u001b[39m=\u001b[39maw, penalty_weight\u001b[39m=\u001b[39mp, verbose\u001b[39m=\u001b[39m\u001b[39mFalse\u001b[39;00m, hp_tuning\u001b[39m=\u001b[39m\u001b[39mFalse\u001b[39;00m)\n\u001b[0;32m     <a href='vscode-notebook-cell:/c%3A/Users/TobiasG/Documents/warehouse_optimization/actual_code/hp_tuning_benny.ipynb#ch0000063?line=45'>46</a>\u001b[0m average_distance_travelled \u001b[39m=\u001b[39m evaluate_solution_for_greedy(solution, test_df, layout, batch_size\u001b[39m=\u001b[39m\u001b[39m1\u001b[39m, verbose\u001b[39m=\u001b[39m\u001b[39mTrue\u001b[39;00m)\n",
      "File \u001b[1;32mc:\\Users\\TobiasG\\Documents\\warehouse_optimization\\actual_code\\articles.py:81\u001b[0m, in \u001b[0;36mcreate_articles\u001b[1;34m(train_supports, ar_rules, ear_rules, nn_rules, ar_weight, ear_weight, nn_weight)\u001b[0m\n\u001b[0;32m     <a href='file:///c%3A/Users/TobiasG/Documents/warehouse_optimization/actual_code/articles.py?line=78'>79</a>\u001b[0m \u001b[39mif\u001b[39;00m ear_rules \u001b[39mis\u001b[39;00m \u001b[39mnot\u001b[39;00m \u001b[39mNone\u001b[39;00m \u001b[39mand\u001b[39;00m ear_weight \u001b[39m!=\u001b[39m \u001b[39m0\u001b[39m:\n\u001b[0;32m     <a href='file:///c%3A/Users/TobiasG/Documents/warehouse_optimization/actual_code/articles.py?line=79'>80</a>\u001b[0m     \u001b[39mfor\u001b[39;00m consequent, rules \u001b[39min\u001b[39;00m ear_rules[article\u001b[39m.\u001b[39mname]\u001b[39m.\u001b[39mitems():\n\u001b[1;32m---> <a href='file:///c%3A/Users/TobiasG/Documents/warehouse_optimization/actual_code/articles.py?line=80'>81</a>\u001b[0m         article_2 \u001b[39m=\u001b[39m name_to_article[consequent]\n\u001b[0;32m     <a href='file:///c%3A/Users/TobiasG/Documents/warehouse_optimization/actual_code/articles.py?line=81'>82</a>\u001b[0m         \u001b[39mfor\u001b[39;00m weight \u001b[39min\u001b[39;00m rules:\n\u001b[0;32m     <a href='file:///c%3A/Users/TobiasG/Documents/warehouse_optimization/actual_code/articles.py?line=82'>83</a>\u001b[0m             article\u001b[39m.\u001b[39mrules[article_2] \u001b[39m+\u001b[39m\u001b[39m=\u001b[39m ear_weight \u001b[39m*\u001b[39m weight\n",
      "\u001b[1;31mKeyError\u001b[0m: 'apple strömadapter usbc 18w vit'"
     ]
    }
   ],
   "source": [
    "# AR + EAR results!\n",
    "# parallel_weight = 10\n",
    "# gamma = 1.6\n",
    "# delta = 3.5\n",
    "# k = 2\n",
    "# r = 1\n",
    "\n",
    "# dw = 5e4\n",
    "# aw = 1\n",
    "# p = 1e-6\n",
    "\n",
    "# scores = defaultdict(list)\n",
    "# # score_path = '../Data/scores_ear_tuning_1e-9_1e6.pkl'\n",
    "\n",
    "\n",
    "\n",
    "# itemsets, itemsets_size_2 = generate_itemsets(train_df, min_support=0.0001)\n",
    "\n",
    "# ar_rules = compute_ar_rules(itemsets_size_2, metric='lift', min_threshold=1, \n",
    "#                             save_path=f'../Data/Rules/ar_rules_FINAL_FULL.pkl')\n",
    "\n",
    "# words = vectorizer.cv.get_feature_names_out()\n",
    "# word_scores, single_word_scores, word_frequencies = calculate_word_scores(train_unique, \n",
    "#                                                                             train_orders, \n",
    "#                                                                             words, \n",
    "#                                                                             gamma=gamma,\n",
    "#                                                                             delta=delta)\n",
    "                                                                            \n",
    "# min_score = np.min([score for score in word_scores if score > 0])\n",
    "# word_scores = [score if score > 0 else min_score/2 for score in word_scores]\n",
    "# ear_rules = get_ear_rules(ar_rules, \n",
    "#                             unique_items=list(all_unique),\n",
    "#                             k=k,\n",
    "#                             r=r, \n",
    "#                             embeddings_path=f'../Data/sparse_bow_FINAL_FULL.pkl', \n",
    "#                             save_path=f'../../Test code/Data/Rules/ear_rules_pair_scores_FINAL_FULL.pkl', \n",
    "#                             word_weights=word_scores, \n",
    "#                             is_sparse=True,\n",
    "#                             beta=r/10,\n",
    "#                             parallel_rules=True,\n",
    "#                             parallel_weight=parallel_weight) \n",
    "\n",
    "\n",
    "# train_articles = create_articles(train_supports, ar_rules=ar_rules, ear_rules=ear_rules, ar_weight=1, ear_weight=0.01, nn_weight=0)\n",
    "# solution = run_greedy(articles=train_articles, layout=layout, distance_weight=dw, rule_weight=1, rule_weight_for_article_scores=aw, penalty_weight=p, verbose=False, hp_tuning=False)\n",
    "# average_distance_travelled = evaluate_solution_for_greedy(solution, test_df, layout, batch_size=1, verbose=True)\n",
    "# print('Result:', average_distance_travelled)"
   ]
  },
  {
   "cell_type": "code",
   "execution_count": 15,
   "metadata": {},
   "outputs": [
    {
     "name": "stderr",
     "output_type": "stream",
     "text": [
      "59062it [12:56, 76.05it/s] "
     ]
    },
    {
     "name": "stdout",
     "output_type": "stream",
     "text": [
      "Result: 61.30100572279977\n"
     ]
    },
    {
     "name": "stderr",
     "output_type": "stream",
     "text": [
      "\n"
     ]
    }
   ],
   "source": [
    "# 1, 1e-4, 10\n",
    "# All rules together\n",
    "\n",
    "parallel_weight = 10\n",
    "gamma = 1.6\n",
    "delta = 3.5\n",
    "k = 2\n",
    "r = 1\n",
    "\n",
    "ear_weight = 1e-4\n",
    "nn_weight = 10\n",
    "\n",
    "dw = 5e5\n",
    "aw = 1\n",
    "p = 1e-6\n",
    "\n",
    "scores = defaultdict(list)\n",
    "\n",
    "\n",
    "\n",
    "itemsets, itemsets_size_2 = generate_itemsets(train_df, min_support=0.0001)\n",
    "\n",
    "ar_rules = compute_ar_rules(itemsets_size_2, metric='lift', min_threshold=1, \n",
    "                            save_path=f'../Data/Rules/ar_rules_FINAL_FULL.pkl')\n",
    "\n",
    "words = vectorizer.cv.get_feature_names_out()\n",
    "word_scores, single_word_scores, word_frequencies = calculate_word_scores(train_unique, \n",
    "                                                                            train_orders, \n",
    "                                                                            words, \n",
    "                                                                            gamma=gamma,\n",
    "                                                                            delta=delta)\n",
    "                                                                            \n",
    "min_score = np.min([score for score in word_scores if score > 0])\n",
    "word_scores = [score if score > 0 else min_score/2 for score in word_scores]\n",
    "ear_rules = get_ear_rules(ar_rules, \n",
    "                            unique_items=list(all_unique),\n",
    "                            k=k,\n",
    "                            r=r, \n",
    "                            embeddings_path=f'../Data/sparse_bow_FINAL_FULL.pkl', \n",
    "                            save_path=f'../../Test code/Data/Rules/ear_rules_pair_scores_FINAL_FULL.pkl', \n",
    "                            word_weights=word_scores, \n",
    "                            is_sparse=True,\n",
    "                            beta=r/10,\n",
    "                            parallel_rules=True,\n",
    "                            parallel_weight=parallel_weight) \n",
    "\n",
    "\n",
    "f = open('../Data/nn_rules_sep_nov.pkl', 'rb')\n",
    "nn_rules = pickle.load(f)\n",
    "f.close()\n",
    "\n",
    "train_articles = create_articles(train_supports, ar_rules=ar_rules, ear_rules=ear_rules, nn_rules=nn_rules, ar_weight=1, ear_weight=ear_weight, nn_weight=nn_weight)\n",
    "solution = run_greedy(articles=train_articles, layout=layout, distance_weight=dw, rule_weight=1, rule_weight_for_article_scores=aw, penalty_weight=p, verbose=False, hp_tuning=False)\n",
    "average_distance_travelled = evaluate_solution_for_greedy(solution, test_df, layout, batch_size=1, verbose=True)\n",
    "print('Result:', average_distance_travelled)"
   ]
  },
  {
   "cell_type": "code",
   "execution_count": 21,
   "metadata": {},
   "outputs": [],
   "source": [
    "# itemsets, itemsets_size_2 = generate_itemsets(train_df, min_support=0.00001)\n",
    "\n",
    "# ar_rules = compute_ar_rules(itemsets_size_2, metric='lift', min_threshold=1, \n",
    "#                             save_path=f'../Data/Rules/ar_rules_dummy.pkl')\n",
    "\n",
    "# # words = vectorizer.cv.get_feature_names_out()\n",
    "# # word_scores, single_word_scores, word_frequencies = calculate_word_scores(train_unique, \n",
    "# #                                                                             train_orders, \n",
    "# #                                                                             words, \n",
    "# #                                                                             gamma=gamma,\n",
    "# #                                                                             delta=delta)\n",
    "                                                                            \n",
    "# # min_score = np.min([score for score in word_scores if score > 0])\n",
    "# # word_scores = [score if score > 0 else min_score/2 for score in word_scores]\n",
    "# ear_rules = get_ear_rules(ar_rules, \n",
    "#                             unique_items=list(all_unique),\n",
    "#                             k=k,\n",
    "#                             r=r, \n",
    "#                             embeddings_path=f'../Data/sparse_bow_dummy.pkl', \n",
    "#                             save_path=f'../../Test code/Data/Rules/ear_rules_pair_scores_dummy_3.pkl', \n",
    "#                             word_weights=word_scores, \n",
    "#                             is_sparse=True,\n",
    "#                             beta=r/10,\n",
    "#                             parallel_rules=True,\n",
    "#                             parallel_weight=parallel_weight) \n"
   ]
  },
  {
   "cell_type": "markdown",
   "metadata": {},
   "source": [
    "# HP testing"
   ]
  },
  {
   "cell_type": "code",
   "execution_count": 14,
   "metadata": {},
   "outputs": [],
   "source": [
    "def run_unweighted(data, cv_index):\n",
    "    train_df, test_df, train_supports, train_unique, all_unique, train_orders, vectorizer = data\n",
    "    start = time.time()\n",
    "    itemsets, itemsets_size_2 = generate_itemsets(train_df, min_support=0.0001)\n",
    "\n",
    "    ar_rules = compute_ar_rules(itemsets_size_2, metric='lift', min_threshold=1, \n",
    "                                save_path=f'../Data/Rules/ar_rules_{n_orders}_cv{cv_index}.pkl')\n",
    "\n",
    "    # f = open(f'../Data/Rules/ar_rules_{n_orders}_cv{cv_index}.pkl', \"rb\")\n",
    "    # ar_rules = pickle.load(f)\n",
    "    # f.close()\n",
    "\n",
    "    \n",
    "    train_articles = create_articles(train_supports, ar_rules=ar_rules, ar_weight=1, ear_weight=0, nn_weight=0)\n",
    "    solution = run_greedy(articles=train_articles, layout=layout, distance_weight=0, rule_weight=1, rule_weight_for_article_scores=1, penalty_weight=0, verbose=False, hp_tuning=True)\n",
    "    ar_result = evaluate_solution_for_greedy_no_depot(solution, test_df, layout, batch_size=1, verbose=True)\n",
    "                                                                                \n",
    "    print('AR result: ', ar_result)\n",
    "    words = vectorizer.cv.get_feature_names_out()\n",
    "    k = 4\n",
    "    ear_rules = get_ear_rules(ar_rules, \n",
    "                                unique_items=list(all_unique),\n",
    "                                k=k,\n",
    "                                r=100,\n",
    "                                embeddings_path=f'../Data/sparse_bow_{n_orders}_cv{cv_index}.pkl', \n",
    "                                save_path=f'../../Test code/Data/Rules/ear_rules_unweighted_cv{cv_index}.pkl', \n",
    "                                word_weights=np.ones_like(words), \n",
    "                                is_sparse=True,\n",
    "                                beta=1)\n",
    "\n",
    "    train_articles = create_articles(train_supports, ear_rules=ear_rules, ar_weight=0, ear_weight=1, nn_weight=0)\n",
    "    solution = run_greedy(articles=train_articles, layout=layout, distance_weight=0, rule_weight=1, rule_weight_for_article_scores=1, penalty_weight=0, verbose=False, hp_tuning=True)\n",
    "    average_distance_travelled = evaluate_solution_for_greedy_no_depot(solution, test_df, layout, batch_size=1)\n",
    "    print(average_distance_travelled)\n",
    "\n",
    "    "
   ]
  },
  {
   "cell_type": "code",
   "execution_count": 15,
   "metadata": {},
   "outputs": [],
   "source": [
    "def run_parallel_rules(data, cv_index):\n",
    "    train_df, test_df, train_supports, train_unique, all_unique, train_orders, vectorizer = data\n",
    "    start = time.time()\n",
    "    itemsets, itemsets_size_2 = generate_itemsets(train_df, min_support=0.0001)\n",
    "\n",
    "    ar_rules = compute_ar_rules(itemsets_size_2, metric='lift', min_threshold=1, \n",
    "                                save_path=f'../Data/Rules/ar_rules_{n_orders}_cv{cv_index}.pkl')\n",
    "\n",
    "    # f = open(f'../Data/Rules/ar_rules_{n_orders}_cv{cv_index}.pkl', \"rb\")\n",
    "    # ar_rules = pickle.load(f)\n",
    "    # f.close()\n",
    "\n",
    "    \n",
    "    train_articles = create_articles(train_supports, ar_rules=ar_rules, ar_weight=1, ear_weight=0, nn_weight=0)\n",
    "    solution = run_greedy(articles=train_articles, layout=layout, distance_weight=0, rule_weight=1, rule_weight_for_article_scores=1, penalty_weight=0, verbose=False, hp_tuning=True)\n",
    "    ar_result = evaluate_solution_for_greedy_no_depot(solution, test_df, layout, batch_size=1, verbose=True)\n",
    "                                                                                \n",
    "    print('AR result: ', ar_result)\n",
    "    words = vectorizer.cv.get_feature_names_out()\n",
    "    k = 4\n",
    "    ear_rules = get_ear_rules(ar_rules, \n",
    "                                unique_items=list(all_unique),\n",
    "                                k=k,\n",
    "                                r=100,\n",
    "                                embeddings_path=f'../Data/sparse_bow_{n_orders}_cv{cv_index}.pkl', \n",
    "                                save_path=f'../../Test code/Data/Rules/ear_rules_parallel_rules2_cv{cv_index}.pkl', \n",
    "                                word_weights=np.ones_like(words), \n",
    "                                is_sparse=True,\n",
    "                                beta=1,\n",
    "                                parallel_rules=True,\n",
    "                                )\n",
    "\n",
    "    train_articles = create_articles(train_supports, ear_rules=ear_rules, ar_weight=0, ear_weight=1, nn_weight=0)\n",
    "    solution = run_greedy(articles=train_articles, layout=layout, distance_weight=0, rule_weight=1, rule_weight_for_article_scores=1, penalty_weight=0, verbose=False, hp_tuning=True)\n",
    "    average_distance_travelled = evaluate_solution_for_greedy_no_depot(solution, test_df, layout, batch_size=1)\n",
    "    print(average_distance_travelled)\n"
   ]
  },
  {
   "cell_type": "code",
   "execution_count": 16,
   "metadata": {},
   "outputs": [],
   "source": [
    "n_orders=20000\n",
    "def test_hyperparameters(data, cv_index, parallel_rules=False, ks=[], rs=[]):\n",
    "    train_df, test_df, train_supports, train_unique, all_unique, train_orders, vectorizer = data\n",
    "    itemsets, itemsets_size_2 = generate_itemsets(train_df, min_support=0.0001)\n",
    "\n",
    "    ar_rules = compute_ar_rules(itemsets_size_2, metric='lift', min_threshold=1, \n",
    "                                save_path=f'../Data/Rules/ar_rules_{n_orders}_cv{cv_index}.pkl')\n",
    "\n",
    "    # f = open(f'../Data/Rules/ar_rules_{n_orders}_cv{cv_index}.pkl', \"rb\")\n",
    "    # ar_rules = pickle.load(f)\n",
    "    # f.close()\n",
    "\n",
    "\n",
    "\n",
    "    results = np.zeros((len(ks), len(rs)))\n",
    "    for i, k in enumerate(ks):\n",
    "        for j, r in enumerate(rs):\n",
    "\n",
    "            ear_rules = get_ear_rules(ar_rules, \n",
    "                                    unique_items=list(all_unique),\n",
    "                                    k=k,\n",
    "                                    r=r, \n",
    "                                    embeddings_path=f'../Data/sparse_bow_{n_orders}_cv{cv_index}.pkl', \n",
    "                                    save_path=f'../../Test code/Data/Rules/ear_rules_k{k}_r{r}_unweighted_cv{cv_index}_parallel_{parallel_rules}.pkl', \n",
    "                                    word_weights=defaultdict(lambda: 1), \n",
    "                                    is_sparse=True,\n",
    "                                    beta=r/10,\n",
    "                                    parallel_rules=parallel_rules)\n",
    "\n",
    "            train_articles = create_articles(train_supports, ear_rules=ear_rules, ar_weight=0, ear_weight=1, nn_weight=0)\n",
    "            solution = run_greedy(articles=train_articles, layout=layout, distance_weight=0, rule_weight=1, rule_weight_for_article_scores=1, penalty_weight=0, verbose=False, hp_tuning=True)\n",
    "            average_distance_travelled = evaluate_solution_for_greedy_no_depot(solution, test_df, layout, batch_size=1)\n",
    "\n",
    "            results[i,j] = average_distance_travelled\n",
    "\n",
    "    results = pd.DataFrame(results, index=ks)\n",
    "\n",
    "    col_names = {i: delta for i, delta in enumerate(rs)}\n",
    "    results.rename(columns=col_names, inplace=True)\n",
    "    print('Results:')\n",
    "    print(results)\n",
    "\n",
    "    results.to_excel(f'../Data/Results/ks{ks}rs{rs}_cv{cv_index}.xlsx')"
   ]
  },
  {
   "cell_type": "code",
   "execution_count": 17,
   "metadata": {},
   "outputs": [],
   "source": [
    "def test_hyperparameters_pair_scores(data, cv_index, parallel_rules=False, deltas=[], gammas=[]):\n",
    "    train_df, test_df, train_supports, train_unique, all_unique, train_orders, vectorizer = data\n",
    "    start = time.time()\n",
    "    itemsets, itemsets_size_2 = generate_itemsets(train_df, min_support=0.0001)\n",
    "\n",
    "    ar_rules = compute_ar_rules(itemsets_size_2, metric='lift', min_threshold=1, \n",
    "                                save_path=f'../Data/Rules/ar_rules_{n_orders}_cv{cv_index}.pkl')\n",
    "\n",
    "    # f = open(f'../Data/Rules/ar_rules_{n_orders}_cv{cv_index}.pkl', \"rb\")\n",
    "    # ar_rules = pickle.load(f)\n",
    "    # f.close()\n",
    "\n",
    "\n",
    "    if not parallel_rules:\n",
    "        results = np.zeros((len(gammas), len(deltas)))\n",
    "        for i, gamma in enumerate(gammas):\n",
    "            for j, delta in enumerate(deltas):\n",
    "\n",
    "                words = vectorizer.cv.get_feature_names_out()\n",
    "                word_scores, single_word_scores, word_frequencies = calculate_word_scores(train_unique, \n",
    "                                                                                          train_orders, \n",
    "                                                                                          words, \n",
    "                                                                                          gamma=gamma,\n",
    "                                                                                          delta=delta)\n",
    "                \n",
    "                min_score = np.min([score for score in word_scores if score > 0])\n",
    "                word_scores = [score if score > 0 else min_score/2 for score in word_scores]\n",
    "\n",
    "                ear_rules = get_ear_rules(ar_rules, \n",
    "                                            unique_items=list(all_unique),\n",
    "                                            k=k, \n",
    "                                            embeddings_path=f'../Data/sparse_bow_{n_orders}_cv{cv_index}.pkl', \n",
    "                                            save_path=f'../../Test code/Data/Rules/ear_rules_good_pair_scores_k{k}_gamma{gamma}_delta{delta}_cv{cv_index}.pkl', \n",
    "                                            word_weights=word_scores, \n",
    "                                            is_sparse=True,\n",
    "                                            beta=beta) \n",
    "\n",
    "                train_articles = create_articles(train_supports, ear_rules=ear_rules, ar_weight=0, ear_weight=1, nn_weight=0)\n",
    "                solution = run_greedy(articles=train_articles, layout=layout, distance_weight=0, rule_weight=1, rule_weight_for_article_scores=1, penalty_weight=0, verbose=False, hp_tuning=True)\n",
    "                average_distance_travelled = evaluate_solution_for_greedy_no_depot(solution, test_df, layout, batch_size=1)\n",
    "\n",
    "                results[i,j] = average_distance_travelled\n",
    "\n",
    "        results = pd.DataFrame(results, index=gammas)\n",
    "\n",
    "        col_names = {i: delta for i, delta in enumerate(deltas)}\n",
    "        results.rename(columns=col_names, inplace=True)\n",
    "        print('Results:')\n",
    "        print(results)\n",
    "\n",
    "        results.to_excel(f'../Data/Results/ear_good_pair_scores_gamma{gammas}_delta{deltas}_k{4}_cv{cv_index}.xlsx')\n"
   ]
  },
  {
   "cell_type": "code",
   "execution_count": 18,
   "metadata": {},
   "outputs": [],
   "source": [
    "def test_hyperparameters_k_r(data, cv_index, parallel_rules=False, ks=[], rs=[], gamma=0.75, delta=1.75):\n",
    "    train_df, test_df, train_supports, train_unique, all_unique, train_orders, vectorizer = data\n",
    "    start = time.time()\n",
    "    itemsets, itemsets_size_2 = generate_itemsets(train_df, min_support=0.0001)\n",
    "\n",
    "    ar_rules = compute_ar_rules(itemsets_size_2, metric='lift', min_threshold=1, \n",
    "                                save_path=f'../Data/Rules/ar_rules_{n_orders}_cv{cv_index}.pkl')\n",
    "\n",
    "    # f = open(f'../Data/Rules/ar_rules_{n_orders}_cv{cv_index}.pkl', \"rb\")\n",
    "    # ar_rules = pickle.load(f)\n",
    "    # f.close()\n",
    "\n",
    "\n",
    "    train_articles = create_articles(train_supports, ar_rules=ar_rules, ar_weight=1, ear_weight=0, nn_weight=0)\n",
    "    solution = run_greedy(articles=train_articles, layout=layout, distance_weight=0, rule_weight=1, rule_weight_for_article_scores=1, penalty_weight=0, verbose=False, hp_tuning=True)\n",
    "    ar_result = evaluate_solution_for_greedy_no_depot(solution, test_df, layout, batch_size=1, verbose=True)\n",
    "\n",
    "    words = vectorizer.cv.get_feature_names_out()\n",
    "    word_scores, single_word_scores, word_frequencies = calculate_word_scores(train_unique, \n",
    "                                                                                train_orders, \n",
    "                                                                                words, \n",
    "                                                                                gamma=gamma,\n",
    "                                                                                delta=delta)\n",
    "                                                                                \n",
    "    min_score = np.min([score for score in word_scores if score > 0])\n",
    "    word_scores = [score if score > 0 else min_score/2 for score in word_scores]\n",
    "\n",
    "    print('AR result: ', ar_result)\n",
    "    if not parallel_rules:\n",
    "        results = np.zeros((len(ks), len(rs)))\n",
    "        for i, k in enumerate(ks):\n",
    "            for j, r in enumerate(rs):\n",
    "\n",
    "                ear_rules = get_ear_rules(ar_rules, \n",
    "                                            unique_items=list(all_unique),\n",
    "                                            k=k,\n",
    "                                            r=r, \n",
    "                                            embeddings_path=f'../Data/sparse_bow_{n_orders}_cv{cv_index}.pkl', \n",
    "                                            save_path=f'../../Test code/Data/Rules/ear_rules_single_scores_k{k}_r{r}_cv{cv_index}_xx.pkl', \n",
    "                                            word_weights=word_scores, \n",
    "                                            is_sparse=True,\n",
    "                                            beta=r/10) \n",
    "\n",
    "                train_articles = create_articles(train_supports, ear_rules=ear_rules, ar_weight=0, ear_weight=1, nn_weight=0)\n",
    "                solution = run_greedy(articles=train_articles, layout=layout, distance_weight=0, rule_weight=1, rule_weight_for_article_scores=1, penalty_weight=0, verbose=False, hp_tuning=True)\n",
    "                average_distance_travelled = evaluate_solution_for_greedy_no_depot(solution, test_df, layout, batch_size=1)\n",
    "\n",
    "                results[i,j] = average_distance_travelled\n",
    "\n",
    "        results = pd.DataFrame(results, index=ks)\n",
    "\n",
    "        col_names = {i: r for i, r in enumerate(rs)}\n",
    "        results.rename(columns=col_names, inplace=True)\n",
    "        print('Results:')\n",
    "        print(results)\n",
    "\n",
    "        results.to_excel(f'../Data/Results/ear_k{ks}_r{rs}_k{4}_cv{cv_index}.xlsx')"
   ]
  },
  {
   "cell_type": "code",
   "execution_count": 19,
   "metadata": {},
   "outputs": [],
   "source": [
    "def test_hyperparameters_parallel(data, cv_index, parallel_rules=False, parallel_weights=[], k=[], r=[], gamma=0.75, delta=1.75):\n",
    "    train_df, test_df, train_supports, train_unique, all_unique, train_orders, vectorizer = data\n",
    "    start = time.time()\n",
    "    itemsets, itemsets_size_2 = generate_itemsets(train_df, min_support=0.0001)\n",
    "\n",
    "    ar_rules = compute_ar_rules(itemsets_size_2, metric='lift', min_threshold=1, \n",
    "                                save_path=f'../Data/Rules/ar_rules_{n_orders}_cv{cv_index}.pkl')\n",
    "\n",
    "    # f = open(f'../Data/Rules/ar_rules_{n_orders}_cv{cv_index}.pkl', \"rb\")\n",
    "    # ar_rules = pickle.load(f)\n",
    "    # f.close()\n",
    "\n",
    "\n",
    "#     train_articles = create_articles(train_supports, ar_rules=ar_rules, ar_weight=1, ear_weight=0, nn_weight=0)\n",
    "#     solution = run_greedy(articles=train_articles, layout=layout, distance_weight=0, rule_weight=1, rule_weight_for_article_scores=1, penalty_weight=0, verbose=False, hp_tuning=True)\n",
    "#     ar_result = evaluate_solution_for_greedy_no_depot(solution, test_df, layout, batch_size=1, verbose=True)\n",
    "\n",
    "#     words = vectorizer.cv.get_feature_names_out()\n",
    "#     word_scores, single_word_scores, word_frequencies = calculate_word_scores(train_unique, \n",
    "#                                                                                 train_orders, \n",
    "#                                                                                 words, \n",
    "#                                                                                 gamma=gamma,\n",
    "#                                                                                 delta=delta)\n",
    "                                                                                \n",
    "#     min_score = np.min([score for score in word_scores if score > 0])\n",
    "#     word_scores = [score if score > 0 else min_score/2 for score in word_scores]\n",
    "\n",
    "#     print('AR result: ', ar_result)\n",
    "    results = np.zeros((len(parallel_weights)))\n",
    "    for i, parallel_weight in enumerate(parallel_weights):\n",
    "            ear_rules = get_ear_rules(ar_rules, \n",
    "                                        unique_items=list(all_unique),\n",
    "                                        k=k,\n",
    "                                        r=r, \n",
    "                                        embeddings_path=f'../Data/sparse_bow_{n_orders}_cv{cv_index}.pkl', \n",
    "                                        save_path=f'../../Test code/Data/Rules/ear_rules_unweighted_k{k}_r{r}_cv{cv_index}_parallel{parallel_weight}.pkl', \n",
    "                                        word_weights=defaultdict(lambda: 1), \n",
    "                                        is_sparse=True,\n",
    "                                        beta=r/10,\n",
    "                                        parallel_rules=parallel_rules,\n",
    "                                        parallel_weight=parallel_weight) \n",
    "\n",
    "            train_articles = create_articles(train_supports, ear_rules=ear_rules, ar_weight=0, ear_weight=1, nn_weight=0)\n",
    "            solution = run_greedy(articles=train_articles, layout=layout, distance_weight=0, rule_weight=1, rule_weight_for_article_scores=1, penalty_weight=0, verbose=False, hp_tuning=True)\n",
    "            average_distance_travelled = evaluate_solution_for_greedy_no_depot(solution, test_df, layout, batch_size=1)\n",
    "\n",
    "            results[i] = average_distance_travelled\n",
    "\n",
    "    print('Results:')\n",
    "    print(results)\n",
    "    results = pd.DataFrame(results, index=parallel_weights)\n",
    "\n",
    "    # col_names = {i: r for i, r in enumerate(rs)}\n",
    "    # results.rename(columns=col_names, inplace=True)\n",
    "    \n",
    "\n",
    "    results.to_excel(f'../Data/Results/ear_k_parallel{parallel_weights}_cv{cv_index}.xlsx')"
   ]
  },
  {
   "cell_type": "code",
   "execution_count": 20,
   "metadata": {},
   "outputs": [],
   "source": [
    "def test_hyperparameters_ar_ear(data, cv_index, parallel_rules=True, parallel_weight=10, k=2, r=1, gamma=1.6, delta=3.5, ear_weights=[]):\n",
    "    train_df, test_df, train_supports, train_unique, all_unique, train_orders, vectorizer = data\n",
    "    start = time.time()\n",
    "    itemsets, itemsets_size_2 = generate_itemsets(train_df, min_support=0.0001)\n",
    "\n",
    "    ar_rules = compute_ar_rules(itemsets_size_2, metric='lift', min_threshold=1, \n",
    "                                save_path=f'../Data/Rules/ar_rules_{n_orders}_cv{cv_index}.pkl')\n",
    "\n",
    "\n",
    "\n",
    "    words = vectorizer.cv.get_feature_names_out()\n",
    "    word_scores, single_word_scores, word_frequencies = calculate_word_scores(train_unique, \n",
    "                                                                                train_orders, \n",
    "                                                                                words, \n",
    "                                                                                gamma=gamma,\n",
    "                                                                                delta=delta)\n",
    "                                                                                \n",
    "    min_score = np.min([score for score in word_scores if score > 0])\n",
    "    word_scores = [score if score > 0 else min_score/2 for score in word_scores]\n",
    "\n",
    "    results = np.zeros((len(ear_weights)))\n",
    "    \n",
    "    ear_rules = get_ear_rules(ar_rules, \n",
    "                                unique_items=list(all_unique),\n",
    "                                k=k,\n",
    "                                r=r, \n",
    "                                embeddings_path=f'../Data/sparse_bow_{n_orders}_cv{cv_index}.pkl', \n",
    "                                save_path=f'../../Test code/Data/Rules/ear_rules_pair_scores_comb_k{k}_r{r}_cv{cv_index}_parallel{parallel_weight}.pkl', \n",
    "                                word_weights=word_scores, \n",
    "                                is_sparse=True,\n",
    "                                beta=r/10,\n",
    "                                parallel_rules=parallel_rules,\n",
    "                                parallel_weight=parallel_weight) \n",
    "\n",
    "    for i, ear_weight in enumerate(ear_weights):\n",
    "\n",
    "        train_articles = create_articles(train_supports, ar_rules=ar_rules, ear_rules=ear_rules, ar_weight=1, ear_weight=ear_weight, nn_weight=0)\n",
    "        solution = run_greedy(articles=train_articles, layout=layout, distance_weight=0, rule_weight=1, rule_weight_for_article_scores=1, penalty_weight=0, verbose=False, hp_tuning=True)\n",
    "        average_distance_travelled = evaluate_solution_for_greedy_no_depot(solution, test_df, layout, batch_size=1)\n",
    "\n",
    "        results[i] = average_distance_travelled\n",
    "\n",
    "    print('Results:')\n",
    "    print(results)\n",
    "    results = pd.DataFrame(results, index=ear_weights)\n",
    "\n",
    "    # col_names = {i: r for i, r in enumerate(rs)}\n",
    "    # results.rename(columns=col_names, inplace=True)\n",
    "    \n",
    "\n",
    "    results.to_excel(f'../Data/Results/ear_weights{ear_weights}_cv{cv_index}.xlsx')"
   ]
  },
  {
   "cell_type": "code",
   "execution_count": 21,
   "metadata": {},
   "outputs": [],
   "source": [
    "def test_hyperparameters_rule_type(data, cv_index, parallel_rules=True, parallel_weight=10, k=2, r=1, gamma=1.6, delta=3.5, ear_weights=[], nn_weights=[]):\n",
    "    train_df, test_df, train_supports, train_unique, all_unique, train_orders, vectorizer = data\n",
    "    _, itemsets_size_2 = generate_itemsets(train_df, min_support=0.0001)\n",
    "\n",
    "    ar_rules = compute_ar_rules(itemsets_size_2, metric='lift', min_threshold=1, \n",
    "                                save_path=f'../Data/Rules/ar_rules_{n_orders}_cv{cv_index}.pkl')\n",
    "\n",
    "\n",
    "\n",
    "    words = vectorizer.cv.get_feature_names_out()\n",
    "    word_scores, _, _ = calculate_word_scores(train_unique, \n",
    "                                                                                train_orders, \n",
    "                                                                                words, \n",
    "                                                                                gamma=gamma,\n",
    "                                                                                delta=delta)\n",
    "                                                                                \n",
    "    min_score = np.min([score for score in word_scores if score > 0])\n",
    "    word_scores = [score if score > 0 else min_score/2 for score in word_scores]\n",
    "\n",
    "    results = np.zeros((len(ear_weights), len(nn_weights)))\n",
    "    \n",
    "    ear_rules = get_ear_rules(ar_rules, \n",
    "                                unique_items=list(all_unique),\n",
    "                                k=k,\n",
    "                                r=r, \n",
    "                                embeddings_path=f'../Data/sparse_bow_{n_orders}_cv{cv_index}.pkl', \n",
    "                                save_path=f'../../Test code/Data/Rules/ear_rules_pair_scores_combined_k{k}_r{r}_cv{cv_index}_parallel{parallel_weight}.pkl', \n",
    "                                word_weights=word_scores, \n",
    "                                is_sparse=True,\n",
    "                                beta=r/10,\n",
    "                                parallel_rules=parallel_rules,\n",
    "                                parallel_weight=parallel_weight) \n",
    "\n",
    "    f = open(f'../Data/HP/nn_rules_f_{cv_index}_k_100_r_0.001.pkl', 'rb')\n",
    "    nn_rules = pickle.load(f)\n",
    "    f.close()\n",
    "\n",
    "    for i, ear_weight in tqdm(enumerate(ear_weights)):\n",
    "        for j, nn_weight in enumerate(nn_weights):\n",
    "\n",
    "            train_articles = create_articles(train_supports, ar_rules=ar_rules, ear_rules=ear_rules, nn_rules=nn_rules, ar_weight=1, ear_weight=ear_weight, nn_weight=nn_weight)\n",
    "            solution = run_greedy(articles=train_articles, layout=layout, distance_weight=0, rule_weight=1, rule_weight_for_article_scores=1, penalty_weight=0, verbose=False, hp_tuning=True)\n",
    "            average_distance_travelled = evaluate_solution_for_greedy_no_depot(solution, test_df, layout, batch_size=1)\n",
    "\n",
    "            results[i, j] = average_distance_travelled\n",
    "\n",
    "    print('Results:')\n",
    "    print(results)\n",
    "    results = pd.DataFrame(results, index=ear_weights)\n",
    "\n",
    "    col_names = {i: r for i, r in enumerate(nn_weights)}\n",
    "    results.rename(columns=col_names, inplace=True)\n",
    "    \n",
    "\n",
    "    results.to_excel(f'../Data/Results/ear_weights{ear_weights}_nn_weights{nn_weights}_cv{cv_index}_2.xlsx')"
   ]
  },
  {
   "cell_type": "code",
   "execution_count": 22,
   "metadata": {},
   "outputs": [],
   "source": [
    "## Large tuning¨\n",
    "# Stig som djunglar\n",
    "\n",
    "# load data somehow\n",
    "# (data, cv_index, parallel_rules=False, parallel_weights=[], k=[], r=[], gamma=0.75, delta=1.75):\n",
    "\n"
   ]
  },
  {
   "cell_type": "code",
   "execution_count": null,
   "metadata": {},
   "outputs": [],
   "source": [
    "# ear_weights = [1e-4, 1e-3, 1e-2, 1e-1, 1]\n",
    "# nn_weights = [1e-1, 1, 1e1, 1e2]\n",
    "\n",
    "# for cv_index in range(4):\n",
    "#     try:\n",
    "#         data = load_data(f'../../Test code/Data/{n_orders}_orders/data_{cv_index}.pkl')\n",
    "#         train_df, test_df, train_supports, train_unique, all_unique, train_orders, vectorizer = data\n",
    "#         bow = vectorizer.get_sparse_bow_embeddings(list(all_unique), save_path=f'../Data/sparse_bow_{n_orders}_cv{cv_index}.pkl')\n",
    "#     except:\n",
    "#         data = create_data(cv_index)\n",
    "#     # train_df, test_df, train_supports, train_unique, all_unique, train_orders, vectorizer = data\n",
    "#     # run_unweighted(data, cv_index)\n",
    "\n",
    "#     test_hyperparameters_rule_type(data, cv_index, ear_weights=ear_weights, nn_weights=nn_weights)\n",
    "    "
   ]
  },
  {
   "cell_type": "markdown",
   "metadata": {},
   "source": [
    "# Small layout"
   ]
  },
  {
   "cell_type": "code",
   "execution_count": 7,
   "metadata": {},
   "outputs": [
    {
     "data": {
      "image/png": "[encoded data removed]",
      "text/plain": [
       "<Figure size 1440x1440 with 2 Axes>"
      ]
     },
     "metadata": {},
     "output_type": "display_data"
    }
   ],
   "source": [
    "n_orders = 20000\n",
    "\n",
    "layout_file = open('../Data/HP/layout_big.pkl', \"rb\")\n",
    "layout = pickle.load(layout_file)\n",
    "layout_file.close()\n",
    "\n",
    "\n",
    "plt.figure(figsize=(20,20))\n",
    "sns.heatmap(layout.layout_matrix, square=True, linewidths=1)\n",
    "plt.show() \n",
    "for shelf in layout.shelves:\n",
    "    shelf.height = 5\n",
    "    \n",
    "layout.shelves.sort(key=lambda x: layout.distances[layout.depot_location][x.pick_location])\n",
    "\n",
    "layout.find_shelves_closest_to_depot()\n"
   ]
  },
  {
   "cell_type": "markdown",
   "metadata": {},
   "source": [
    "# EAR Tuning"
   ]
  },
  {
   "cell_type": "code",
   "execution_count": 10,
   "metadata": {},
   "outputs": [
    {
     "name": "stderr",
     "output_type": "stream",
     "text": [
      "3it [05:26, 108.86s/it]\n"
     ]
    },
    {
     "name": "stdout",
     "output_type": "stream",
     "text": [
      "Results:\n",
      "[[62.9276 62.758  63.7808]\n",
      " [62.7808 62.8236 63.5728]\n",
      " [63.1868 62.8632 64.9352]]\n"
     ]
    },
    {
     "name": "stderr",
     "output_type": "stream",
     "text": [
      "3it [04:22, 87.63s/it]\n"
     ]
    },
    {
     "name": "stdout",
     "output_type": "stream",
     "text": [
      "Results:\n",
      "[[61.0516 60.986  61.46  ]\n",
      " [60.6704 61.0476 61.5468]\n",
      " [61.2996 61.2192 61.7728]]\n"
     ]
    },
    {
     "name": "stderr",
     "output_type": "stream",
     "text": [
      "3it [09:43, 194.49s/it]\n"
     ]
    },
    {
     "name": "stdout",
     "output_type": "stream",
     "text": [
      "Results:\n",
      "[[71.2948 71.4876 72.0384]\n",
      " [71.458  71.544  72.098 ]\n",
      " [71.6764 71.7116 72.4148]]\n"
     ]
    },
    {
     "name": "stderr",
     "output_type": "stream",
     "text": [
      "3it [03:46, 75.58s/it]"
     ]
    },
    {
     "name": "stdout",
     "output_type": "stream",
     "text": [
      "Results:\n",
      "[[68.7428 69.114  69.6616]\n",
      " [68.2276 68.3492 69.6984]\n",
      " [68.6836 68.7592 70.238 ]]\n"
     ]
    },
    {
     "name": "stderr",
     "output_type": "stream",
     "text": [
      "\n"
     ]
    }
   ],
   "source": [
    "parallel_weight = 10\n",
    "gamma = 1.6\n",
    "delta = 3.5\n",
    "k = 2\n",
    "r = 1\n",
    "\n",
    "ear_weight = 1e-4\n",
    "nn_weight = 10\n",
    "\n",
    "ar_weight = 0\n",
    "ear_weight = 1\n",
    "nn_weight = 0\n",
    "\n",
    "dw = 5e5\n",
    "aw = 1\n",
    "p = 0\n",
    "\n",
    "\n",
    "dws = [1e5, 1e6, 1e7]\n",
    "aws = [1e-9, 1e-8, 1e-7]\n",
    "# dws = [1e6]\n",
    "# aws = [1e-8]\n",
    "all_results = []\n",
    "for cv_index in range(4):\n",
    "    try:\n",
    "        data = load_data(f'../../Test code/Data/{n_orders}_orders/data_{cv_index}.pkl')\n",
    "        train_df, test_df, train_supports, train_unique, all_unique, train_orders, vectorizer = data\n",
    "        bow = vectorizer.get_sparse_bow_embeddings(list(all_unique), save_path=f'../Data/sparse_bow_{n_orders}_cv{cv_index}.pkl')\n",
    "    except:\n",
    "        data = create_data(cv_index)\n",
    "    train_df, test_df, train_supports, train_unique, all_unique, train_orders, vectorizer = data\n",
    "    _, itemsets_size_2 = generate_itemsets(train_df, min_support=0.0001)\n",
    "\n",
    "    ar_rules = compute_ar_rules(itemsets_size_2, metric='lift', min_threshold=1, \n",
    "                                save_path=f'../Data/Rules/ar_rules_{n_orders}_cv{cv_index}.pkl')\n",
    "\n",
    "\n",
    "\n",
    "    words = vectorizer.cv.get_feature_names_out()\n",
    "    word_scores, _, _ = calculate_word_scores(train_unique, \n",
    "                                                train_orders, \n",
    "                                                words, \n",
    "                                                gamma=gamma,\n",
    "                                                delta=delta)\n",
    "                                                                                \n",
    "    min_score = np.min([score for score in word_scores if score > 0])\n",
    "    word_scores = [score if score > 0 else min_score/2 for score in word_scores]\n",
    "\n",
    "    results = np.zeros((len(dws), len(aws)))\n",
    "\n",
    "    ear_rules = get_ear_rules(ar_rules, \n",
    "                                unique_items=list(all_unique),\n",
    "                                k=k,\n",
    "                                r=r, \n",
    "                                embeddings_path=f'../Data/sparse_bow_{n_orders}_cv{cv_index}.pkl', \n",
    "                                save_path=f'../../Test code/Data/Rules/ear_rules_pair_scores_combined_k{k}_r{r}_cv{cv_index}_parallel{parallel_weight}.pkl', \n",
    "                                word_weights=word_scores, \n",
    "                                is_sparse=True,\n",
    "                                beta=r/10,\n",
    "                                parallel_rules=True,\n",
    "                                parallel_weight=parallel_weight) \n",
    "\n",
    "    f = open(f'../Data/HP/nn_rules_f_{cv_index}_k_100_r_0.001.pkl', 'rb')\n",
    "    nn_rules = pickle.load(f)\n",
    "    f.close()\n",
    "\n",
    "    for i, dw in tqdm(enumerate(dws)):\n",
    "        for j, aw in enumerate(aws):\n",
    "\n",
    "            train_articles = create_articles(train_supports, ar_rules=ar_rules, ear_rules=ear_rules, nn_rules=nn_rules, ar_weight=ar_weight, ear_weight=ear_weight, nn_weight=nn_weight)\n",
    "            solution = run_greedy(articles=train_articles, layout=layout, distance_weight=dw, rule_weight=1, rule_weight_for_article_scores=aw, penalty_weight=p, verbose=False, hp_tuning=False)\n",
    "            average_distance_travelled = evaluate_solution_for_greedy(solution, test_df, layout, batch_size=1)\n",
    "\n",
    "            results[i, j] = average_distance_travelled\n",
    "\n",
    "    print('Results:')\n",
    "    print(results)\n",
    "    all_results.append(results)\n",
    "    # results = pd.DataFrame(results, index=dws)\n",
    "\n"
   ]
  },
  {
   "cell_type": "code",
   "execution_count": 11,
   "metadata": {},
   "outputs": [
    {
     "name": "stdout",
     "output_type": "stream",
     "text": [
      "(3, 3)\n",
      "[[66.0042 66.0864 66.7352]\n",
      " [65.7842 65.9411 66.729 ]\n",
      " [66.2116 66.1383 67.3402]]\n",
      "Min:  65.7842\n",
      "1000000.0 1e-09\n"
     ]
    },
    {
     "data": {
      "image/png": "[encoded data removed]",
      "text/plain": [
       "<Figure size 1440x720 with 4 Axes>"
      ]
     },
     "metadata": {},
     "output_type": "display_data"
    }
   ],
   "source": [
    "total_results = []\n",
    "# r0 = [[50.3628, 52.8932, 52.9416, 52.9416],[50.8344, 52.4976, 52.4984, 52.4984],[46.654,  48.858,  48.8612, 48.8612], [46.4424, 47.4616, 47.4792, 47.4792],[48.8552, 49.4676 ,48.9476, 48.9476]]\n",
    "# r1 = [[47.308,  50.8676, 50.9172, 50.9172],[46.872,  50.7152, 50.7152, 50.7152],[46.2428, 49.3548, 49.3548, 49.3548],[42.4292, 45.0444, 45.0432, 45.0432],[44.4548, 46.888,  46.8908, 46.8908]]\n",
    "# r2 = [[58.6464, 58.0052, 57.9404, 57.9404], [51.0404, 56.0108, 56.0076, 56.0076], [48.4668, 48.9152, 48.9152, 48.9152], [48.0296, 48.5928, 48.5928, 48.5928], [49.6788, 50.4988, 50.5052, 50.5052]]\n",
    "# r3 = [[50.3024, 57.786,  57.6984, 57.6984], [48.2772, 60.48,   60.48,   60.48  ], [47.0868, 51.8796, 51.9048, 51.9048], [46.4316, 46.846,  46.7772, 46.7772], [49.4408, 50.2628, 50.1344, 50.1344]]\n",
    "r0, r1, r2, r3 = all_results[0], all_results[1], all_results[2], all_results[3]\n",
    "\n",
    "\n",
    "dws_and_aws = []\n",
    "for i, dw in enumerate(dws):\n",
    "    for j, aw in enumerate(aws):\n",
    "        total_results.append([r0[i][j], r1[i][j], r2[i][j], r3[i][j]])\n",
    "        dws_and_aws.append((dw, aw))\n",
    "\n",
    "\n",
    "res = np.reshape(np.array(total_results), newshape=(len(r0), len(r0[0]), 4))\n",
    "\n",
    "means = np.reshape(np.mean(res, axis=2), newshape=(len(r0), len(r0[0])))\n",
    "print(means.shape)\n",
    "fig, axes = plt.subplots(1, 2, figsize=(20, 10))\n",
    "sns.heatmap(means, ax=axes[0], square=True, yticklabels=dws, xticklabels=aws)\n",
    "stds = np.reshape(np.std(res, axis=2), newshape=(len(r0), len(r0[0])))\n",
    "sns.heatmap(stds, ax=axes[1], square=True, yticklabels=dws, xticklabels=aws)\n",
    "print(means)\n",
    "\n",
    "print('Min: ', np.min(means))\n",
    "min_index = np.argmin(means)\n",
    "dw_ear, aw_ear = dws_and_aws[min_index]\n",
    "print(dw_ear, aw_ear)"
   ]
  },
  {
   "cell_type": "markdown",
   "metadata": {},
   "source": [
    "# FINAL EAR TESTS"
   ]
  },
  {
   "cell_type": "code",
   "execution_count": 8,
   "metadata": {},
   "outputs": [],
   "source": [
    "n_orders = 20000\n",
    "\n",
    "layout_file = open('../Data/HP/layout_big.pkl', \"rb\")\n",
    "layout = pickle.load(layout_file)\n",
    "layout_file.close()\n",
    "\n",
    "for shelf in layout.shelves:\n",
    "    shelf.height = 14\n",
    "    \n",
    "layout.shelves.sort(key=lambda x: layout.distances[layout.depot_location][x.pick_location])\n",
    "\n",
    "layout.find_shelves_closest_to_depot()"
   ]
  },
  {
   "cell_type": "code",
   "execution_count": 9,
   "metadata": {},
   "outputs": [],
   "source": [
    "f = open(f'../Data/final_data.pkl', \"rb\")\n",
    "data = pickle.load(f)\n",
    "f.close()\n",
    "\n",
    "train_df, test_df, train_supports, train_unique, all_unique, train_orders, vectorizer = data\n",
    "bow = vectorizer.get_sparse_bow_embeddings(list(all_unique), save_path=f'../Data/sparse_bow_FINAL.pkl')"
   ]
  },
  {
   "cell_type": "code",
   "execution_count": 10,
   "metadata": {},
   "outputs": [
    {
     "name": "stderr",
     "output_type": "stream",
     "text": [
      "59062it [11:19, 86.96it/s] "
     ]
    },
    {
     "name": "stdout",
     "output_type": "stream",
     "text": [
      "Result: 46.71816057702076\n"
     ]
    },
    {
     "name": "stderr",
     "output_type": "stream",
     "text": [
      "\n"
     ]
    }
   ],
   "source": [
    "# EAR results!\n",
    "\n",
    "dw_ear = 1000000.0\n",
    "aw_ear = 1e-09\n",
    "parallel_weight = 10\n",
    "gamma = 1.6\n",
    "delta = 3.5\n",
    "k = 2\n",
    "r = 1\n",
    "\n",
    "dw = dw_ear\n",
    "aw = aw_ear\n",
    "p = 0\n",
    "\n",
    "scores = defaultdict(list)\n",
    "# score_path = '../Data/scores_ear_tuning_1e-9_1e6.pkl'\n",
    "\n",
    "\n",
    "\n",
    "itemsets, itemsets_size_2 = generate_itemsets(train_df, min_support=0.0001)\n",
    "\n",
    "ar_rules = compute_ar_rules(itemsets_size_2, metric='lift', min_threshold=1, \n",
    "                            save_path=f'../Data/Rules/ar_rules_FINAL.pkl')\n",
    "\n",
    "words = vectorizer.cv.get_feature_names_out()\n",
    "word_scores, single_word_scores, word_frequencies = calculate_word_scores(train_unique, \n",
    "                                                                            train_orders, \n",
    "                                                                            words, \n",
    "                                                                            gamma=gamma,\n",
    "                                                                            delta=delta)\n",
    "                                                                            \n",
    "min_score = np.min([score for score in word_scores if score > 0])\n",
    "word_scores = [score if score > 0 else min_score/2 for score in word_scores]\n",
    "ear_rules = get_ear_rules(ar_rules, \n",
    "                            unique_items=list(all_unique),\n",
    "                            k=k,\n",
    "                            r=r, \n",
    "                            embeddings_path=f'../Data/sparse_bow_FINAL.pkl', \n",
    "                            save_path=f'../../Test code/Data/Rules/ear_rules_pair_scores_FINAL.pkl', \n",
    "                            word_weights=word_scores, \n",
    "                            is_sparse=True,\n",
    "                            beta=r/10,\n",
    "                            parallel_rules=True,\n",
    "                            parallel_weight=parallel_weight) \n",
    "\n",
    "train_articles = create_articles(train_supports, ear_rules=ear_rules, ar_weight=0, ear_weight=1, nn_weight=0)\n",
    "solution = run_greedy(articles=train_articles, layout=layout, distance_weight=dw, rule_weight=1, rule_weight_for_article_scores=aw, penalty_weight=p, verbose=False, hp_tuning=False)\n",
    "average_distance_travelled = evaluate_solution_for_greedy(solution, test_df, layout, batch_size=1, verbose=True)\n",
    "print('Result:', average_distance_travelled)"
   ]
  },
  {
   "cell_type": "code",
   "execution_count": 11,
   "metadata": {},
   "outputs": [],
   "source": [
    "f = open(f'../Data/final_early_data.pkl', \"rb\")\n",
    "data = pickle.load(f)\n",
    "f.close()\n",
    "\n",
    "train_df, test_df, train_supports, train_unique, all_unique, train_orders, vectorizer = data\n",
    "bow = vectorizer.get_sparse_bow_embeddings(list(all_unique), save_path=f'../Data/sparse_bow_FINAL_EARLY.pkl')"
   ]
  },
  {
   "cell_type": "code",
   "execution_count": 12,
   "metadata": {},
   "outputs": [
    {
     "name": "stderr",
     "output_type": "stream",
     "text": [
      "59062it [09:51, 99.87it/s] "
     ]
    },
    {
     "name": "stdout",
     "output_type": "stream",
     "text": [
      "Result: 70.51037892384274\n"
     ]
    },
    {
     "name": "stderr",
     "output_type": "stream",
     "text": [
      "\n"
     ]
    }
   ],
   "source": [
    "# EAR results!\n",
    "parallel_weight = 10\n",
    "gamma = 1.6\n",
    "delta = 3.5\n",
    "k = 2\n",
    "r = 1\n",
    "\n",
    "dw = dw_ear\n",
    "aw = aw_ear\n",
    "p = 0\n",
    "\n",
    "scores = defaultdict(list)\n",
    "# score_path = '../Data/scores_ear_tuning_1e-9_1e6.pkl'\n",
    "\n",
    "\n",
    "\n",
    "itemsets, itemsets_size_2 = generate_itemsets(train_df, min_support=0.0001)\n",
    "\n",
    "ar_rules = compute_ar_rules(itemsets_size_2, metric='lift', min_threshold=1, \n",
    "                            save_path=f'../Data/Rules/ar_rules_FINAL_EARLY.pkl')\n",
    "\n",
    "words = vectorizer.cv.get_feature_names_out()\n",
    "word_scores, single_word_scores, word_frequencies = calculate_word_scores(train_unique, \n",
    "                                                                            train_orders, \n",
    "                                                                            words, \n",
    "                                                                            gamma=gamma,\n",
    "                                                                            delta=delta)\n",
    "                                                                            \n",
    "min_score = np.min([score for score in word_scores if score > 0])\n",
    "word_scores = [score if score > 0 else min_score/2 for score in word_scores]\n",
    "ear_rules = get_ear_rules(ar_rules, \n",
    "                            unique_items=list(all_unique),\n",
    "                            k=k,\n",
    "                            r=r, \n",
    "                            embeddings_path=f'../Data/sparse_bow_FINAL_EARLY.pkl', \n",
    "                            save_path=f'../../Test code/Data/Rules/ear_rules_pair_scores_FINAL_EARLY.pkl', \n",
    "                            word_weights=word_scores, \n",
    "                            is_sparse=True,\n",
    "                            beta=r/10,\n",
    "                            parallel_rules=True,\n",
    "                            parallel_weight=parallel_weight) \n",
    "\n",
    "train_articles = create_articles(train_supports, ear_rules=ear_rules, ar_weight=0, ear_weight=1, nn_weight=0)\n",
    "solution = run_greedy(articles=train_articles, layout=layout, distance_weight=dw, rule_weight=1, rule_weight_for_article_scores=aw, penalty_weight=p, verbose=False, hp_tuning=False)\n",
    "average_distance_travelled = evaluate_solution_for_greedy(solution, test_df, layout, batch_size=1, verbose=True)\n",
    "print('Result:', average_distance_travelled)"
   ]
  },
  {
   "cell_type": "code",
   "execution_count": 13,
   "metadata": {},
   "outputs": [],
   "source": [
    "f = open(f'../Data/final_full_data.pkl', \"rb\")\n",
    "data = pickle.load(f)\n",
    "f.close()\n",
    "\n",
    "train_df, test_df, train_supports, train_unique, all_unique, train_orders, vectorizer = data\n",
    "bow = vectorizer.get_sparse_bow_embeddings(list(all_unique), save_path=f'../Data/sparse_bow_FINAL_FULL.pkl')"
   ]
  },
  {
   "cell_type": "code",
   "execution_count": 14,
   "metadata": {},
   "outputs": [
    {
     "name": "stderr",
     "output_type": "stream",
     "text": [
      "59062it [08:53, 110.76it/s]"
     ]
    },
    {
     "name": "stdout",
     "output_type": "stream",
     "text": [
      "Result: 52.87931326402763\n"
     ]
    },
    {
     "name": "stderr",
     "output_type": "stream",
     "text": [
      "\n"
     ]
    }
   ],
   "source": [
    "# EAR results!\n",
    "parallel_weight = 10\n",
    "gamma = 1.6\n",
    "delta = 3.5\n",
    "k = 2\n",
    "r = 1\n",
    "\n",
    "dw = dw_ear\n",
    "aw = aw_ear\n",
    "p = 0\n",
    "\n",
    "scores = defaultdict(list)\n",
    "# score_path = '../Data/scores_ear_tuning_1e-9_1e6.pkl'\n",
    "\n",
    "\n",
    "\n",
    "itemsets, itemsets_size_2 = generate_itemsets(train_df, min_support=0.0001)\n",
    "\n",
    "ar_rules = compute_ar_rules(itemsets_size_2, metric='lift', min_threshold=1, \n",
    "                            save_path=f'../Data/Rules/ar_rules_FINAL_FULL.pkl')\n",
    "\n",
    "words = vectorizer.cv.get_feature_names_out()\n",
    "word_scores, single_word_scores, word_frequencies = calculate_word_scores(train_unique, \n",
    "                                                                            train_orders, \n",
    "                                                                            words, \n",
    "                                                                            gamma=gamma,\n",
    "                                                                            delta=delta)\n",
    "                                                                            \n",
    "min_score = np.min([score for score in word_scores if score > 0])\n",
    "word_scores = [score if score > 0 else min_score/2 for score in word_scores]\n",
    "ear_rules = get_ear_rules(ar_rules, \n",
    "                            unique_items=list(all_unique),\n",
    "                            k=k,\n",
    "                            r=r, \n",
    "                            embeddings_path=f'../Data/sparse_bow_FINAL_FULL.pkl', \n",
    "                            save_path=f'../../Test code/Data/Rules/ear_rules_pair_scores_FINAL_FULL.pkl', \n",
    "                            word_weights=word_scores, \n",
    "                            is_sparse=True,\n",
    "                            beta=r/10,\n",
    "                            parallel_rules=True,\n",
    "                            parallel_weight=parallel_weight) \n",
    "\n",
    "train_articles = create_articles(train_supports, ear_rules=ear_rules, ar_weight=0, ear_weight=1, nn_weight=0)\n",
    "solution = run_greedy(articles=train_articles, layout=layout, distance_weight=dw, rule_weight=1, rule_weight_for_article_scores=aw, penalty_weight=p, verbose=False, hp_tuning=False)\n",
    "average_distance_travelled = evaluate_solution_for_greedy(solution, test_df, layout, batch_size=1, verbose=True)\n",
    "print('Result:', average_distance_travelled)"
   ]
  },
  {
   "cell_type": "markdown",
   "metadata": {},
   "source": [
    "# Unweighted EAR Tuning"
   ]
  },
  {
   "cell_type": "code",
   "execution_count": 39,
   "metadata": {},
   "outputs": [],
   "source": [
    "n_orders = 20000\n",
    "\n",
    "layout_file = open('../Data/HP/layout_big.pkl', \"rb\")\n",
    "layout = pickle.load(layout_file)\n",
    "layout_file.close()\n",
    "\n",
    "for shelf in layout.shelves:\n",
    "    shelf.height = 5\n",
    "    \n",
    "layout.shelves.sort(key=lambda x: layout.distances[layout.depot_location][x.pick_location])\n",
    "\n",
    "layout.find_shelves_closest_to_depot()"
   ]
  },
  {
   "cell_type": "code",
   "execution_count": 40,
   "metadata": {},
   "outputs": [
    {
     "name": "stderr",
     "output_type": "stream",
     "text": [
      "3it [06:34, 131.65s/it]\n"
     ]
    },
    {
     "name": "stdout",
     "output_type": "stream",
     "text": [
      "Results:\n",
      "[[63.3764 63.3764 63.4776]\n",
      " [63.2016 63.2016 63.4356]\n",
      " [63.3228 63.3228 63.5868]]\n"
     ]
    },
    {
     "name": "stderr",
     "output_type": "stream",
     "text": [
      "3it [03:05, 61.92s/it]\n"
     ]
    },
    {
     "name": "stdout",
     "output_type": "stream",
     "text": [
      "Results:\n",
      "[[61.0048 61.0048 60.882 ]\n",
      " [61.4612 61.4612 61.0212]\n",
      " [61.4188 61.4188 61.3   ]]\n"
     ]
    },
    {
     "name": "stderr",
     "output_type": "stream",
     "text": [
      "3it [08:14, 164.71s/it]\n"
     ]
    },
    {
     "name": "stdout",
     "output_type": "stream",
     "text": [
      "Results:\n",
      "[[71.264  71.264  70.9788]\n",
      " [71.7524 71.7524 71.4352]\n",
      " [71.6424 71.6424 71.586 ]]\n"
     ]
    },
    {
     "name": "stderr",
     "output_type": "stream",
     "text": [
      "3it [04:07, 82.40s/it]"
     ]
    },
    {
     "name": "stdout",
     "output_type": "stream",
     "text": [
      "Results:\n",
      "[[69.288  69.288  69.1044]\n",
      " [69.0804 69.0804 68.9712]\n",
      " [69.3872 69.3872 69.4576]]\n"
     ]
    },
    {
     "name": "stderr",
     "output_type": "stream",
     "text": [
      "\n"
     ]
    }
   ],
   "source": [
    "parallel_weight = 1000\n",
    "\n",
    "k = 6\n",
    "r = 6\n",
    "\n",
    "ear_weight = 1e-4\n",
    "nn_weight = 10\n",
    "\n",
    "ar_weight = 0\n",
    "ear_weight = 1\n",
    "nn_weight = 0\n",
    "\n",
    "\n",
    "p = 0\n",
    "\n",
    "\n",
    "dws = [1e7, 1e8, 1e9]\n",
    "aws = [1e-13, 1e-12, 1e-11]\n",
    "# dws = [1e6]\n",
    "# aws = [1e-8]\n",
    "all_results = []\n",
    "for cv_index in range(4):\n",
    "    try:\n",
    "        data = load_data(f'../../Test code/Data/{n_orders}_orders/data_{cv_index}.pkl')\n",
    "        train_df, test_df, train_supports, train_unique, all_unique, train_orders, vectorizer = data\n",
    "        bow = vectorizer.get_sparse_bow_embeddings(list(all_unique), save_path=f'../Data/sparse_bow_{n_orders}_cv{cv_index}.pkl')\n",
    "    except:\n",
    "        data = create_data(cv_index)\n",
    "    train_df, test_df, train_supports, train_unique, all_unique, train_orders, vectorizer = data\n",
    "    _, itemsets_size_2 = generate_itemsets(train_df, min_support=0.0001)\n",
    "\n",
    "    ar_rules = compute_ar_rules(itemsets_size_2, metric='lift', min_threshold=1, \n",
    "                                save_path=f'../Data/Rules/ar_rules_{n_orders}_cv{cv_index}.pkl')\n",
    "\n",
    "\n",
    "\n",
    "    words = vectorizer.cv.get_feature_names_out()\n",
    "\n",
    "    results = np.zeros((len(dws), len(aws)))\n",
    "\n",
    "    ear_rules = get_ear_rules(ar_rules, \n",
    "                                unique_items=list(all_unique),\n",
    "                                k=k,\n",
    "                                r=r, \n",
    "                                embeddings_path=f'../Data/sparse_bow_{n_orders}_cv{cv_index}.pkl', \n",
    "                                save_path=f'../../Test code/Data/Rules/ear_rules_unweeighted_k{k}_r{r}_cv{cv_index}_parallel{parallel_weight}.pkl', \n",
    "                                word_weights=np.ones_like(words), \n",
    "                                is_sparse=True,\n",
    "                                beta=r/10,\n",
    "                                parallel_rules=True,\n",
    "                                parallel_weight=parallel_weight) \n",
    "\n",
    "    # f = open(f'../Data/HP/nn_rules_f_{cv_index}_k_100_r_0.001.pkl', 'rb')\n",
    "    # nn_rules = pickle.load(f)\n",
    "    # f.close()\n",
    "\n",
    "    for i, dw in tqdm(enumerate(dws)):\n",
    "        for j, aw in enumerate(aws):\n",
    "\n",
    "            train_articles = create_articles(train_supports, ar_rules=ar_rules, ear_rules=ear_rules, ar_weight=ar_weight, ear_weight=ear_weight, nn_weight=nn_weight)\n",
    "            solution = run_greedy(articles=train_articles, layout=layout, distance_weight=dw, rule_weight=1, rule_weight_for_article_scores=aw, penalty_weight=p, verbose=False, hp_tuning=False)\n",
    "            average_distance_travelled = evaluate_solution_for_greedy(solution, test_df, layout, batch_size=1)\n",
    "\n",
    "            results[i, j] = average_distance_travelled\n",
    "\n",
    "    print('Results:')\n",
    "    print(results)\n",
    "    all_results.append(results)\n",
    "    # results = pd.DataFrame(results, index=dws)\n"
   ]
  },
  {
   "cell_type": "code",
   "execution_count": 41,
   "metadata": {},
   "outputs": [
    {
     "name": "stdout",
     "output_type": "stream",
     "text": [
      "(3, 3)\n",
      "[[66.2333 66.2333 66.1107]\n",
      " [66.3739 66.3739 66.2158]\n",
      " [66.4428 66.4428 66.4826]]\n",
      "Min:  66.11070000000001\n",
      "10000000.0 1e-11\n"
     ]
    },
    {
     "data": {
      "image/png": "[encoded data removed]",
      "text/plain": [
       "<Figure size 1440x720 with 4 Axes>"
      ]
     },
     "metadata": {},
     "output_type": "display_data"
    }
   ],
   "source": [
    "total_results = []\n",
    "r0, r1, r2, r3 = all_results[0], all_results[1], all_results[2], all_results[3]\n",
    "\n",
    "\n",
    "dws_and_aws = []\n",
    "for i, dw in enumerate(dws):\n",
    "    for j, aw in enumerate(aws):\n",
    "        total_results.append([r0[i][j], r1[i][j], r2[i][j], r3[i][j]])\n",
    "        dws_and_aws.append((dw, aw))\n",
    "\n",
    "\n",
    "res = np.reshape(np.array(total_results), newshape=(len(r0), len(r0[0]), 4))\n",
    "\n",
    "means = np.reshape(np.mean(res, axis=2), newshape=(len(r0), len(r0[0])))\n",
    "print(means.shape)\n",
    "fig, axes = plt.subplots(1, 2, figsize=(20, 10))\n",
    "sns.heatmap(means, ax=axes[0], square=True, yticklabels=dws, xticklabels=aws)\n",
    "stds = np.reshape(np.std(res, axis=2), newshape=(len(r0), len(r0[0])))\n",
    "sns.heatmap(stds, ax=axes[1], square=True, yticklabels=dws, xticklabels=aws)\n",
    "print(means)\n",
    "\n",
    "print('Min: ', np.min(means))\n",
    "min_index = np.argmin(means)\n",
    "dw_uear, aw_uear = dws_and_aws[min_index]\n",
    "print(dw_uear, aw_uear)"
   ]
  },
  {
   "cell_type": "markdown",
   "metadata": {},
   "source": [
    "# FINAL UEAR TESTS"
   ]
  },
  {
   "cell_type": "code",
   "execution_count": 18,
   "metadata": {},
   "outputs": [],
   "source": [
    "n_orders = 20000\n",
    "\n",
    "layout_file = open('../Data/HP/layout_big.pkl', \"rb\")\n",
    "layout = pickle.load(layout_file)\n",
    "layout_file.close()\n",
    "\n",
    "for shelf in layout.shelves:\n",
    "    shelf.height = 14\n",
    "    \n",
    "layout.shelves.sort(key=lambda x: layout.distances[layout.depot_location][x.pick_location])\n",
    "\n",
    "layout.find_shelves_closest_to_depot()"
   ]
  },
  {
   "cell_type": "code",
   "execution_count": 19,
   "metadata": {},
   "outputs": [],
   "source": [
    "f = open(f'../Data/final_data.pkl', \"rb\")\n",
    "data = pickle.load(f)\n",
    "f.close()\n",
    "\n",
    "train_df, test_df, train_supports, train_unique, all_unique, train_orders, vectorizer = data\n",
    "bow = vectorizer.get_sparse_bow_embeddings(list(all_unique), save_path=f'../Data/sparse_bow_FINAL.pkl')"
   ]
  },
  {
   "cell_type": "code",
   "execution_count": 20,
   "metadata": {},
   "outputs": [
    {
     "name": "stderr",
     "output_type": "stream",
     "text": [
      "59062it [06:52, 143.13it/s]"
     ]
    },
    {
     "name": "stdout",
     "output_type": "stream",
     "text": [
      "Result: 47.32142494327994\n"
     ]
    },
    {
     "name": "stderr",
     "output_type": "stream",
     "text": [
      "\n"
     ]
    }
   ],
   "source": [
    "parallel_weight = 1000\n",
    "\n",
    "k = 6\n",
    "r = 6\n",
    "\n",
    "dw = dw_uear\n",
    "aw = aw_uear\n",
    "p = 0\n",
    "\n",
    "scores = defaultdict(list)\n",
    "# score_path = '../Data/scores_ear_tuning_1e-9_1e6.pkl'\n",
    "\n",
    "\n",
    "\n",
    "itemsets, itemsets_size_2 = generate_itemsets(train_df, min_support=0.0001)\n",
    "\n",
    "ar_rules = compute_ar_rules(itemsets_size_2, metric='lift', min_threshold=1, \n",
    "                            save_path=f'../Data/Rules/ar_rules_FINAL.pkl')\n",
    "\n",
    "\n",
    "ear_rules = get_ear_rules(ar_rules, \n",
    "                            unique_items=list(all_unique),\n",
    "                            k=k,\n",
    "                            r=r, \n",
    "                            embeddings_path=f'../Data/sparse_bow_FINAL.pkl', \n",
    "                            save_path=f'../../Test code/Data/Rules/ear_rules_unweighted_FINAL.pkl', \n",
    "                            word_weights=defaultdict(lambda: 1), \n",
    "                            is_sparse=True,\n",
    "                            beta=r/10,\n",
    "                            parallel_rules=True,\n",
    "                            parallel_weight=parallel_weight) \n",
    "\n",
    "train_articles = create_articles(train_supports, ear_rules=ear_rules, ar_weight=0, ear_weight=1, nn_weight=0)\n",
    "solution = run_greedy(articles=train_articles, layout=layout, distance_weight=dw, rule_weight=1, rule_weight_for_article_scores=aw, penalty_weight=p, verbose=False, hp_tuning=False)\n",
    "average_distance_travelled = evaluate_solution_for_greedy(solution, test_df, layout, batch_size=1, verbose=True)\n",
    "print('Result:', average_distance_travelled)"
   ]
  },
  {
   "cell_type": "code",
   "execution_count": 21,
   "metadata": {},
   "outputs": [],
   "source": [
    "f = open(f'../Data/final_early_data.pkl', \"rb\")\n",
    "data = pickle.load(f)\n",
    "f.close()\n",
    "\n",
    "train_df, test_df, train_supports, train_unique, all_unique, train_orders, vectorizer = data\n",
    "bow = vectorizer.get_sparse_bow_embeddings(list(all_unique), save_path=f'../Data/sparse_bow_FINAL_EARLY.pkl')"
   ]
  },
  {
   "cell_type": "code",
   "execution_count": 22,
   "metadata": {},
   "outputs": [
    {
     "name": "stderr",
     "output_type": "stream",
     "text": [
      "59062it [07:03, 139.37it/s]"
     ]
    },
    {
     "name": "stdout",
     "output_type": "stream",
     "text": [
      "Result: 70.39064034404524\n"
     ]
    },
    {
     "name": "stderr",
     "output_type": "stream",
     "text": [
      "\n"
     ]
    }
   ],
   "source": [
    "parallel_weight = 1000\n",
    "\n",
    "k = 6\n",
    "r = 6\n",
    "\n",
    "dw = dw_uear\n",
    "aw = aw_uear\n",
    "p = 0\n",
    "\n",
    "scores = defaultdict(list)\n",
    "# score_path = '../Data/scores_ear_tuning_1e-9_1e6.pkl'\n",
    "\n",
    "\n",
    "\n",
    "itemsets, itemsets_size_2 = generate_itemsets(train_df, min_support=0.0001)\n",
    "\n",
    "ar_rules = compute_ar_rules(itemsets_size_2, metric='lift', min_threshold=1, \n",
    "                            save_path=f'../Data/Rules/ar_rules_FINAL_EARLY.pkl')\n",
    "\n",
    "\n",
    "ear_rules = get_ear_rules(ar_rules, \n",
    "                            unique_items=list(all_unique),\n",
    "                            k=k,\n",
    "                            r=r, \n",
    "                            embeddings_path=f'../Data/sparse_bow_FINAL_EARLY.pkl', \n",
    "                            save_path=f'../../Test code/Data/Rules/ear_rules_unweighted_FINAL_EARLY.pkl', \n",
    "                            word_weights=defaultdict(lambda: 1), \n",
    "                            is_sparse=True,\n",
    "                            beta=r/10,\n",
    "                            parallel_rules=True,\n",
    "                            parallel_weight=parallel_weight) \n",
    "\n",
    "train_articles = create_articles(train_supports, ear_rules=ear_rules, ar_weight=0, ear_weight=1, nn_weight=0)\n",
    "solution = run_greedy(articles=train_articles, layout=layout, distance_weight=dw, rule_weight=1, rule_weight_for_article_scores=aw, penalty_weight=p, verbose=False, hp_tuning=False)\n",
    "average_distance_travelled = evaluate_solution_for_greedy(solution, test_df, layout, batch_size=1, verbose=True)\n",
    "print('Result:', average_distance_travelled)"
   ]
  },
  {
   "cell_type": "code",
   "execution_count": 23,
   "metadata": {},
   "outputs": [],
   "source": [
    "f = open(f'../Data/final_full_data.pkl', \"rb\")\n",
    "data = pickle.load(f)\n",
    "f.close()\n",
    "\n",
    "train_df, test_df, train_supports, train_unique, all_unique, train_orders, vectorizer = data\n",
    "bow = vectorizer.get_sparse_bow_embeddings(list(all_unique), save_path=f'../Data/sparse_bow_FINAL_FULL.pkl')"
   ]
  },
  {
   "cell_type": "code",
   "execution_count": 24,
   "metadata": {},
   "outputs": [
    {
     "name": "stderr",
     "output_type": "stream",
     "text": [
      "59062it [14:50, 66.34it/s] "
     ]
    },
    {
     "name": "stdout",
     "output_type": "stream",
     "text": [
      "Result: 53.27929971893942\n"
     ]
    },
    {
     "name": "stderr",
     "output_type": "stream",
     "text": [
      "\n"
     ]
    }
   ],
   "source": [
    "parallel_weight = 1000\n",
    "\n",
    "k = 6\n",
    "r = 6\n",
    "\n",
    "dw = dw_uear\n",
    "aw = aw_uear\n",
    "p = 0\n",
    "\n",
    "scores = defaultdict(list)\n",
    "# score_path = '../Data/scores_ear_tuning_1e-9_1e6.pkl'\n",
    "\n",
    "\n",
    "\n",
    "itemsets, itemsets_size_2 = generate_itemsets(train_df, min_support=0.0001)\n",
    "\n",
    "ar_rules = compute_ar_rules(itemsets_size_2, metric='lift', min_threshold=1, \n",
    "                            save_path=f'../Data/Rules/ar_rules_FINAL_FULL.pkl')\n",
    "\n",
    "\n",
    "ear_rules = get_ear_rules(ar_rules, \n",
    "                            unique_items=list(all_unique),\n",
    "                            k=k,\n",
    "                            r=r, \n",
    "                            embeddings_path=f'../Data/sparse_bow_FINAL_FULL.pkl', \n",
    "                            save_path=f'../../Test code/Data/Rules/ear_rules_unweighted_FINAL_FULL.pkl', \n",
    "                            word_weights=defaultdict(lambda: 1), \n",
    "                            is_sparse=True,\n",
    "                            beta=r/10,\n",
    "                            parallel_rules=True,\n",
    "                            parallel_weight=parallel_weight) \n",
    "\n",
    "train_articles = create_articles(train_supports, ear_rules=ear_rules, ar_weight=0, ear_weight=1, nn_weight=0)\n",
    "solution = run_greedy(articles=train_articles, layout=layout, distance_weight=dw, rule_weight=1, rule_weight_for_article_scores=aw, penalty_weight=p, verbose=False, hp_tuning=False)\n",
    "average_distance_travelled = evaluate_solution_for_greedy(solution, test_df, layout, batch_size=1, verbose=True)\n",
    "print('Result:', average_distance_travelled)"
   ]
  },
  {
   "cell_type": "markdown",
   "metadata": {},
   "source": [
    "# AR Tuning"
   ]
  },
  {
   "cell_type": "code",
   "execution_count": 7,
   "metadata": {},
   "outputs": [],
   "source": [
    "n_orders = 20000\n",
    "\n",
    "layout_file = open('../Data/HP/layout_big.pkl', \"rb\")\n",
    "layout = pickle.load(layout_file)\n",
    "layout_file.close()\n",
    "\n",
    "for shelf in layout.shelves:\n",
    "    shelf.height = 5\n",
    "    \n",
    "layout.shelves.sort(key=lambda x: layout.distances[layout.depot_location][x.pick_location])\n",
    "\n",
    "layout.find_shelves_closest_to_depot()"
   ]
  },
  {
   "cell_type": "code",
   "execution_count": 16,
   "metadata": {},
   "outputs": [
    {
     "name": "stderr",
     "output_type": "stream",
     "text": [
      "1it [02:24, 144.51s/it]\n"
     ]
    },
    {
     "name": "stdout",
     "output_type": "stream",
     "text": [
      "Results:\n",
      "[[37.8108 37.9076 37.9688]]\n"
     ]
    },
    {
     "name": "stderr",
     "output_type": "stream",
     "text": [
      "1it [01:33, 93.10s/it]\n"
     ]
    },
    {
     "name": "stdout",
     "output_type": "stream",
     "text": [
      "Results:\n",
      "[[36.6308 36.6828 36.6616]]\n"
     ]
    },
    {
     "name": "stderr",
     "output_type": "stream",
     "text": [
      "1it [03:52, 232.97s/it]\n"
     ]
    },
    {
     "name": "stdout",
     "output_type": "stream",
     "text": [
      "Results:\n",
      "[[41.9692 41.9516 41.974 ]]\n"
     ]
    },
    {
     "name": "stderr",
     "output_type": "stream",
     "text": [
      "1it [01:29, 89.96s/it]"
     ]
    },
    {
     "name": "stdout",
     "output_type": "stream",
     "text": [
      "Results:\n",
      "[[39.7984 39.752  39.81  ]]\n"
     ]
    },
    {
     "name": "stderr",
     "output_type": "stream",
     "text": [
      "\n"
     ]
    }
   ],
   "source": [
    "\n",
    "\n",
    "ear_weight = 1e-4\n",
    "nn_weight = 10\n",
    "\n",
    "ar_weight = 1\n",
    "ear_weight = 0\n",
    "nn_weight = 0\n",
    "\n",
    "\n",
    "p = 0\n",
    "\n",
    "\n",
    "dws = [1e5]\n",
    "aws = [1e-9, 1e-8, 1e-7]\n",
    "\n",
    "\n",
    "results = np.zeros((len(dws), len(aws)))\n",
    "\n",
    "all_results = []\n",
    "for cv_index in range(4):\n",
    "    try:\n",
    "        data = load_data(f'../../Test code/Data/{n_orders}_orders/data_{cv_index}.pkl')\n",
    "        train_df, test_df, train_supports, train_unique, all_unique, train_orders, vectorizer = data\n",
    "        bow = vectorizer.get_sparse_bow_embeddings(list(all_unique), save_path=f'../Data/sparse_bow_{n_orders}_cv{cv_index}.pkl')\n",
    "    except:\n",
    "        data = create_data(cv_index)\n",
    "    train_df, test_df, train_supports, train_unique, all_unique, train_orders, vectorizer = data\n",
    "    _, itemsets_size_2 = generate_itemsets(train_df, min_support=0.0001)\n",
    "\n",
    "    ar_rules = compute_ar_rules(itemsets_size_2, metric='lift', min_threshold=1, \n",
    "                                save_path=f'../Data/Rules/ar_rules_{n_orders}_cv{cv_index}.pkl')\n",
    "\n",
    "\n",
    "\n",
    "\n",
    "    for i, dw in tqdm(enumerate(dws)):\n",
    "        for j, aw in enumerate(aws):\n",
    "\n",
    "            train_articles = create_articles(train_supports, ar_rules=ar_rules, ar_weight=ar_weight, ear_weight=ear_weight, nn_weight=nn_weight)\n",
    "            solution = run_greedy(articles=train_articles, layout=layout, distance_weight=dw, rule_weight=1, rule_weight_for_article_scores=aw, penalty_weight=p, verbose=False, hp_tuning=False)\n",
    "            average_distance_travelled = evaluate_solution_for_greedy(solution, test_df, layout, batch_size=1)\n",
    "\n",
    "            results[i, j] = average_distance_travelled\n",
    "\n",
    "    print('Results:')\n",
    "    print(results)\n",
    "    all_results.append(results)\n",
    "    # results = pd.DataFrame(results, index=dws)\n"
   ]
  },
  {
   "cell_type": "code",
   "execution_count": 17,
   "metadata": {},
   "outputs": [
    {
     "name": "stdout",
     "output_type": "stream",
     "text": [
      "(1, 3)\n",
      "[[39.7984 39.752  39.81  ]]\n",
      "Min:  39.752\n",
      "100000.0 1e-08\n"
     ]
    },
    {
     "data": {
      "image/png": "[encoded data removed]",
      "text/plain": [
       "<Figure size 1440x720 with 4 Axes>"
      ]
     },
     "metadata": {},
     "output_type": "display_data"
    }
   ],
   "source": [
    "total_results = []\n",
    "r0, r1, r2, r3 = all_results[0], all_results[1], all_results[2], all_results[3]\n",
    "\n",
    "\n",
    "dws_and_aws = []\n",
    "for i, dw in enumerate(dws):\n",
    "    for j, aw in enumerate(aws):\n",
    "        total_results.append([r0[i][j], r1[i][j], r2[i][j], r3[i][j]])\n",
    "        dws_and_aws.append((dw, aw))\n",
    "\n",
    "\n",
    "res = np.reshape(np.array(total_results), newshape=(len(r0), len(r0[0]), 4))\n",
    "\n",
    "means = np.reshape(np.mean(res, axis=2), newshape=(len(r0), len(r0[0])))\n",
    "print(means.shape)\n",
    "fig, axes = plt.subplots(1, 2, figsize=(20, 10))\n",
    "sns.heatmap(means, ax=axes[0], square=True, yticklabels=dws, xticklabels=aws)\n",
    "stds = np.reshape(np.std(res, axis=2), newshape=(len(r0), len(r0[0])))\n",
    "sns.heatmap(stds, ax=axes[1], square=True, yticklabels=dws, xticklabels=aws)\n",
    "print(means)\n",
    "\n",
    "print('Min: ', np.min(means))\n",
    "min_index = np.argmin(means)\n",
    "dw_ar, aw_ar = dws_and_aws[min_index]\n",
    "print(dw_ar, aw_ar)"
   ]
  },
  {
   "cell_type": "markdown",
   "metadata": {},
   "source": [
    "# FINAL AR TESTS"
   ]
  },
  {
   "cell_type": "code",
   "execution_count": 18,
   "metadata": {},
   "outputs": [],
   "source": [
    "n_orders = 20000\n",
    "\n",
    "layout_file = open('../Data/HP/layout_big.pkl', \"rb\")\n",
    "layout = pickle.load(layout_file)\n",
    "layout_file.close()\n",
    "\n",
    "for shelf in layout.shelves:\n",
    "    shelf.height = 14\n",
    "    \n",
    "layout.shelves.sort(key=lambda x: layout.distances[layout.depot_location][x.pick_location])\n",
    "\n",
    "layout.find_shelves_closest_to_depot()"
   ]
  },
  {
   "cell_type": "code",
   "execution_count": 19,
   "metadata": {},
   "outputs": [],
   "source": [
    "f = open(f'../Data/final_data.pkl', \"rb\")\n",
    "data = pickle.load(f)\n",
    "f.close()\n",
    "\n",
    "train_df, test_df, train_supports, train_unique, all_unique, train_orders, vectorizer = data\n",
    "bow = vectorizer.get_sparse_bow_embeddings(list(all_unique), save_path=f'../Data/sparse_bow_FINAL.pkl')"
   ]
  },
  {
   "cell_type": "code",
   "execution_count": 21,
   "metadata": {},
   "outputs": [
    {
     "name": "stderr",
     "output_type": "stream",
     "text": [
      "59062it [14:59, 65.65it/s] "
     ]
    },
    {
     "name": "stdout",
     "output_type": "stream",
     "text": [
      "Result: 47.28041718871694\n"
     ]
    },
    {
     "name": "stderr",
     "output_type": "stream",
     "text": [
      "\n"
     ]
    }
   ],
   "source": [
    "dw_ar = 1e5\n",
    "aw_ar = 1e-9\n",
    "dw = dw_ar\n",
    "aw = aw_ar\n",
    "p = 0\n",
    "\n",
    "_, itemsets_size_2 = generate_itemsets(train_df, min_support=0.0001)\n",
    "\n",
    "ar_rules = compute_ar_rules(itemsets_size_2, metric='lift', min_threshold=1, \n",
    "                            save_path=f'../Data/Rules/ar_rules_FINAL.pkl')\n",
    "\n",
    "\n",
    "train_articles = create_articles(train_supports, ar_rules=ar_rules, ar_weight=1, ear_weight=0, nn_weight=0)\n",
    "solution = run_greedy(articles=train_articles, layout=layout, distance_weight=dw, rule_weight=1, rule_weight_for_article_scores=aw, penalty_weight=p, verbose=False, hp_tuning=False)\n",
    "average_distance_travelled = evaluate_solution_for_greedy(solution, test_df, layout, batch_size=1, verbose=True)\n",
    "print('Result:', average_distance_travelled)"
   ]
  },
  {
   "cell_type": "code",
   "execution_count": 22,
   "metadata": {},
   "outputs": [],
   "source": [
    "f = open(f'../Data/final_early_data.pkl', \"rb\")\n",
    "data = pickle.load(f)\n",
    "f.close()\n",
    "\n",
    "train_df, test_df, train_supports, train_unique, all_unique, train_orders, vectorizer = data\n",
    "bow = vectorizer.get_sparse_bow_embeddings(list(all_unique), save_path=f'../Data/sparse_bow_FINAL_EARLY.pkl')"
   ]
  },
  {
   "cell_type": "code",
   "execution_count": 23,
   "metadata": {},
   "outputs": [
    {
     "name": "stderr",
     "output_type": "stream",
     "text": [
      "59062it [10:44, 91.59it/s] "
     ]
    },
    {
     "name": "stdout",
     "output_type": "stream",
     "text": [
      "Result: 70.85604957502285\n"
     ]
    },
    {
     "name": "stderr",
     "output_type": "stream",
     "text": [
      "\n"
     ]
    }
   ],
   "source": [
    "\n",
    "dw = dw_ar\n",
    "aw = aw_ar\n",
    "p = 0\n",
    "\n",
    "_, itemsets_size_2 = generate_itemsets(train_df, min_support=0.0001)\n",
    "\n",
    "ar_rules = compute_ar_rules(itemsets_size_2, metric='lift', min_threshold=1, \n",
    "                            save_path=f'../Data/Rules/ar_rules_FINAL_EARLY.pkl')\n",
    "\n",
    "\n",
    "train_articles = create_articles(train_supports, ar_rules=ar_rules, ar_weight=1, ear_weight=0, nn_weight=0)\n",
    "solution = run_greedy(articles=train_articles, layout=layout, distance_weight=dw, rule_weight=1, rule_weight_for_article_scores=aw, penalty_weight=p, verbose=False, hp_tuning=False)\n",
    "average_distance_travelled = evaluate_solution_for_greedy(solution, test_df, layout, batch_size=1, verbose=True)\n",
    "print('Result:', average_distance_travelled)"
   ]
  },
  {
   "cell_type": "code",
   "execution_count": 24,
   "metadata": {},
   "outputs": [],
   "source": [
    "f = open(f'../Data/final_full_data.pkl', \"rb\")\n",
    "data = pickle.load(f)\n",
    "f.close()\n",
    "\n",
    "train_df, test_df, train_supports, train_unique, all_unique, train_orders, vectorizer = data\n",
    "bow = vectorizer.get_sparse_bow_embeddings(list(all_unique), save_path=f'../Data/sparse_bow_FINAL_FULL.pkl')"
   ]
  },
  {
   "cell_type": "code",
   "execution_count": 25,
   "metadata": {},
   "outputs": [
    {
     "name": "stderr",
     "output_type": "stream",
     "text": [
      "59062it [19:27, 50.58it/s] "
     ]
    },
    {
     "name": "stdout",
     "output_type": "stream",
     "text": [
      "Result: 53.41617283532559\n"
     ]
    },
    {
     "name": "stderr",
     "output_type": "stream",
     "text": [
      "\n"
     ]
    }
   ],
   "source": [
    "\n",
    "dw = dw_ar\n",
    "aw = aw_ar\n",
    "p = 0\n",
    "\n",
    "_, itemsets_size_2 = generate_itemsets(train_df, min_support=0.0001)\n",
    "\n",
    "ar_rules = compute_ar_rules(itemsets_size_2, metric='lift', min_threshold=1, \n",
    "                            save_path=f'../Data/Rules/ar_rules_FINAL_FULL.pkl')\n",
    "\n",
    "\n",
    "train_articles = create_articles(train_supports, ar_rules=ar_rules, ar_weight=1, ear_weight=0, nn_weight=0)\n",
    "solution = run_greedy(articles=train_articles, layout=layout, distance_weight=dw, rule_weight=1, rule_weight_for_article_scores=aw, penalty_weight=p, verbose=False, hp_tuning=False)\n",
    "average_distance_travelled = evaluate_solution_for_greedy(solution, test_df, layout, batch_size=1, verbose=True)\n",
    "print('Result:', average_distance_travelled)"
   ]
  },
  {
   "cell_type": "markdown",
   "metadata": {},
   "source": [
    "# Oklart"
   ]
  },
  {
   "cell_type": "code",
   "execution_count": 36,
   "metadata": {},
   "outputs": [
    {
     "name": "stdout",
     "output_type": "stream",
     "text": [
      "[[56.5464 55.2531 50.8195 53.416 ]\n",
      " [55.4892 53.3755 51.423  53.3749]\n",
      " [57.6814 54.9511 54.4302 54.173 ]\n",
      " [57.5447 57.3671 56.4885 52.589 ]\n",
      " [57.0387 57.491  56.3855 52.8524]]\n"
     ]
    },
    {
     "data": {
      "image/png": "[encoded data removed]",
      "text/plain": [
       "<Figure size 1440x720 with 4 Axes>"
      ]
     },
     "metadata": {},
     "output_type": "display_data"
    }
   ],
   "source": [
    "ear_weights = [1e-4, 1e-3, 1e-2, 1e-1, 1]\n",
    "nn_weights = [1e-1, 1, 1e1, 1e2]\n",
    "total_results = []\n",
    "r0 = pd.read_excel(f'../Data/Results/ear_weights{ear_weights}_nn_weights{nn_weights}_cv0.xlsx', index_col=0).to_numpy()\n",
    "r1 = pd.read_excel(f'../Data/Results/ear_weights{ear_weights}_nn_weights{nn_weights}_cv1.xlsx', index_col=0).to_numpy()\n",
    "r2 = pd.read_excel(f'../Data/Results/ear_weights{ear_weights}_nn_weights{nn_weights}_cv2.xlsx', index_col=0).to_numpy()\n",
    "r3 = pd.read_excel(f'../Data/Results/ear_weights{ear_weights}_nn_weights{nn_weights}_cv3.xlsx', index_col=0).to_numpy()\n",
    "\n",
    "for i in range(len(ear_weights)):\n",
    "    for j in range(len(nn_weights)):\n",
    "        total_results.append([r0[i, j], r1[i, j], r2[i, j], r3[i, j]])\n",
    "\n",
    "\n",
    "res = np.reshape(np.array(total_results), newshape=(r0.shape[0], r0.shape[1], 4))\n",
    "\n",
    "means = np.mean(res, axis=2)\n",
    "fig, axes = plt.subplots(1, 2, figsize=(20, 10))\n",
    "sns.heatmap(means, ax=axes[0], square=True, xticklabels=nn_weights, yticklabels=ear_weights)\n",
    "stds = np.std(res, axis=2)\n",
    "sns.heatmap(stds, ax=axes[1], square=True, xticklabels=nn_weights, yticklabels=ear_weights)\n",
    "print(means)\n",
    "\n",
    "# print('Min: ', np.min(means))\n",
    "# min_index = np.argmin(means)\n",
    "# k, r = ks_and_rs[min_index]\n",
    "# print(k, r)"
   ]
  },
  {
   "cell_type": "markdown",
   "metadata": {},
   "source": [
    "1, 1e-4, 10\n",
    "56.5464 55.2531 50.8195 53.416 \n",
    "55.4892 53.3755 51.423  53.3749\n",
    "57.6814 54.9511 54.4302 54.173 \n",
    "57.5447 57.3671 56.4885 52.589 \n",
    "57.0387 57.491  56.3855 52.8524\n",
    "\n",
    "\n",
    "\n",
    "\n",
    "85.4228\n",
    "85.1202\n",
    "74.1119\n",
    "61.3325\n",
    "59.9948"
   ]
  },
  {
   "cell_type": "code",
   "execution_count": null,
   "metadata": {},
   "outputs": [],
   "source": [
    "\n",
    "\n",
    "# for cv_index in range(4):\n",
    "#     try:\n",
    "#         data = load_data(f'../../Test code/Data/{n_orders}_orders/data_{cv_index}.pkl')\n",
    "#         train_df, test_df, train_supports, train_unique, all_unique, train_orders, vectorizer = data\n",
    "#         bow = vectorizer.get_sparse_bow_embeddings(list(all_unique), save_path=f'../Data/sparse_bow_{n_orders}_cv{cv_index}.pkl')\n",
    "#     except:\n",
    "#         data = create_data(cv_index)\n",
    "#     # train_df, test_df, train_supports, train_unique, all_unique, train_orders, vectorizer = data\n",
    "#     run_parallel_rules(data, cv_index)\n",
    "\n",
    "    # test_hyperparameters_pair_scores(data, cv_index, deltas=deltas, gammas=gammas)\n",
    "    # test_hyperparameters(data, cv_index, parallel_rules=True)"
   ]
  },
  {
   "cell_type": "code",
   "execution_count": null,
   "metadata": {},
   "outputs": [
    {
     "ename": "NameError",
     "evalue": "name 'gammas' is not defined",
     "output_type": "error",
     "traceback": [
      "\u001b[1;31m---------------------------------------------------------------------------\u001b[0m",
      "\u001b[1;31mNameError\u001b[0m                                 Traceback (most recent call last)",
      "\u001b[1;32mc:\\Users\\TobiasG\\Documents\\warehouse_optimization\\actual_code\\hp_tuning_benny.ipynb Cell 38'\u001b[0m in \u001b[0;36m<cell line: 2>\u001b[1;34m()\u001b[0m\n\u001b[0;32m      <a href='vscode-notebook-cell:/c%3A/Users/TobiasG/Documents/warehouse_optimization/actual_code/hp_tuning_benny.ipynb#ch0000034?line=0'>1</a>\u001b[0m total_results \u001b[39m=\u001b[39m []\n\u001b[1;32m----> <a href='vscode-notebook-cell:/c%3A/Users/TobiasG/Documents/warehouse_optimization/actual_code/hp_tuning_benny.ipynb#ch0000034?line=1'>2</a>\u001b[0m r0 \u001b[39m=\u001b[39m pd\u001b[39m.\u001b[39mread_excel(\u001b[39mf\u001b[39m\u001b[39m'\u001b[39m\u001b[39m../Data/Results/ear_good_pair_scores_gamma\u001b[39m\u001b[39m{\u001b[39;00mgammas\u001b[39m}\u001b[39;00m\u001b[39m_delta\u001b[39m\u001b[39m{\u001b[39;00mdeltas\u001b[39m}\u001b[39;00m\u001b[39m_k4_cv0.xlsx\u001b[39m\u001b[39m'\u001b[39m, index_col\u001b[39m=\u001b[39m\u001b[39m0\u001b[39m)\u001b[39m.\u001b[39mto_numpy()\n\u001b[0;32m      <a href='vscode-notebook-cell:/c%3A/Users/TobiasG/Documents/warehouse_optimization/actual_code/hp_tuning_benny.ipynb#ch0000034?line=2'>3</a>\u001b[0m r1 \u001b[39m=\u001b[39m pd\u001b[39m.\u001b[39mread_excel(\u001b[39mf\u001b[39m\u001b[39m'\u001b[39m\u001b[39m../Data/Results/ear_good_pair_scores_gamma\u001b[39m\u001b[39m{\u001b[39;00mgammas\u001b[39m}\u001b[39;00m\u001b[39m_delta\u001b[39m\u001b[39m{\u001b[39;00mdeltas\u001b[39m}\u001b[39;00m\u001b[39m_k4_cv1.xlsx\u001b[39m\u001b[39m'\u001b[39m, index_col\u001b[39m=\u001b[39m\u001b[39m0\u001b[39m)\u001b[39m.\u001b[39mto_numpy()\n\u001b[0;32m      <a href='vscode-notebook-cell:/c%3A/Users/TobiasG/Documents/warehouse_optimization/actual_code/hp_tuning_benny.ipynb#ch0000034?line=3'>4</a>\u001b[0m r2 \u001b[39m=\u001b[39m pd\u001b[39m.\u001b[39mread_excel(\u001b[39mf\u001b[39m\u001b[39m'\u001b[39m\u001b[39m../Data/Results/ear_good_pair_scores_gamma\u001b[39m\u001b[39m{\u001b[39;00mgammas\u001b[39m}\u001b[39;00m\u001b[39m_delta\u001b[39m\u001b[39m{\u001b[39;00mdeltas\u001b[39m}\u001b[39;00m\u001b[39m_k4_cv2.xlsx\u001b[39m\u001b[39m'\u001b[39m, index_col\u001b[39m=\u001b[39m\u001b[39m0\u001b[39m)\u001b[39m.\u001b[39mto_numpy()\n",
      "\u001b[1;31mNameError\u001b[0m: name 'gammas' is not defined"
     ]
    }
   ],
   "source": [
    "\n",
    "total_results = []\n",
    "r0 = pd.read_excel(f'../Data/Results/ear_good_pair_scores_gamma{gammas}_delta{deltas}_k4_cv0.xlsx', index_col=0).to_numpy()\n",
    "r1 = pd.read_excel(f'../Data/Results/ear_good_pair_scores_gamma{gammas}_delta{deltas}_k4_cv1.xlsx', index_col=0).to_numpy()\n",
    "r2 = pd.read_excel(f'../Data/Results/ear_good_pair_scores_gamma{gammas}_delta{deltas}_k4_cv2.xlsx', index_col=0).to_numpy()\n",
    "r3 = pd.read_excel(f'../Data/Results/ear_good_pair_scores_gamma{gammas}_delta{deltas}_k4_cv3.xlsx', index_col=0).to_numpy()\n",
    "\n",
    "gammas_and_deltas = []\n",
    "for i in range(r0.shape[0]):\n",
    "    for j in range(r0.shape[1]):\n",
    "        gammas_and_deltas.append((gammas[i], deltas[j]))\n",
    "        total_results.append([r0[i,j], r1[i,j], r2[i,j], r3[i,j]])\n",
    "res = np.reshape(np.array(total_results), newshape=(r0.shape[0], r0.shape[1], 4))\n",
    "means = np.mean(res, axis=2)\n",
    "fig, axes = plt.subplots(1, 2, figsize=(20, 10))\n",
    "sns.heatmap(means, ax=axes[0], square=True)\n",
    "stds = np.std(res, axis=2)\n",
    "sns.heatmap(stds, ax=axes[1], square=True)\n",
    "print(means)\n",
    "\n",
    "print('Min: ', np.min(means))\n",
    "min_index = np.argmin(means)\n",
    "gamma, delta = gammas_and_deltas[min_index]\n",
    "print(gamma, delta)"
   ]
  },
  {
   "cell_type": "code",
   "execution_count": null,
   "metadata": {},
   "outputs": [
    {
     "name": "stdout",
     "output_type": "stream",
     "text": [
      "[2, 6, 10, 14]\n"
     ]
    }
   ],
   "source": [
    "ks = [int(k) for k in np.linspace(2, 14, 4)]\n",
    "print(ks)\n",
    "rs = [1e-5, 5e-5, 2.5e-4, 1.25e-3, 6.25e-3, 3.125e-2, 1.5625e-1, 7.8125e-1, 3.90625]\n",
    "rs = [0.1, 0.5, 1, 5, 10]\n",
    "# for cv_index in tqdm(range(4)):\n",
    "#     try:\n",
    "#         data = load_data(f'../../Test code/Data/{n_orders}_orders/data_{cv_index}.pkl')\n",
    "#         train_df, test_df, train_supports, train_unique, all_unique, train_orders, vectorizer = data\n",
    "#         bow = vectorizer.get_sparse_bow_embeddings(list(all_unique), save_path=f'../Data/sparse_bow_{n_orders}_cv{cv_index}.pkl')\n",
    "#     except:\n",
    "#         data = create_data(cv_index)\n",
    "    \n",
    "#     test_hyperparameters_k_r(data, cv_index, ks=ks, rs=rs, gamma=gamma, delta=delta)"
   ]
  },
  {
   "cell_type": "code",
   "execution_count": null,
   "metadata": {},
   "outputs": [
    {
     "name": "stdout",
     "output_type": "stream",
     "text": [
      "[[65.7891 65.0846 65.4912 65.5664]\n",
      " [65.7891 65.0846 65.4912 65.5664]\n",
      " [65.7891 65.0846 65.4912 65.5664]]\n",
      "Min:  65.0846\n",
      "6 6\n"
     ]
    },
    {
     "data": {
      "image/png": "[encoded data removed]",
      "text/plain": [
       "<Figure size 1440x720 with 4 Axes>"
      ]
     },
     "metadata": {},
     "output_type": "display_data"
    }
   ],
   "source": [
    "total_results = []\n",
    "r0 = pd.read_excel(f'../Data/Results/ks{ks}rs{rs}_cv0.xlsx', index_col=0).to_numpy()\n",
    "r1 = pd.read_excel(f'../Data/Results/ks{ks}rs{rs}_cv1.xlsx', index_col=0).to_numpy()\n",
    "r2 = pd.read_excel(f'../Data/Results/ks{ks}rs{rs}_cv2.xlsx', index_col=0).to_numpy()\n",
    "r3 = pd.read_excel(f'../Data/Results/ks{ks}rs{rs}_cv3.xlsx', index_col=0).to_numpy()\n",
    "\n",
    "ks_and_rs = []\n",
    "for i in range(r0.shape[0]):\n",
    "    for j in range(r0.shape[1]):\n",
    "        ks_and_rs.append((ks[i], rs[j]))\n",
    "        total_results.append([r0[i,j], r1[i,j], r2[i,j], r3[i,j]])\n",
    "res = np.reshape(np.array(total_results), newshape=(r0.shape[0], r0.shape[1], 4))\n",
    "means = np.mean(res, axis=2)\n",
    "fig, axes = plt.subplots(1, 2, figsize=(20, 10))\n",
    "sns.heatmap(means, ax=axes[0], square=True, xticklabels=rs, yticklabels=ks)\n",
    "stds = np.std(res, axis=2)\n",
    "sns.heatmap(stds, ax=axes[1], square=True, xticklabels=rs, yticklabels=ks)\n",
    "print(means)\n",
    "\n",
    "print('Min: ', np.min(means))\n",
    "min_index = np.argmin(means)\n",
    "k, r = ks_and_rs[min_index]\n",
    "print(k, r)"
   ]
  },
  {
   "cell_type": "code",
   "execution_count": null,
   "metadata": {},
   "outputs": [
    {
     "name": "stderr",
     "output_type": "stream",
     "text": [
      "  0%|          | 0/4 [00:00<?, ?it/s]"
     ]
    },
    {
     "name": "stdout",
     "output_type": "stream",
     "text": [
      "6317\n",
      "[127, 670, 2202, 2675, 3000]\n"
     ]
    },
    {
     "name": "stderr",
     "output_type": "stream",
     "text": [
      " 25%|██▌       | 1/4 [09:10<27:32, 550.86s/it]"
     ]
    },
    {
     "name": "stdout",
     "output_type": "stream",
     "text": [
      "Results:\n",
      "[66.7952 63.9848 67.3228 62.4476 63.6752 60.78   61.5752 62.8604 62.9152\n",
      " 63.0396]\n",
      "6292\n",
      "[138, 682, 2201, 2700, 3025]\n"
     ]
    },
    {
     "name": "stderr",
     "output_type": "stream",
     "text": [
      " 50%|█████     | 2/4 [18:48<18:52, 566.38s/it]"
     ]
    },
    {
     "name": "stdout",
     "output_type": "stream",
     "text": [
      "Results:\n",
      "[63.112  62.4608 60.2856 59.562  60.3076 59.2756 56.7104 60.122  56.4144\n",
      " 56.5344]\n",
      "6946\n",
      "[]\n"
     ]
    },
    {
     "name": "stderr",
     "output_type": "stream",
     "text": [
      " 75%|███████▌  | 3/4 [29:54<10:12, 612.26s/it]"
     ]
    },
    {
     "name": "stdout",
     "output_type": "stream",
     "text": [
      "Results:\n",
      "[68.4628 69.6076 69.77   69.9616 66.5896 64.1256 65.3824 65.2744 66.058\n",
      " 66.0696]\n",
      "7169\n",
      "[]\n"
     ]
    },
    {
     "name": "stderr",
     "output_type": "stream",
     "text": [
      "100%|██████████| 4/4 [41:38<00:00, 624.55s/it]"
     ]
    },
    {
     "name": "stdout",
     "output_type": "stream",
     "text": [
      "Results:\n",
      "[61.9684 64.9064 64.0704 63.9452 64.1348 64.9484 66.8332 64.4188 61.5852\n",
      " 62.3552]\n"
     ]
    },
    {
     "name": "stderr",
     "output_type": "stream",
     "text": [
      "\n"
     ]
    }
   ],
   "source": [
    "parallel_weights = [0, 1e-4, 1e-3, 1e-2, 1e-1, 1, 1e1, 1e2, 1e3, 1e4]\n",
    "gamma = 1.6\n",
    "delta = 3.5\n",
    "k = 6\n",
    "r = 6 \n",
    "for cv_index in tqdm(range(4)):\n",
    "    try:\n",
    "        data = load_data(f'../../Test code/Data/{n_orders}_orders/data_{cv_index}.pkl')\n",
    "        train_df, test_df, train_supports, train_unique, all_unique, train_orders, vectorizer = data\n",
    "        bow = vectorizer.get_sparse_bow_embeddings(list(all_unique), save_path=f'../Data/sparse_bow_{n_orders}_cv{cv_index}.pkl')\n",
    "    except:\n",
    "        data = create_data(cv_index)\n",
    "    \n",
    "    test_hyperparameters_parallel(data, cv_index, k=k, r=r, parallel_rules=True, parallel_weights=parallel_weights)"
   ]
  },
  {
   "cell_type": "code",
   "execution_count": null,
   "metadata": {},
   "outputs": [
    {
     "name": "stderr",
     "output_type": "stream",
     "text": [
      "  0%|          | 0/4 [00:00<?, ?it/s]"
     ]
    },
    {
     "name": "stdout",
     "output_type": "stream",
     "text": [
      "6317\n",
      "[127, 670, 2202, 2675, 3000]\n"
     ]
    },
    {
     "name": "stderr",
     "output_type": "stream",
     "text": [
      " 25%|██▌       | 1/4 [02:03<06:09, 123.19s/it]"
     ]
    },
    {
     "name": "stdout",
     "output_type": "stream",
     "text": [
      "6292\n",
      "[138, 682, 2201, 2700, 3025]\n"
     ]
    },
    {
     "name": "stderr",
     "output_type": "stream",
     "text": [
      " 50%|█████     | 2/4 [03:30<03:24, 102.12s/it]"
     ]
    },
    {
     "name": "stdout",
     "output_type": "stream",
     "text": [
      "6946\n",
      "[]\n"
     ]
    },
    {
     "name": "stderr",
     "output_type": "stream",
     "text": [
      " 75%|███████▌  | 3/4 [06:45<02:24, 144.51s/it]"
     ]
    },
    {
     "name": "stdout",
     "output_type": "stream",
     "text": [
      "7169\n",
      "[]\n"
     ]
    },
    {
     "name": "stderr",
     "output_type": "stream",
     "text": [
      "100%|██████████| 4/4 [08:09<00:00, 122.37s/it]\n"
     ]
    }
   ],
   "source": [
    "parallel_weight = 10\n",
    "k = 2\n",
    "r = 1\n",
    "gamma = 1.6\n",
    "delta = 3.5\n",
    "\n",
    "dw = 5e4\n",
    "aw = 1\n",
    "p = 1e-6\n",
    "c2s = [5e-3, 1e-2, 5e-2, 1e-1]\n",
    "\n",
    "scores = defaultdict(list)\n",
    "# score_path = '../Data/scores_ear_tuning_1e-9_1e6.pkl'\n",
    "\n",
    "for cv_index in tqdm(range(4)):\n",
    "    try:\n",
    "        data = load_data(f'../../Test code/Data/{n_orders}_orders/data_{cv_index}.pkl')\n",
    "        train_df, test_df, train_supports, train_unique, all_unique, train_orders, vectorizer = data\n",
    "        bow = vectorizer.get_sparse_bow_embeddings(list(all_unique), save_path=f'../Data/sparse_bow_{n_orders}_cv{cv_index}.pkl')\n",
    "    except:\n",
    "        data = create_data(cv_index)\n",
    "        train_df, test_df, train_supports, train_unique, all_unique, train_orders, vectorizer = data\n",
    "    \n",
    "    itemsets, itemsets_size_2 = generate_itemsets(train_df, min_support=0.0001)\n",
    "\n",
    "    ar_rules = compute_ar_rules(itemsets_size_2, metric='lift', min_threshold=1, \n",
    "                                save_path=f'../Data/Rules/ar_rules_{n_orders}_cv{cv_index}.pkl')\n",
    "\n",
    "    words = vectorizer.cv.get_feature_names_out()\n",
    "    word_scores, single_word_scores, word_frequencies = calculate_word_scores(train_unique, \n",
    "                                                                                train_orders, \n",
    "                                                                                words, \n",
    "                                                                                gamma=gamma,\n",
    "                                                                                delta=delta)\n",
    "                                                                                \n",
    "    min_score = np.min([score for score in word_scores if score > 0])\n",
    "    word_scores = [score if score > 0 else min_score/2 for score in word_scores]\n",
    "\n",
    "    ear_rules = get_ear_rules(ar_rules, \n",
    "                                unique_items=list(all_unique),\n",
    "                                k=k,\n",
    "                                r=r, \n",
    "                                embeddings_path=f'../Data/sparse_bow_{n_orders}_cv{cv_index}.pkl', \n",
    "                                save_path=f'../../Test code/Data/Rules/ear_rules_pairs_k{k}_r{r}_cv{cv_index}_parallel{parallel_weight}.pkl', \n",
    "                                word_weights=word_scores, \n",
    "                                is_sparse=True,\n",
    "                                beta=r/10,\n",
    "                                parallel_rules=True,\n",
    "                                parallel_weight=parallel_weight) \n",
    "\n",
    "    for c2 in c2s:\n",
    "        train_articles = create_articles(train_supports, ar_rules=ar_rules, ear_rules=ear_rules, ar_weight=1, ear_weight=c2, nn_weight=0)\n",
    "        solution = run_greedy(articles=train_articles, layout=layout, distance_weight=dw, rule_weight=1, rule_weight_for_article_scores=aw, penalty_weight=p, verbose=False, hp_tuning=False)\n",
    "        average_distance_travelled = evaluate_solution_for_greedy(solution, test_df, layout, batch_size=1)\n",
    "\n",
    "        # print('yessir')\n",
    "        scores[c2].append(average_distance_travelled)\n",
    "\n",
    "# f = open(score_path, 'wb')\n",
    "# pickle.dump(scores, f)\n",
    "# f.close()\n"
   ]
  },
  {
   "cell_type": "code",
   "execution_count": null,
   "metadata": {},
   "outputs": [
    {
     "name": "stdout",
     "output_type": "stream",
     "text": [
      "0.005\t56.2693 +- 2.3926756131995823\n",
      "0.01\t56.23609999999999 +- 2.4991344801750874\n",
      "0.05\t56.2246 +- 2.6978057231757813\n",
      "0.1\t58.977199999999996 +- 4.529464877885688\n"
     ]
    }
   ],
   "source": [
    "for k in scores:\n",
    "    mean = np.mean(scores[k])\n",
    "    \n",
    "    \n",
    "    std = np.std(scores[k])\n",
    "    print(f'{k}\\t{mean} +- {std}')"
   ]
  },
  {
   "cell_type": "code",
   "execution_count": null,
   "metadata": {},
   "outputs": [
    {
     "name": "stderr",
     "output_type": "stream",
     "text": [
      "  0%|          | 0/4 [00:00<?, ?it/s]"
     ]
    },
    {
     "name": "stdout",
     "output_type": "stream",
     "text": [
      "6317\n",
      "[127, 670, 2202, 2675, 3000]\n"
     ]
    },
    {
     "name": "stderr",
     "output_type": "stream",
     "text": [
      " 25%|██▌       | 1/4 [00:30<01:30, 30.06s/it]"
     ]
    },
    {
     "name": "stdout",
     "output_type": "stream",
     "text": [
      "6292\n",
      "[138, 682, 2201, 2700, 3025]\n"
     ]
    },
    {
     "name": "stderr",
     "output_type": "stream",
     "text": [
      " 50%|█████     | 2/4 [00:52<00:50, 25.48s/it]"
     ]
    },
    {
     "name": "stdout",
     "output_type": "stream",
     "text": [
      "6946\n",
      "[]\n"
     ]
    },
    {
     "name": "stderr",
     "output_type": "stream",
     "text": [
      " 75%|███████▌  | 3/4 [01:42<00:36, 36.97s/it]"
     ]
    },
    {
     "name": "stdout",
     "output_type": "stream",
     "text": [
      "7169\n",
      "[]\n"
     ]
    },
    {
     "name": "stderr",
     "output_type": "stream",
     "text": [
      "100%|██████████| 4/4 [02:07<00:00, 31.75s/it]"
     ]
    },
    {
     "name": "stdout",
     "output_type": "stream",
     "text": [
      "1 :: 99.8785 +- 3.193185949799981\n"
     ]
    },
    {
     "name": "stderr",
     "output_type": "stream",
     "text": [
      "\n"
     ]
    }
   ],
   "source": [
    "# Stig djunglar\n",
    "# Baseline\n",
    "baseline_path = '../Data/HP/baseline_hp_false.pkl'\n",
    "baseline = defaultdict(list)\n",
    "dws  = [1e-6, 1, 1e6]\n",
    "dws = [1]\n",
    "for cv_index in tqdm(range(4)):\n",
    "    try:\n",
    "        data = load_data(f'../../Test code/Data/{n_orders}_orders/data_{cv_index}.pkl')\n",
    "        train_df, test_df, train_supports, train_unique, all_unique, train_orders, vectorizer = data\n",
    "        bow = vectorizer.get_sparse_bow_embeddings(list(all_unique), save_path=f'../Data/sparse_bow_{n_orders}_cv{cv_index}.pkl')\n",
    "    except:\n",
    "        data = create_data(cv_index)\n",
    "    for dw in dws:\n",
    "        train_articles = create_articles(train_supports, ar_weight=0, ear_weight=0, nn_weight=0)\n",
    "        solution = run_greedy(articles=train_articles, layout=layout, distance_weight=1e6, rule_weight=1, rule_weight_for_article_scores=1e6, penalty_weight=1e6, verbose=False, hp_tuning=False)\n",
    "        average_distance_travelled = evaluate_solution_for_greedy(solution, test_df, layout, batch_size=1)\n",
    "        # print('yessir')\n",
    "        baseline[dw].append(average_distance_travelled)\n",
    "\n",
    "# f = open(baseline_path, 'wb')\n",
    "# pickle.dump(baseline, f)\n",
    "# f.close()\n",
    "\n",
    "for k in baseline:\n",
    "    print(f'{k} :: {np.mean(baseline[k])} +- {np.std(baseline[k])}')\n",
    "    "
   ]
  },
  {
   "cell_type": "code",
   "execution_count": null,
   "metadata": {},
   "outputs": [],
   "source": [
    "# Stig djunglar\n",
    "#f.close()\n",
    "d = len(dws)\n",
    "a = len(aws)\n",
    "p = len(ps)\n",
    "mm = np.zeros((d,a,p))\n",
    "sm = np.zeros((d,a,p))\n",
    "\n",
    "for i in range(d):\n",
    "    for j in range(a):\n",
    "        for k in range(p):\n",
    "            key = (dws[i], aws[j], ps[k])\n",
    "            mm[i,j,k] = np.mean(scores[key])\n",
    "            sm[i,j,k] = np.std(scores[key])\n",
    "\n"
   ]
  },
  {
   "cell_type": "code",
   "execution_count": null,
   "metadata": {},
   "outputs": [
    {
     "data": {
      "image/png": "[encoded data removed]",
      "text/plain": [
       "<Figure size 2160x1440 with 1 Axes>"
      ]
     },
     "metadata": {},
     "output_type": "display_data"
    },
    {
     "data": {
      "image/png": "[encoded data removed]",
      "text/plain": [
       "<Figure size 720x720 with 1 Axes>"
      ]
     },
     "metadata": {},
     "output_type": "display_data"
    },
    {
     "ename": "IndexError",
     "evalue": "list index out of range",
     "output_type": "error",
     "traceback": [
      "\u001b[1;31m---------------------------------------------------------------------------\u001b[0m",
      "\u001b[1;31mIndexError\u001b[0m                                Traceback (most recent call last)",
      "\u001b[1;32mc:\\Users\\TobiasG\\Documents\\warehouse_optimization\\actual_code\\hp_tuning_benny.ipynb Cell 43'\u001b[0m in \u001b[0;36m<cell line: 42>\u001b[1;34m()\u001b[0m\n\u001b[0;32m     <a href='vscode-notebook-cell:/c%3A/Users/TobiasG/Documents/warehouse_optimization/actual_code/hp_tuning_benny.ipynb#ch0000041?line=42'>43</a>\u001b[0m \u001b[39mfor\u001b[39;00m j \u001b[39min\u001b[39;00m \u001b[39mrange\u001b[39m(d):\n\u001b[0;32m     <a href='vscode-notebook-cell:/c%3A/Users/TobiasG/Documents/warehouse_optimization/actual_code/hp_tuning_benny.ipynb#ch0000041?line=43'>44</a>\u001b[0m     ax \u001b[39m=\u001b[39m axs[i,j]\n\u001b[1;32m---> <a href='vscode-notebook-cell:/c%3A/Users/TobiasG/Documents/warehouse_optimization/actual_code/hp_tuning_benny.ipynb#ch0000041?line=44'>45</a>\u001b[0m     ax\u001b[39m.\u001b[39mset_title(\u001b[39mf\u001b[39m\u001b[39m'\u001b[39m\u001b[39maw=\u001b[39m\u001b[39m{\u001b[39;00maws[i]\u001b[39m}\u001b[39;00m\u001b[39m, p=\u001b[39m\u001b[39m{\u001b[39;00mps[j]\u001b[39m}\u001b[39;00m\u001b[39m'\u001b[39m)\n\u001b[0;32m     <a href='vscode-notebook-cell:/c%3A/Users/TobiasG/Documents/warehouse_optimization/actual_code/hp_tuning_benny.ipynb#ch0000041?line=45'>46</a>\u001b[0m     ax\u001b[39m.\u001b[39mscatter(\u001b[39mrange\u001b[39m(d), mm[:,i,j])\n\u001b[0;32m     <a href='vscode-notebook-cell:/c%3A/Users/TobiasG/Documents/warehouse_optimization/actual_code/hp_tuning_benny.ipynb#ch0000041?line=46'>47</a>\u001b[0m     plt\u001b[39m.\u001b[39msca(ax)\n",
      "\u001b[1;31mIndexError\u001b[0m: list index out of range"
     ]
    },
    {
     "data": {
      "image/png": "[encoded data removed]",
      "text/plain": [
       "<Figure size 2160x2160 with 36 Axes>"
      ]
     },
     "metadata": {},
     "output_type": "display_data"
    }
   ],
   "source": [
    "# Stig djunglar\n",
    "# aw >= 0.001\n",
    "f = plt.figure(figsize=(30, 20))\n",
    "plot_values = []\n",
    "plot_stds = []\n",
    "x_ticks = []\n",
    "for k in scores:\n",
    "    plot_values.append(np.mean(scores[k]))\n",
    "    plot_stds.append(np.std(scores[k]))\n",
    "    x_ticks.append(k)\n",
    "\n",
    "plot_values = np.asarray(plot_values)\n",
    "plot_stds = np.asarray(plot_stds)\n",
    "plot_small = []\n",
    "plot_smalls = []\n",
    "s_ks = []\n",
    "for i in range(len(plot_values)):\n",
    "    if plot_values[i] < 90:\n",
    "        plot_small.append(plot_values[i])\n",
    "        plot_smalls.append(plot_stds[i])\n",
    "        s_ks.append(list(scores.keys())[i])\n",
    "\n",
    "plot_small = np.asarray(plot_small)\n",
    "plot_smalls = np.asarray(plot_smalls)\n",
    "\n",
    "plt.scatter(range(len(x_ticks)), plot_values, marker='.')\n",
    "plt.plot(range(len(x_ticks)), plot_values + plot_stds, marker='.')\n",
    "plt.plot(range(len(x_ticks)), plot_values - plot_stds, marker='.')\n",
    "plt.xticks(range(len(x_ticks)), x_ticks, rotation=90)\n",
    "plt.savefig('ear_tuning_1e-9_1e6.png', dpi=400)\n",
    "plt.show()\n",
    "\n",
    "f_small = plt.figure()\n",
    "plt.scatter(range(len(s_ks)), plot_small, marker='.')\n",
    "plt.plot(range(len(s_ks)), plot_small + plot_smalls, marker='.')\n",
    "plt.plot(range(len(s_ks)), plot_small - plot_smalls, marker='.')\n",
    "plt.xticks(range(len(s_ks)), s_ks, rotation=90)\n",
    "plt.show()\n",
    "\n",
    "f_dw, axs = plt.subplots(6,6, sharey=True, figsize=(30,30))\n",
    "\n",
    "for i in range(d):\n",
    "    for j in range(d):\n",
    "        ax = axs[i,j]\n",
    "        ax.set_title(f'aw={aws[i]}, p={ps[j]}')\n",
    "        ax.scatter(range(d), mm[:,i,j])\n",
    "        plt.sca(ax)\n",
    "        plt.xticks(range(d), dws, rotation=90)\n",
    "plt.show()\n"
   ]
  },
  {
   "cell_type": "code",
   "execution_count": null,
   "metadata": {},
   "outputs": [
    {
     "name": "stdout",
     "output_type": "stream",
     "text": [
      "('samsung galaxy s10 s10 plus kameraglas svart', defaultdict(<class 'list'>, {'samsung galaxy s10 s10 plus tejp kameralins': [0.0], 'samsung galaxy s10 s10 plus kameraglas svart': [982.0258462713592, 982.025846271359], 'copter screenprotector samsung galaxy s10 plus': [973.387030953936], 'copter exoglass curved skärmskydd samsung gala': [222.97189145482534]}))\n",
      "('samsung galaxy s10 s10 plus kameraglas svart', defaultdict(<class 'list'>, {'samsung galaxy s10 s10 plus tejp kameralins': [0.10704285714285716], 'samsung galaxy s10 s10 plus kameraglas svart': [982.0258462713592, 982.025846271359], 'copter screenprotector samsung galaxy s10 plus': [973.387030953936], 'copter exoglass curved skärmskydd samsung gala': [222.97189145482534]}))\n",
      "('samsung galaxy s10 s10 plus kameraglas svart', defaultdict(<class 'list'>, {'samsung galaxy s10 s10 plus tejp kameralins': [1.0704285714285715], 'samsung galaxy s10 s10 plus kameraglas svart': [982.0258462713592, 982.025846271359], 'copter screenprotector samsung galaxy s10 plus': [973.387030953936], 'copter exoglass curved skärmskydd samsung gala': [222.97189145482534]}))\n",
      "('samsung galaxy s10 s10 plus kameraglas svart', defaultdict(<class 'list'>, {'samsung galaxy s10 s10 plus tejp kameralins': [10.704285714285716], 'samsung galaxy s10 s10 plus kameraglas svart': [982.0258462713592, 982.025846271359], 'copter screenprotector samsung galaxy s10 plus': [973.387030953936], 'copter exoglass curved skärmskydd samsung gala': [222.97189145482534]}))\n",
      "('samsung galaxy s10 s10 plus kameraglas svart', defaultdict(<class 'list'>, {'samsung galaxy s10 s10 plus tejp kameralins': [107.04285714285716], 'samsung galaxy s10 s10 plus kameraglas svart': [982.0258462713592, 982.025846271359], 'copter screenprotector samsung galaxy s10 plus': [973.387030953936], 'copter exoglass curved skärmskydd samsung gala': [222.97189145482534]}))\n",
      "('samsung galaxy s10 s10 plus kameraglas svart', defaultdict(<class 'list'>, {'samsung galaxy s10 s10 plus tejp kameralins': [1070.4285714285716], 'samsung galaxy s10 s10 plus kameraglas svart': [982.0258462713592, 982.025846271359], 'copter screenprotector samsung galaxy s10 plus': [973.387030953936], 'copter exoglass curved skärmskydd samsung gala': [222.97189145482534]}))\n",
      "('samsung galaxy s10 s10 plus kameraglas svart', defaultdict(<class 'list'>, {'samsung galaxy s10 s10 plus tejp kameralins': [10704.285714285716], 'samsung galaxy s10 s10 plus kameraglas svart': [982.0258462713592, 982.025846271359], 'copter screenprotector samsung galaxy s10 plus': [973.387030953936], 'copter exoglass curved skärmskydd samsung gala': [222.97189145482534]}))\n",
      "('samsung galaxy s10 s10 plus kameraglas svart', defaultdict(<class 'list'>, {'samsung galaxy s10 s10 plus tejp kameralins': [107042.85714285716], 'samsung galaxy s10 s10 plus kameraglas svart': [982.0258462713592, 982.025846271359], 'copter screenprotector samsung galaxy s10 plus': [973.387030953936], 'copter exoglass curved skärmskydd samsung gala': [222.97189145482534]}))\n",
      "('samsung galaxy s10 s10 plus kameraglas svart', defaultdict(<class 'list'>, {'samsung galaxy s10 s10 plus tejp kameralins': [1070428.5714285716], 'samsung galaxy s10 s10 plus kameraglas svart': [982.0258462713592, 982.025846271359], 'copter screenprotector samsung galaxy s10 plus': [973.387030953936], 'copter exoglass curved skärmskydd samsung gala': [222.97189145482534]}))\n",
      "('samsung galaxy s10 s10 plus kameraglas svart', defaultdict(<class 'list'>, {'samsung galaxy s10 s10 plus tejp kameralins': [10704285.714285716], 'samsung galaxy s10 s10 plus kameraglas svart': [982.0258462713592, 982.025846271359], 'copter screenprotector samsung galaxy s10 plus': [973.387030953936], 'copter exoglass curved skärmskydd samsung gala': [222.97189145482534]}))\n"
     ]
    }
   ],
   "source": [
    "for parallel_weight in parallel_weights:\n",
    "    f = open(f'../../Test code/Data/Rules/ear_rules_single_scores_k{k}_r{r}_cv{0}_parallel{parallel_weight}.pkl', 'rb')\n",
    "    rules = pickle.load(f)\n",
    "    f.close()\n",
    "    print(list(rules.items())[0])"
   ]
  },
  {
   "cell_type": "markdown",
   "metadata": {},
   "source": [
    "# Oklart"
   ]
  },
  {
   "cell_type": "code",
   "execution_count": null,
   "metadata": {},
   "outputs": [
    {
     "name": "stderr",
     "output_type": "stream",
     "text": [
      "  0%|          | 0/4 [00:00<?, ?it/s]"
     ]
    },
    {
     "name": "stdout",
     "output_type": "stream",
     "text": [
      "6317\n",
      "[127, 670, 2202, 2675, 3000]\n"
     ]
    },
    {
     "name": "stderr",
     "output_type": "stream",
     "text": [
      " 25%|██▌       | 1/4 [00:29<01:28, 29.57s/it]"
     ]
    },
    {
     "name": "stdout",
     "output_type": "stream",
     "text": [
      "6292\n",
      "[138, 682, 2201, 2700, 3025]\n"
     ]
    },
    {
     "name": "stderr",
     "output_type": "stream",
     "text": [
      " 50%|█████     | 2/4 [00:48<00:47, 23.52s/it]"
     ]
    },
    {
     "name": "stdout",
     "output_type": "stream",
     "text": [
      "6946\n",
      "[]\n"
     ]
    },
    {
     "name": "stderr",
     "output_type": "stream",
     "text": [
      " 75%|███████▌  | 3/4 [01:34<00:33, 33.70s/it]"
     ]
    },
    {
     "name": "stdout",
     "output_type": "stream",
     "text": [
      "7169\n",
      "[]\n"
     ]
    },
    {
     "name": "stderr",
     "output_type": "stream",
     "text": [
      "100%|██████████| 4/4 [01:56<00:00, 29.01s/it]"
     ]
    },
    {
     "name": "stdout",
     "output_type": "stream",
     "text": [
      "99.94109999999999\n"
     ]
    },
    {
     "name": "stderr",
     "output_type": "stream",
     "text": [
      "\n"
     ]
    }
   ],
   "source": [
    "n_orders=20000\n",
    "average_distance_travelled = 0\n",
    "for cv_index in tqdm(range(4)):\n",
    "    data = load_data(f'../../Test code/Data/{n_orders}_orders/data_{cv_index}.pkl')\n",
    "    train_df, test_df, train_supports, train_unique, all_unique, train_orders, vectorizer = data\n",
    "    bow = vectorizer.get_sparse_bow_embeddings(list(all_unique), save_path=f'../Data/sparse_bow_{n_orders}_cv{cv_index}.pkl')  \n",
    "    train_articles = create_articles(train_supports, ar_weight=0, ear_weight=0, nn_weight=0)\n",
    "    solution = run_greedy(articles=train_articles, layout=layout, distance_weight=1, rule_weight=0, rule_weight_for_article_scores=0, penalty_weight=0, verbose=False, hp_tuning=False)\n",
    "    average_distance_travelled += evaluate_solution_for_greedy(solution, test_df, layout, batch_size=1, verbose=False)\n",
    "print(average_distance_travelled/4)\n"
   ]
  },
  {
   "cell_type": "markdown",
   "metadata": {},
   "source": [
    "# Plots"
   ]
  },
  {
   "cell_type": "code",
   "execution_count": null,
   "metadata": {},
   "outputs": [
    {
     "name": "stdout",
     "output_type": "stream",
     "text": [
      "[[70.7999 70.7999 70.7999 70.7999 70.7999 70.7999 70.7999 70.7999 70.7999]\n",
      " [70.5585 71.7893 71.8099 71.097  70.8741 70.5838 70.2296 70.1362 69.9008]\n",
      " [71.3666 71.1496 70.8482 70.73   69.3102 69.9579 67.6261 65.8809 64.9763]\n",
      " [70.7778 71.0942 70.235  69.538  68.4947 65.811  63.3768 62.5292 63.9912]\n",
      " [70.5571 71.0108 69.6682 67.2103 63.706  63.3241 63.8973 62.792  66.4889]\n",
      " [71.162  70.8438 69.9104 64.3365 63.1833 63.0839 63.561  65.1108 66.5861]\n",
      " [71.4201 70.1837 67.3436 64.6505 63.7281 63.4825 66.5318 66.7151 67.7487]\n",
      " [71.1478 70.2821 64.3565 64.701  62.6935 65.6052 67.3527 67.6614 68.2119]\n",
      " [71.0534 69.9921 64.975  66.073  64.7294 67.2683 68.099  67.7384 67.5627]]\n"
     ]
    },
    {
     "data": {
      "image/png": "[encoded data removed]",
      "text/plain": [
       "<Figure size 1440x720 with 4 Axes>"
      ]
     },
     "metadata": {},
     "output_type": "display_data"
    }
   ],
   "source": [
    "# Optimal values: gamma = 0.75, delta = 1.75! (equivalent to only gamma = 1.3125...)\n",
    "# k = 4, beta = 0.01, gamma and delta between 0 and 2, single_word_scores\n",
    "total_results = []\n",
    "r0 = pd.read_excel(f'../Data/Results/ear_gamma{np.linspace(0,2,9)}_delta{np.linspace(0,2,9)}_k4_cv0.xlsx', index_col=0).to_numpy()\n",
    "r1 = pd.read_excel(f'../Data/Results/ear_gamma{np.linspace(0,2,9)}_delta{np.linspace(0,2,9)}_k4_cv1.xlsx', index_col=0).to_numpy()\n",
    "r2 = pd.read_excel(f'../Data/Results/ear_gamma{np.linspace(0,2,9)}_delta{np.linspace(0,2,9)}_k4_cv2.xlsx', index_col=0).to_numpy()\n",
    "r3 = pd.read_excel(f'../Data/Results/ear_gamma{np.linspace(0,2,9)}_delta{np.linspace(0,2,9)}_k4_cv3.xlsx', index_col=0).to_numpy()\n",
    "\n",
    "for i in range(r0.shape[0]):\n",
    "    for j in range(r0.shape[1]):\n",
    "        total_results.append([r0[i,j], r1[i,j], r2[i,j], r3[i,j]])\n",
    "res = np.reshape(np.array(total_results), newshape=(r0.shape[0], r0.shape[1], 4))\n",
    "means = np.mean(res, axis=2)\n",
    "fig, axes = plt.subplots(1, 2, figsize=(20, 10))\n",
    "sns.heatmap(means, ax=axes[0], square=True)\n",
    "stds = np.std(res, axis=2)\n",
    "stds[8, 3] =2\n",
    "sns.heatmap(stds, ax=axes[1], square=True)\n",
    "print(means)\n"
   ]
  },
  {
   "cell_type": "code",
   "execution_count": null,
   "metadata": {},
   "outputs": [
    {
     "name": "stdout",
     "output_type": "stream",
     "text": [
      "[[63.4145 63.4895 62.5935 63.8645 63.8025]\n",
      " [64.8182 64.3536 63.8962 64.5184 64.1444]\n",
      " [64.8182 64.3536 63.8962 64.5184 64.1444]\n",
      " [64.8182 64.3536 63.8962 64.5184 64.1444]]\n"
     ]
    },
    {
     "data": {
      "image/png": "[encoded data removed]",
      "text/plain": [
       "<Figure size 1440x720 with 4 Axes>"
      ]
     },
     "metadata": {},
     "output_type": "display_data"
    }
   ],
   "source": [
    "total_results = []\n",
    "r0 = pd.read_excel(f'../Data/Results/ear_k{ks}_r{rs}_k4_cv0.xlsx', index_col=0).to_numpy()\n",
    "r1 = pd.read_excel(f'../Data/Results/ear_k{ks}_r{rs}_k4_cv1.xlsx', index_col=0).to_numpy()\n",
    "r2 = pd.read_excel(f'../Data/Results/ear_k{ks}_r{rs}_k4_cv2.xlsx', index_col=0).to_numpy()\n",
    "r3 = pd.read_excel(f'../Data/Results/ear_k{ks}_r{rs}_k4_cv3.xlsx', index_col=0).to_numpy()\n",
    "\n",
    "for i in range(r0.shape[0]):\n",
    "    for j in range(r0.shape[1]):\n",
    "        total_results.append([r0[i,j], r1[i,j], r2[i,j], r3[i,j]])\n",
    "res = np.reshape(np.array(total_results), newshape=(r0.shape[0], r0.shape[1], 4))\n",
    "means = np.mean(res, axis=2)\n",
    "fig, axes = plt.subplots(1, 2, figsize=(20, 10))\n",
    "sns.heatmap(means, ax=axes[0], square=True)\n",
    "stds = np.std(res, axis=2)\n",
    "# stds[8, 3] =2\n",
    "sns.heatmap(stds, ax=axes[1], square=True)\n",
    "print(means)\n"
   ]
  },
  {
   "cell_type": "code",
   "execution_count": null,
   "metadata": {},
   "outputs": [
    {
     "name": "stdout",
     "output_type": "stream",
     "text": [
      "[[70.4813 70.3094 70.1503 71.2913 69.9583 69.9987 70.689  70.6798]\n",
      " [70.9524 69.5104 69.9898 70.1437 70.1902 67.7766 67.7032 66.361 ]\n",
      " [70.4038 69.521  69.9359 69.084  66.957  66.1699 64.8578 64.3817]\n",
      " [69.9314 70.9489 69.6698 66.0768 64.4484 64.7803 63.3869 65.6373]\n",
      " [69.4307 69.7765 65.9676 63.2132 63.866  64.9465 65.6554 64.3317]\n",
      " [69.5976 69.5187 66.0927 64.1071 64.6812 64.979  64.0041 65.6653]\n",
      " [70.459  67.6103 64.3229 64.5008 65.5307 63.7385 63.9462 65.0745]\n",
      " [70.2339 66.1696 63.8068 64.8288 64.5171 65.1245 65.3504 65.1459]]\n"
     ]
    },
    {
     "data": {
      "image/png": "[encoded data removed]",
      "text/plain": [
       "<Figure size 1440x720 with 4 Axes>"
      ]
     },
     "metadata": {},
     "output_type": "display_data"
    }
   ],
   "source": [
    "total_results = []\n",
    "r0 = pd.read_excel(f'../Data/Results/ear_pair_scores_gamma[0.25 0.5  0.75 1.   1.25 1.5  1.75 2.  ]_delta[0.25 0.5  0.75 1.   1.25 1.5  1.75 2.  ]_k4_cv0.xlsx', index_col=0).to_numpy()\n",
    "r1 = pd.read_excel(f'../Data/Results/ear_pair_scores_gamma[0.25 0.5  0.75 1.   1.25 1.5  1.75 2.  ]_delta[0.25 0.5  0.75 1.   1.25 1.5  1.75 2.  ]_k4_cv1.xlsx', index_col=0).to_numpy()\n",
    "r2 = pd.read_excel(f'../Data/Results/ear_pair_scores_gamma[0.25 0.5  0.75 1.   1.25 1.5  1.75 2.  ]_delta[0.25 0.5  0.75 1.   1.25 1.5  1.75 2.  ]_k4_cv2.xlsx', index_col=0).to_numpy()\n",
    "r3 = pd.read_excel(f'../Data/Results/ear_pair_scores_gamma[0.25 0.5  0.75 1.   1.25 1.5  1.75 2.  ]_delta[0.25 0.5  0.75 1.   1.25 1.5  1.75 2.  ]_k4_cv3.xlsx', index_col=0).to_numpy()\n",
    "\n",
    "for i in range(r0.shape[0]):\n",
    "    for j in range(r0.shape[1]):\n",
    "        total_results.append([r0[i,j], r1[i,j], r2[i,j], r3[i,j]])\n",
    "res = np.reshape(np.array(total_results), newshape=(r0.shape[0], r0.shape[1], 4))\n",
    "means = np.mean(res, axis=2)\n",
    "fig, axes = plt.subplots(1, 2, figsize=(20, 10))\n",
    "sns.heatmap(means, ax=axes[0], square=True)\n",
    "stds = np.std(res, axis=2)\n",
    "# stds[8, 3] =2\n",
    "sns.heatmap(stds, ax=axes[1], square=True)\n",
    "print(means)"
   ]
  },
  {
   "cell_type": "code",
   "execution_count": null,
   "metadata": {},
   "outputs": [
    {
     "ename": "ValueError",
     "evalue": "The number of FixedLocator locations (64), usually from a call to set_ticks, does not match the number of ticklabels (42).",
     "output_type": "error",
     "traceback": [
      "\u001b[1;31m---------------------------------------------------------------------------\u001b[0m",
      "\u001b[1;31mValueError\u001b[0m                                Traceback (most recent call last)",
      "\u001b[1;32mc:\\Users\\TobiasG\\Documents\\warehouse_optimization\\actual_code\\hp_tuning_benny.ipynb Cell 33'\u001b[0m in \u001b[0;36m<cell line: 11>\u001b[1;34m()\u001b[0m\n\u001b[0;32m      <a href='vscode-notebook-cell:/c%3A/Users/TobiasG/Documents/warehouse_optimization/actual_code/hp_tuning_benny.ipynb#ch0000028?line=8'>9</a>\u001b[0m     \u001b[39mfor\u001b[39;00m delta \u001b[39min\u001b[39;00m deltas:\n\u001b[0;32m     <a href='vscode-notebook-cell:/c%3A/Users/TobiasG/Documents/warehouse_optimization/actual_code/hp_tuning_benny.ipynb#ch0000028?line=9'>10</a>\u001b[0m         ticks\u001b[39m.\u001b[39mappend(\u001b[39mstr\u001b[39m(gamma) \u001b[39m+\u001b[39m \u001b[39m'\u001b[39m\u001b[39m, \u001b[39m\u001b[39m'\u001b[39m \u001b[39m+\u001b[39m \u001b[39mstr\u001b[39m(delta))\n\u001b[1;32m---> <a href='vscode-notebook-cell:/c%3A/Users/TobiasG/Documents/warehouse_optimization/actual_code/hp_tuning_benny.ipynb#ch0000028?line=10'>11</a>\u001b[0m plt\u001b[39m.\u001b[39;49mxticks(np\u001b[39m.\u001b[39;49marange(length), ticks, rotation\u001b[39m=\u001b[39;49m\u001b[39m90\u001b[39;49m)\n\u001b[0;32m     <a href='vscode-notebook-cell:/c%3A/Users/TobiasG/Documents/warehouse_optimization/actual_code/hp_tuning_benny.ipynb#ch0000028?line=11'>12</a>\u001b[0m plt\u001b[39m.\u001b[39mshow()\n",
      "File \u001b[1;32m~\\Anaconda3\\envs\\exjobb\\lib\\site-packages\\matplotlib\\pyplot.py:1795\u001b[0m, in \u001b[0;36mxticks\u001b[1;34m(ticks, labels, **kwargs)\u001b[0m\n\u001b[0;32m   <a href='file:///c%3A/Users/TobiasG/Anaconda3/envs/exjobb/lib/site-packages/matplotlib/pyplot.py?line=1792'>1793</a>\u001b[0m         l\u001b[39m.\u001b[39mupdate(kwargs)\n\u001b[0;32m   <a href='file:///c%3A/Users/TobiasG/Anaconda3/envs/exjobb/lib/site-packages/matplotlib/pyplot.py?line=1793'>1794</a>\u001b[0m \u001b[39melse\u001b[39;00m:\n\u001b[1;32m-> <a href='file:///c%3A/Users/TobiasG/Anaconda3/envs/exjobb/lib/site-packages/matplotlib/pyplot.py?line=1794'>1795</a>\u001b[0m     labels \u001b[39m=\u001b[39m ax\u001b[39m.\u001b[39mset_xticklabels(labels, \u001b[39m*\u001b[39m\u001b[39m*\u001b[39mkwargs)\n\u001b[0;32m   <a href='file:///c%3A/Users/TobiasG/Anaconda3/envs/exjobb/lib/site-packages/matplotlib/pyplot.py?line=1796'>1797</a>\u001b[0m \u001b[39mreturn\u001b[39;00m locs, labels\n",
      "File \u001b[1;32m~\\Anaconda3\\envs\\exjobb\\lib\\site-packages\\matplotlib\\axes\\_base.py:75\u001b[0m, in \u001b[0;36m_axis_method_wrapper.__set_name__.<locals>.wrapper\u001b[1;34m(self, *args, **kwargs)\u001b[0m\n\u001b[0;32m     <a href='file:///c%3A/Users/TobiasG/Anaconda3/envs/exjobb/lib/site-packages/matplotlib/axes/_base.py?line=73'>74</a>\u001b[0m \u001b[39mdef\u001b[39;00m \u001b[39mwrapper\u001b[39m(\u001b[39mself\u001b[39m, \u001b[39m*\u001b[39margs, \u001b[39m*\u001b[39m\u001b[39m*\u001b[39mkwargs):\n\u001b[1;32m---> <a href='file:///c%3A/Users/TobiasG/Anaconda3/envs/exjobb/lib/site-packages/matplotlib/axes/_base.py?line=74'>75</a>\u001b[0m     \u001b[39mreturn\u001b[39;00m get_method(\u001b[39mself\u001b[39m)(\u001b[39m*\u001b[39margs, \u001b[39m*\u001b[39m\u001b[39m*\u001b[39mkwargs)\n",
      "File \u001b[1;32m~\\Anaconda3\\envs\\exjobb\\lib\\site-packages\\matplotlib\\axis.py:1798\u001b[0m, in \u001b[0;36mAxis._set_ticklabels\u001b[1;34m(self, labels, fontdict, minor, **kwargs)\u001b[0m\n\u001b[0;32m   <a href='file:///c%3A/Users/TobiasG/Anaconda3/envs/exjobb/lib/site-packages/matplotlib/axis.py?line=1795'>1796</a>\u001b[0m \u001b[39mif\u001b[39;00m fontdict \u001b[39mis\u001b[39;00m \u001b[39mnot\u001b[39;00m \u001b[39mNone\u001b[39;00m:\n\u001b[0;32m   <a href='file:///c%3A/Users/TobiasG/Anaconda3/envs/exjobb/lib/site-packages/matplotlib/axis.py?line=1796'>1797</a>\u001b[0m     kwargs\u001b[39m.\u001b[39mupdate(fontdict)\n\u001b[1;32m-> <a href='file:///c%3A/Users/TobiasG/Anaconda3/envs/exjobb/lib/site-packages/matplotlib/axis.py?line=1797'>1798</a>\u001b[0m \u001b[39mreturn\u001b[39;00m \u001b[39mself\u001b[39m\u001b[39m.\u001b[39mset_ticklabels(labels, minor\u001b[39m=\u001b[39mminor, \u001b[39m*\u001b[39m\u001b[39m*\u001b[39mkwargs)\n",
      "File \u001b[1;32m~\\Anaconda3\\envs\\exjobb\\lib\\site-packages\\matplotlib\\axis.py:1720\u001b[0m, in \u001b[0;36mAxis.set_ticklabels\u001b[1;34m(self, ticklabels, minor, **kwargs)\u001b[0m\n\u001b[0;32m   <a href='file:///c%3A/Users/TobiasG/Anaconda3/envs/exjobb/lib/site-packages/matplotlib/axis.py?line=1715'>1716</a>\u001b[0m \u001b[39mif\u001b[39;00m \u001b[39misinstance\u001b[39m(locator, mticker\u001b[39m.\u001b[39mFixedLocator):\n\u001b[0;32m   <a href='file:///c%3A/Users/TobiasG/Anaconda3/envs/exjobb/lib/site-packages/matplotlib/axis.py?line=1716'>1717</a>\u001b[0m     \u001b[39m# Passing [] as a list of ticklabels is often used as a way to\u001b[39;00m\n\u001b[0;32m   <a href='file:///c%3A/Users/TobiasG/Anaconda3/envs/exjobb/lib/site-packages/matplotlib/axis.py?line=1717'>1718</a>\u001b[0m     \u001b[39m# remove all tick labels, so only error for > 0 ticklabels\u001b[39;00m\n\u001b[0;32m   <a href='file:///c%3A/Users/TobiasG/Anaconda3/envs/exjobb/lib/site-packages/matplotlib/axis.py?line=1718'>1719</a>\u001b[0m     \u001b[39mif\u001b[39;00m \u001b[39mlen\u001b[39m(locator\u001b[39m.\u001b[39mlocs) \u001b[39m!=\u001b[39m \u001b[39mlen\u001b[39m(ticklabels) \u001b[39mand\u001b[39;00m \u001b[39mlen\u001b[39m(ticklabels) \u001b[39m!=\u001b[39m \u001b[39m0\u001b[39m:\n\u001b[1;32m-> <a href='file:///c%3A/Users/TobiasG/Anaconda3/envs/exjobb/lib/site-packages/matplotlib/axis.py?line=1719'>1720</a>\u001b[0m         \u001b[39mraise\u001b[39;00m \u001b[39mValueError\u001b[39;00m(\n\u001b[0;32m   <a href='file:///c%3A/Users/TobiasG/Anaconda3/envs/exjobb/lib/site-packages/matplotlib/axis.py?line=1720'>1721</a>\u001b[0m             \u001b[39m\"\u001b[39m\u001b[39mThe number of FixedLocator locations\u001b[39m\u001b[39m\"\u001b[39m\n\u001b[0;32m   <a href='file:///c%3A/Users/TobiasG/Anaconda3/envs/exjobb/lib/site-packages/matplotlib/axis.py?line=1721'>1722</a>\u001b[0m             \u001b[39mf\u001b[39m\u001b[39m\"\u001b[39m\u001b[39m (\u001b[39m\u001b[39m{\u001b[39;00m\u001b[39mlen\u001b[39m(locator\u001b[39m.\u001b[39mlocs)\u001b[39m}\u001b[39;00m\u001b[39m), usually from a call to\u001b[39m\u001b[39m\"\u001b[39m\n\u001b[0;32m   <a href='file:///c%3A/Users/TobiasG/Anaconda3/envs/exjobb/lib/site-packages/matplotlib/axis.py?line=1722'>1723</a>\u001b[0m             \u001b[39m\"\u001b[39m\u001b[39m set_ticks, does not match\u001b[39m\u001b[39m\"\u001b[39m\n\u001b[0;32m   <a href='file:///c%3A/Users/TobiasG/Anaconda3/envs/exjobb/lib/site-packages/matplotlib/axis.py?line=1723'>1724</a>\u001b[0m             \u001b[39mf\u001b[39m\u001b[39m\"\u001b[39m\u001b[39m the number of ticklabels (\u001b[39m\u001b[39m{\u001b[39;00m\u001b[39mlen\u001b[39m(ticklabels)\u001b[39m}\u001b[39;00m\u001b[39m).\u001b[39m\u001b[39m\"\u001b[39m)\n\u001b[0;32m   <a href='file:///c%3A/Users/TobiasG/Anaconda3/envs/exjobb/lib/site-packages/matplotlib/axis.py?line=1724'>1725</a>\u001b[0m     tickd \u001b[39m=\u001b[39m {loc: lab \u001b[39mfor\u001b[39;00m loc, lab \u001b[39min\u001b[39;00m \u001b[39mzip\u001b[39m(locator\u001b[39m.\u001b[39mlocs, ticklabels)}\n\u001b[0;32m   <a href='file:///c%3A/Users/TobiasG/Anaconda3/envs/exjobb/lib/site-packages/matplotlib/axis.py?line=1725'>1726</a>\u001b[0m     func \u001b[39m=\u001b[39m functools\u001b[39m.\u001b[39mpartial(\u001b[39mself\u001b[39m\u001b[39m.\u001b[39m_format_with_dict, tickd)\n",
      "\u001b[1;31mValueError\u001b[0m: The number of FixedLocator locations (64), usually from a call to set_ticks, does not match the number of ticklabels (42)."
     ]
    },
    {
     "data": {
      "image/png": "[encoded data removed]",
      "text/plain": [
       "<Figure size 1440x1440 with 1 Axes>"
      ]
     },
     "metadata": {},
     "output_type": "display_data"
    }
   ],
   "source": [
    "length = means.shape[0]*means.shape[1]\n",
    "f = plt.figure(1, figsize=(20, 20))\n",
    "plt.scatter(np.arange(length), means)\n",
    "plt.plot(np.arange(length), np.reshape(means + stds, -1))\n",
    "plt.plot(np.arange(length), np.reshape(means - stds, -1))\n",
    "\n",
    "ticks = []\n",
    "for gamma in gammas:\n",
    "    for delta in deltas:\n",
    "        ticks.append(str(gamma) + ', ' + str(delta))\n",
    "plt.xticks(np.arange(length), ticks, rotation=90)\n",
    "plt.show()"
   ]
  },
  {
   "cell_type": "code",
   "execution_count": null,
   "metadata": {},
   "outputs": [
    {
     "name": "stdout",
     "output_type": "stream",
     "text": [
      "582306.9999999949\n"
     ]
    }
   ],
   "source": [
    "gamma = 1e-15\n",
    "delta = 1e-15\n",
    "train_df, test_df, train_supports, train_unique, all_unique, train_orders, vectorizer = data\n",
    "words = vectorizer.cv.get_feature_names_out()\n",
    "word_scores, single_word_scores, word_frequencies = calculate_word_scores(train_unique, \n",
    "                                                                          train_orders, \n",
    "                                                                          words, \n",
    "                                                                          gamma=gamma,\n",
    "                                                                          delta=delta)\n",
    "print(np.mean(word_scores))"
   ]
  },
  {
   "cell_type": "code",
   "execution_count": null,
   "metadata": {},
   "outputs": [
    {
     "name": "stdout",
     "output_type": "stream",
     "text": [
      "(15000, 6317)\n",
      "(15000, 6292)\n",
      "(15000, 6946)\n",
      "(15000, 7169)\n"
     ]
    }
   ],
   "source": [
    "# f = open('../Data/sparse_bow_20000_cv0.pkl', \"rb\")\n",
    "# bow = pickle.load(f)\n",
    "# f.close()\n",
    "\n",
    "for i in range(4):\n",
    "    data = load_data(f'../../Test code/Data/{n_orders}_orders/data_{i}.pkl')\n",
    "    train_df, test_df, train_supports, train_unique, all_unique, train_orders, vectorizer = data\n",
    "    print(train_df.shape)\n",
    "# print(train_df)\n",
    "# print(test_df)\n",
    "# print(len(bow.keys()))\n",
    "# print(bow.keys())\n",
    "# for w in bow['skal stativ huawei p30 pro transparent']:\n",
    "#     print(words[w])\n",
    "# print(single_word_scores[1728], single_word_scores[2533], single_word_scores[2675])\n",
    "# print(single_word_scores[2960], single_word_scores[3095], single_word_scores[3320])\n",
    "# print(np.std(single_word_scores))\n",
    "# print(len(np.unique(single_word_scores)))"
   ]
  },
  {
   "cell_type": "code",
   "execution_count": null,
   "metadata": {},
   "outputs": [
    {
     "ename": "FileNotFoundError",
     "evalue": "[Errno 2] No such file or directory: '../../Test code/Data/Rules/ear_rules_k4_unweighted_cv0.pkl'",
     "output_type": "error",
     "traceback": [
      "\u001b[1;31m---------------------------------------------------------------------------\u001b[0m",
      "\u001b[1;31mFileNotFoundError\u001b[0m                         Traceback (most recent call last)",
      "\u001b[1;32mc:\\Users\\TobiasG\\OneDrive - Ekman & Guron AB\\Documents\\warehouse_optimization\\actual_code\\hp_tuning_benny.ipynb Cell 21'\u001b[0m in \u001b[0;36m<cell line: 4>\u001b[1;34m()\u001b[0m\n\u001b[0;32m      <a href='vscode-notebook-cell:/c%3A/Users/TobiasG/OneDrive%20-%20Ekman%20%26%20Guron%20AB/Documents/warehouse_optimization/actual_code/hp_tuning_benny.ipynb#ch0000020?line=0'>1</a>\u001b[0m \u001b[39m# print(ar_rules['skal stativ huawei p30 pro transparent'])\u001b[39;00m\n\u001b[0;32m      <a href='vscode-notebook-cell:/c%3A/Users/TobiasG/OneDrive%20-%20Ekman%20%26%20Guron%20AB/Documents/warehouse_optimization/actual_code/hp_tuning_benny.ipynb#ch0000020?line=2'>3</a>\u001b[0m save_path \u001b[39m=\u001b[39m \u001b[39m'\u001b[39m\u001b[39m../../Test code/Data/Rules/ear_rules_k4_unweighted_cv0.pkl\u001b[39m\u001b[39m'\u001b[39m\n\u001b[1;32m----> <a href='vscode-notebook-cell:/c%3A/Users/TobiasG/OneDrive%20-%20Ekman%20%26%20Guron%20AB/Documents/warehouse_optimization/actual_code/hp_tuning_benny.ipynb#ch0000020?line=3'>4</a>\u001b[0m f \u001b[39m=\u001b[39m \u001b[39mopen\u001b[39;49m(save_path, \u001b[39m\"\u001b[39;49m\u001b[39mrb\u001b[39;49m\u001b[39m\"\u001b[39;49m)\n\u001b[0;32m      <a href='vscode-notebook-cell:/c%3A/Users/TobiasG/OneDrive%20-%20Ekman%20%26%20Guron%20AB/Documents/warehouse_optimization/actual_code/hp_tuning_benny.ipynb#ch0000020?line=4'>5</a>\u001b[0m ear_rules \u001b[39m=\u001b[39m pickle\u001b[39m.\u001b[39mload(f)\n\u001b[0;32m      <a href='vscode-notebook-cell:/c%3A/Users/TobiasG/OneDrive%20-%20Ekman%20%26%20Guron%20AB/Documents/warehouse_optimization/actual_code/hp_tuning_benny.ipynb#ch0000020?line=5'>6</a>\u001b[0m f\u001b[39m.\u001b[39mclose()\n",
      "\u001b[1;31mFileNotFoundError\u001b[0m: [Errno 2] No such file or directory: '../../Test code/Data/Rules/ear_rules_k4_unweighted_cv0.pkl'"
     ]
    }
   ],
   "source": [
    "\n",
    "# print(ar_rules['skal stativ huawei p30 pro transparent'])\n",
    "\n",
    "save_path = '../../Test code/Data/Rules/ear_rules_k4_unweighted_cv0.pkl'\n",
    "f = open(save_path, \"rb\")\n",
    "ear_rules = pickle.load(f)\n",
    "f.close()\n",
    "print(ear_rules['iphone _7_ skärm lcd display vit'])\n",
    "\n",
    "# itemsets, itemsets_size_2 = generate_itemsets(train_df, min_support=0.0001)\n",
    "\n",
    "# ar_rules = compute_ar_rules(itemsets_size_2, metric='lift', min_threshold=1, \n",
    "#                             save_path=f'../Data/Rules/ar_rules_{n_orders}_cv{cv_index}.pkl')\n",
    "\n",
    "# print(ar_rules['iphone _7_ skärm lcd display vit'])\n",
    "# print(train_df.columns[:100])\n",
    "\n",
    "# gamma = 1/2\n",
    "# delta = 2.0\n",
    "# save_path = f'../../Test code/Data/Rules_04_28/ear_rules_single_scores_k4_gamma{gamma}_delta{delta}_2.pkl'\n",
    "# f = open(save_path, \"rb\")\n",
    "# ear_rules = pickle.load(f)\n",
    "# f.close()\n",
    "# print(ear_rules['skal stativ huawei p30 pro transparent'])\n",
    "\n",
    "# gamma = 1.0\n",
    "# delta = 2.0\n",
    "# save_path = f'../../Test code/Data/Rules_04_28/ear_rules_single_scores_k4_gamma{gamma}_delta{delta}_2.pkl'\n",
    "# f = open(save_path, \"rb\")\n",
    "# ear_rules = pickle.load(f)\n",
    "# f.close()\n",
    "# print(ear_rules['skal stativ huawei p30 pro transparent'])"
   ]
  },
  {
   "cell_type": "markdown",
   "metadata": {},
   "source": [
    "### Parallel rules visualization\n"
   ]
  },
  {
   "cell_type": "code",
   "execution_count": null,
   "metadata": {},
   "outputs": [
    {
     "data": {
      "image/png": "[encoded data removed]",
      "text/plain": [
       "<Figure size 720x720 with 1 Axes>"
      ]
     },
     "metadata": {},
     "output_type": "display_data"
    }
   ],
   "source": [
    "scores = np.zeros((len(parallel_weights),))\n",
    "stds = np.zeros((len(parallel_weights),))\n",
    "total_df = pd.DataFrame(columns=['k', 'score_0', 'score_1', 'score_2', 'score_3'])\n",
    "for i in range(4):\n",
    "    df = pd.read_excel(f'../Data/Results/ear_k_parallel{parallel_weights}_cv{i}.xlsx')\n",
    "    df.columns = ['k', f'score_{i}']\n",
    "    total_df.loc[:, 'k'] = df['k']\n",
    "    total_df.loc[:, f'score_{i}'] = df[f'score_{i}']\n",
    "\n",
    "\n",
    "sns_df = total_df.copy(deep=True)\n",
    "\n",
    "total_df.index=total_df['k']\n",
    "total_df.drop(labels='k', axis=1, inplace=True)\n",
    "\n",
    "mean_scores = total_df.mean(axis=1)\n",
    "stds = total_df.std(axis=1)\n",
    "\n",
    "f = plt.figure()\n",
    "\n",
    "plt.plot(range(len(mean_scores)), mean_scores, marker='.')\n",
    "plt.plot(range(len(mean_scores)), mean_scores + stds, marker='x')\n",
    "plt.plot(range(len(mean_scores)), mean_scores - stds, marker='x')\n",
    "\n",
    "plt.xticks(range(len(mean_scores)), df['k'])\n",
    "plt.xlabel('k')\n",
    "plt.ylabel('Score')\n",
    "\n",
    "plt.show()\n"
   ]
  }
 ],
 "metadata": {
  "interpreter": {
   "hash": "d4fdbf519b56afa0b6c543e4f63545820f38d96cef28717ca11396e5e9a19357"
  },
  "kernelspec": {
   "display_name": "Python 3 (ipykernel)",
   "language": "python",
   "name": "python3"
  },
  "language_info": {
   "codemirror_mode": {
    "name": "ipython",
    "version": 3
   },
   "file_extension": ".py",
   "mimetype": "text/x-python",
   "name": "python",
   "nbconvert_exporter": "python",
   "pygments_lexer": "ipython3",
   "version": "3.9.7"
  }
 },
 "nbformat": 4,
 "nbformat_minor": 2
}
